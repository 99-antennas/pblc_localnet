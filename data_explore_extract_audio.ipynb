{
  "cells": [
    {
      "cell_type": "markdown",
      "metadata": {
        "id": "view-in-github",
        "colab_type": "text"
      },
      "source": [
        "<a href=\"https://colab.research.google.com/github/99-antennas/pblc_localnet/blob/master/data_explore_extract_audio.ipynb\" target=\"_parent\"><img src=\"https://colab.research.google.com/assets/colab-badge.svg\" alt=\"Open In Colab\"/></a>"
      ]
    },
    {
      "cell_type": "code",
      "execution_count": 1,
      "id": "f7340711-88b8-45da-9d42-09effa7b3c5b",
      "metadata": {
        "id": "f7340711-88b8-45da-9d42-09effa7b3c5b"
      },
      "outputs": [],
      "source": [
        "%load_ext autoreload\n",
        "%autoreload 2"
      ]
    },
    {
      "cell_type": "markdown",
      "id": "10491b14-852d-4821-9eb1-5af3d4a4a3ce",
      "metadata": {
        "id": "10491b14-852d-4821-9eb1-5af3d4a4a3ce"
      },
      "source": [
        "# INSTALL"
      ]
    },
    {
      "cell_type": "code",
      "source": [
        "!pip install aiomultiprocess"
      ],
      "metadata": {
        "id": "JYX68iHrzX2v",
        "outputId": "f37ea55b-fcf3-430c-e5f5-d6f3eda31c0c",
        "colab": {
          "base_uri": "https://localhost:8080/"
        }
      },
      "id": "JYX68iHrzX2v",
      "execution_count": 2,
      "outputs": [
        {
          "output_type": "stream",
          "name": "stdout",
          "text": [
            "Collecting aiomultiprocess\n",
            "  Downloading aiomultiprocess-0.9.0-py3-none-any.whl (17 kB)\n",
            "Installing collected packages: aiomultiprocess\n",
            "Successfully installed aiomultiprocess-0.9.0\n"
          ]
        }
      ]
    },
    {
      "cell_type": "code",
      "source": [
        "from google.colab import drive\n",
        "drive.mount('/content/drive')"
      ],
      "metadata": {
        "id": "q4vq34F-vh1i",
        "outputId": "3c83c4f4-fc8b-4bf3-b31e-17100d4adf56",
        "colab": {
          "base_uri": "https://localhost:8080/"
        }
      },
      "id": "q4vq34F-vh1i",
      "execution_count": 3,
      "outputs": [
        {
          "output_type": "stream",
          "name": "stdout",
          "text": [
            "Mounted at /content/drive\n"
          ]
        }
      ]
    },
    {
      "cell_type": "code",
      "source": [
        "# RUN ONCE\n",
        "!git clone https://github.com/99-antennas/pblc_localnet.git"
      ],
      "metadata": {
        "id": "AjBpNRRwv8qq",
        "outputId": "bc29fa07-6c77-4202-c8d6-78aeb72da09a",
        "colab": {
          "base_uri": "https://localhost:8080/"
        }
      },
      "id": "AjBpNRRwv8qq",
      "execution_count": 4,
      "outputs": [
        {
          "output_type": "stream",
          "name": "stdout",
          "text": [
            "Cloning into 'pblc_localnet'...\n",
            "remote: Enumerating objects: 3830, done.\u001b[K\n",
            "remote: Counting objects: 100% (32/32), done.\u001b[K\n",
            "remote: Compressing objects: 100% (27/27), done.\u001b[K\n",
            "remote: Total 3830 (delta 15), reused 11 (delta 5), pack-reused 3798\u001b[K\n",
            "Receiving objects: 100% (3830/3830), 52.50 MiB | 21.69 MiB/s, done.\n",
            "Resolving deltas: 100% (954/954), done.\n",
            "Updating files: 100% (3441/3441), done.\n"
          ]
        }
      ]
    },
    {
      "cell_type": "markdown",
      "id": "b9877986-8a44-4799-a2a9-21c5c9691024",
      "metadata": {
        "id": "b9877986-8a44-4799-a2a9-21c5c9691024"
      },
      "source": [
        "# IMPORTS"
      ]
    },
    {
      "cell_type": "code",
      "source": [
        "import os\n",
        "import getpass\n",
        "import json"
      ],
      "metadata": {
        "id": "-kCtylfi542q"
      },
      "id": "-kCtylfi542q",
      "execution_count": 5,
      "outputs": []
    },
    {
      "cell_type": "code",
      "source": [
        "from google.colab import files\n",
        "from google.colab import auth\n",
        "auth.authenticate_user()"
      ],
      "metadata": {
        "id": "T7Uxa9UqxrwJ"
      },
      "id": "T7Uxa9UqxrwJ",
      "execution_count": 7,
      "outputs": []
    },
    {
      "cell_type": "code",
      "source": [
        "import logging\n",
        "import os\n",
        "logger = logging.getLogger(__name__)\n",
        "logger.setLevel(logging.ERROR)"
      ],
      "metadata": {
        "id": "xZTkaHmXysiu"
      },
      "id": "xZTkaHmXysiu",
      "execution_count": null,
      "outputs": []
    },
    {
      "cell_type": "code",
      "source": [
        "# sys.path.remove('/content/pblc_localnet/src')"
      ],
      "metadata": {
        "id": "V1XCsDwgyQiX"
      },
      "id": "V1XCsDwgyQiX",
      "execution_count": null,
      "outputs": []
    },
    {
      "cell_type": "code",
      "source": [
        "# load our package\n",
        "import sys\n",
        "path_to_module = '/content/pblc_localnet/src'\n",
        "if path_to_module not in sys.path:\n",
        "  print(\"Added module to sys path.\")\n",
        "  sys.path.append(path_to_module)\n",
        "from pblc_localnet.src.load_data import load_all"
      ],
      "metadata": {
        "id": "Sg86NKk5v7X2",
        "colab": {
          "base_uri": "https://localhost:8080/"
        },
        "outputId": "11910af3-530c-4322-db01-fad4b91bcb40"
      },
      "id": "Sg86NKk5v7X2",
      "execution_count": 8,
      "outputs": [
        {
          "output_type": "stream",
          "name": "stdout",
          "text": [
            "Add module to sys path.\n"
          ]
        }
      ]
    },
    {
      "cell_type": "code",
      "execution_count": 9,
      "id": "b0bae295-2294-4bf2-b9b1-fd3cc0f91d72",
      "metadata": {
        "id": "b0bae295-2294-4bf2-b9b1-fd3cc0f91d72"
      },
      "outputs": [],
      "source": [
        "import pandas as pd\n",
        "pd.set_option(\"display.max_rows\", 3500)\n",
        "pd.set_option(\"display.max_columns\", 200)"
      ]
    },
    {
      "cell_type": "markdown",
      "id": "dfaeaafe-3adc-410c-943a-670ea8c23cab",
      "metadata": {
        "tags": [],
        "id": "dfaeaafe-3adc-410c-943a-670ea8c23cab"
      },
      "source": [
        "# CONSTANTS"
      ]
    },
    {
      "cell_type": "code",
      "execution_count": 10,
      "id": "c6729515-8bd5-4fdf-a9ba-a75eefd7c510",
      "metadata": {
        "id": "c6729515-8bd5-4fdf-a9ba-a75eefd7c510"
      },
      "outputs": [],
      "source": [
        "YEARS = range(2006, 2023)"
      ]
    },
    {
      "cell_type": "code",
      "source": [
        "DRIVE_OUTPUT = '/content/drive/MyDrive/pblc_local/output'"
      ],
      "metadata": {
        "id": "HEVVCu3356Og"
      },
      "id": "HEVVCu3356Og",
      "execution_count": 11,
      "outputs": []
    },
    {
      "cell_type": "markdown",
      "id": "c1cff885-445d-4937-8acb-1424d51a60b5",
      "metadata": {
        "id": "c1cff885-445d-4937-8acb-1424d51a60b5"
      },
      "source": [
        "# FUNCTIONS"
      ]
    },
    {
      "cell_type": "markdown",
      "id": "78fdac13-0185-41c1-b13e-3275d4581c7f",
      "metadata": {
        "id": "78fdac13-0185-41c1-b13e-3275d4581c7f"
      },
      "source": [
        "# LOAD DATA"
      ]
    },
    {
      "cell_type": "code",
      "execution_count": 16,
      "id": "b8e5dba0-4bec-4368-9669-cdd2ffa2c8db",
      "metadata": {
        "id": "b8e5dba0-4bec-4368-9669-cdd2ffa2c8db"
      },
      "outputs": [],
      "source": [
        "data_dict=load_all(years=[2022])"
      ]
    },
    {
      "cell_type": "code",
      "execution_count": 13,
      "id": "a347e7b9-6264-45d1-92ee-3d85cf7e0663",
      "metadata": {
        "scrolled": true,
        "tags": [],
        "id": "a347e7b9-6264-45d1-92ee-3d85cf7e0663",
        "outputId": "791f32a8-0483-4672-9c6b-f9a49f36eb6e",
        "colab": {
          "base_uri": "https://localhost:8080/",
          "height": 468
        }
      },
      "outputs": [
        {
          "output_type": "execute_result",
          "data": {
            "text/plain": [
              "   st_fips state_name        place_name         place_govt  place_Pres_dem2pv  \\\n",
              "0  4841980      Texas  League City city  MUNICIPAL COUNCIL                NaN   \n",
              "1  4841980      Texas  League City city  MUNICIPAL COUNCIL                NaN   \n",
              "2  4841980      Texas  League City city  MUNICIPAL COUNCIL                NaN   \n",
              "\n",
              "   place_Pres_dem2pv_last  place_Gov_dem2pv  place_Gov_dem2pv_last  \\\n",
              "0                     NaN               NaN                    NaN   \n",
              "1                     NaN               NaN                    NaN   \n",
              "2                     NaN               NaN                    NaN   \n",
              "\n",
              "   place_House_dem2pv  place_House_dem2pv_last  place_Sen_dem2pv  \\\n",
              "0                 NaN                      NaN               NaN   \n",
              "1                 NaN                      NaN               NaN   \n",
              "2                 NaN                      NaN               NaN   \n",
              "\n",
              "   place_Sen_dem2pv_last  census_2010_pop  census_2010_pop_est  \\\n",
              "0                    NaN            83560                84085   \n",
              "1                    NaN            83560                84085   \n",
              "2                    NaN            83560                84085   \n",
              "\n",
              "   census_2015_pop_est  acs_2018_white  acs_2018_black  acs_2018_hispanic  \\\n",
              "0                98312           81136            8009              20271   \n",
              "1                98312           81136            8009              20271   \n",
              "2                98312           81136            8009              20271   \n",
              "\n",
              "   acs_2018_pop                channel_id      channel_title       vid_id  \\\n",
              "0        100832  UCadNIUcS5YV31Ytn75O9DDg  Jimmy Trojanowski  JSTYbP5HvZQ   \n",
              "1        100832  UCadNIUcS5YV31Ytn75O9DDg  Jimmy Trojanowski  UbL-PG4H2kQ   \n",
              "2        100832  UCadNIUcS5YV31Ytn75O9DDg  Jimmy Trojanowski  8foq04n_dYU   \n",
              "\n",
              "                                           vid_title  \\\n",
              "0  League City Council Meeting for November 14, 2006   \n",
              "1   League City Council Meeting for October 24, 2006   \n",
              "2  League City Council Meeting for December 12, 2006   \n",
              "\n",
              "                                            vid_desc  vid_length_min  \\\n",
              "0  This file was provided for public viewing by J...      155.916667   \n",
              "1  This file was provided for public viewing by J...      149.816667   \n",
              "2  This file was provided for public viewing by J...      124.016667   \n",
              "\n",
              "  vid_upload_date  vid_livestreamed  vid_views  vid_likes  vid_dislikes  \\\n",
              "0      2011-04-25                 0          8          0             0   \n",
              "1      2011-04-25                 0         12          0             0   \n",
              "2      2011-04-25                 0          8          0             0   \n",
              "\n",
              "   vid_comments  vid_favorites meeting_date  \\\n",
              "0             0              0   2006-11-14   \n",
              "1             0              0   2006-10-24   \n",
              "2             0              0   2006-12-12   \n",
              "\n",
              "                                        caption_text  \\\n",
              "0  {00:00:21} tell me when okay fellas were up go...   \n",
              "1  {00:00:24} alright alright let's welcome every...   \n",
              "2  {00:00:41} Your Honor okay good afternoon will...   \n",
              "\n",
              "                                  caption_text_clean  channelType  \n",
              "0  {00:00:21} tell me when okay fellas were up go...  INDEPENDENT  \n",
              "1  {00:00:24} alright alright let's welcome every...  INDEPENDENT  \n",
              "2  {00:00:41} Your Honor okay good afternoon will...  INDEPENDENT  "
            ],
            "text/html": [
              "\n",
              "\n",
              "  <div id=\"df-ba6b2dba-bf19-4ee3-93af-b15229fce30e\">\n",
              "    <div class=\"colab-df-container\">\n",
              "      <div>\n",
              "<style scoped>\n",
              "    .dataframe tbody tr th:only-of-type {\n",
              "        vertical-align: middle;\n",
              "    }\n",
              "\n",
              "    .dataframe tbody tr th {\n",
              "        vertical-align: top;\n",
              "    }\n",
              "\n",
              "    .dataframe thead th {\n",
              "        text-align: right;\n",
              "    }\n",
              "</style>\n",
              "<table border=\"1\" class=\"dataframe\">\n",
              "  <thead>\n",
              "    <tr style=\"text-align: right;\">\n",
              "      <th></th>\n",
              "      <th>st_fips</th>\n",
              "      <th>state_name</th>\n",
              "      <th>place_name</th>\n",
              "      <th>place_govt</th>\n",
              "      <th>place_Pres_dem2pv</th>\n",
              "      <th>place_Pres_dem2pv_last</th>\n",
              "      <th>place_Gov_dem2pv</th>\n",
              "      <th>place_Gov_dem2pv_last</th>\n",
              "      <th>place_House_dem2pv</th>\n",
              "      <th>place_House_dem2pv_last</th>\n",
              "      <th>place_Sen_dem2pv</th>\n",
              "      <th>place_Sen_dem2pv_last</th>\n",
              "      <th>census_2010_pop</th>\n",
              "      <th>census_2010_pop_est</th>\n",
              "      <th>census_2015_pop_est</th>\n",
              "      <th>acs_2018_white</th>\n",
              "      <th>acs_2018_black</th>\n",
              "      <th>acs_2018_hispanic</th>\n",
              "      <th>acs_2018_pop</th>\n",
              "      <th>channel_id</th>\n",
              "      <th>channel_title</th>\n",
              "      <th>vid_id</th>\n",
              "      <th>vid_title</th>\n",
              "      <th>vid_desc</th>\n",
              "      <th>vid_length_min</th>\n",
              "      <th>vid_upload_date</th>\n",
              "      <th>vid_livestreamed</th>\n",
              "      <th>vid_views</th>\n",
              "      <th>vid_likes</th>\n",
              "      <th>vid_dislikes</th>\n",
              "      <th>vid_comments</th>\n",
              "      <th>vid_favorites</th>\n",
              "      <th>meeting_date</th>\n",
              "      <th>caption_text</th>\n",
              "      <th>caption_text_clean</th>\n",
              "      <th>channelType</th>\n",
              "    </tr>\n",
              "  </thead>\n",
              "  <tbody>\n",
              "    <tr>\n",
              "      <th>0</th>\n",
              "      <td>4841980</td>\n",
              "      <td>Texas</td>\n",
              "      <td>League City city</td>\n",
              "      <td>MUNICIPAL COUNCIL</td>\n",
              "      <td>NaN</td>\n",
              "      <td>NaN</td>\n",
              "      <td>NaN</td>\n",
              "      <td>NaN</td>\n",
              "      <td>NaN</td>\n",
              "      <td>NaN</td>\n",
              "      <td>NaN</td>\n",
              "      <td>NaN</td>\n",
              "      <td>83560</td>\n",
              "      <td>84085</td>\n",
              "      <td>98312</td>\n",
              "      <td>81136</td>\n",
              "      <td>8009</td>\n",
              "      <td>20271</td>\n",
              "      <td>100832</td>\n",
              "      <td>UCadNIUcS5YV31Ytn75O9DDg</td>\n",
              "      <td>Jimmy Trojanowski</td>\n",
              "      <td>JSTYbP5HvZQ</td>\n",
              "      <td>League City Council Meeting for November 14, 2006</td>\n",
              "      <td>This file was provided for public viewing by J...</td>\n",
              "      <td>155.916667</td>\n",
              "      <td>2011-04-25</td>\n",
              "      <td>0</td>\n",
              "      <td>8</td>\n",
              "      <td>0</td>\n",
              "      <td>0</td>\n",
              "      <td>0</td>\n",
              "      <td>0</td>\n",
              "      <td>2006-11-14</td>\n",
              "      <td>{00:00:21} tell me when okay fellas were up go...</td>\n",
              "      <td>{00:00:21} tell me when okay fellas were up go...</td>\n",
              "      <td>INDEPENDENT</td>\n",
              "    </tr>\n",
              "    <tr>\n",
              "      <th>1</th>\n",
              "      <td>4841980</td>\n",
              "      <td>Texas</td>\n",
              "      <td>League City city</td>\n",
              "      <td>MUNICIPAL COUNCIL</td>\n",
              "      <td>NaN</td>\n",
              "      <td>NaN</td>\n",
              "      <td>NaN</td>\n",
              "      <td>NaN</td>\n",
              "      <td>NaN</td>\n",
              "      <td>NaN</td>\n",
              "      <td>NaN</td>\n",
              "      <td>NaN</td>\n",
              "      <td>83560</td>\n",
              "      <td>84085</td>\n",
              "      <td>98312</td>\n",
              "      <td>81136</td>\n",
              "      <td>8009</td>\n",
              "      <td>20271</td>\n",
              "      <td>100832</td>\n",
              "      <td>UCadNIUcS5YV31Ytn75O9DDg</td>\n",
              "      <td>Jimmy Trojanowski</td>\n",
              "      <td>UbL-PG4H2kQ</td>\n",
              "      <td>League City Council Meeting for October 24, 2006</td>\n",
              "      <td>This file was provided for public viewing by J...</td>\n",
              "      <td>149.816667</td>\n",
              "      <td>2011-04-25</td>\n",
              "      <td>0</td>\n",
              "      <td>12</td>\n",
              "      <td>0</td>\n",
              "      <td>0</td>\n",
              "      <td>0</td>\n",
              "      <td>0</td>\n",
              "      <td>2006-10-24</td>\n",
              "      <td>{00:00:24} alright alright let's welcome every...</td>\n",
              "      <td>{00:00:24} alright alright let's welcome every...</td>\n",
              "      <td>INDEPENDENT</td>\n",
              "    </tr>\n",
              "    <tr>\n",
              "      <th>2</th>\n",
              "      <td>4841980</td>\n",
              "      <td>Texas</td>\n",
              "      <td>League City city</td>\n",
              "      <td>MUNICIPAL COUNCIL</td>\n",
              "      <td>NaN</td>\n",
              "      <td>NaN</td>\n",
              "      <td>NaN</td>\n",
              "      <td>NaN</td>\n",
              "      <td>NaN</td>\n",
              "      <td>NaN</td>\n",
              "      <td>NaN</td>\n",
              "      <td>NaN</td>\n",
              "      <td>83560</td>\n",
              "      <td>84085</td>\n",
              "      <td>98312</td>\n",
              "      <td>81136</td>\n",
              "      <td>8009</td>\n",
              "      <td>20271</td>\n",
              "      <td>100832</td>\n",
              "      <td>UCadNIUcS5YV31Ytn75O9DDg</td>\n",
              "      <td>Jimmy Trojanowski</td>\n",
              "      <td>8foq04n_dYU</td>\n",
              "      <td>League City Council Meeting for December 12, 2006</td>\n",
              "      <td>This file was provided for public viewing by J...</td>\n",
              "      <td>124.016667</td>\n",
              "      <td>2011-04-25</td>\n",
              "      <td>0</td>\n",
              "      <td>8</td>\n",
              "      <td>0</td>\n",
              "      <td>0</td>\n",
              "      <td>0</td>\n",
              "      <td>0</td>\n",
              "      <td>2006-12-12</td>\n",
              "      <td>{00:00:41} Your Honor okay good afternoon will...</td>\n",
              "      <td>{00:00:41} Your Honor okay good afternoon will...</td>\n",
              "      <td>INDEPENDENT</td>\n",
              "    </tr>\n",
              "  </tbody>\n",
              "</table>\n",
              "</div>\n",
              "      <button class=\"colab-df-convert\" onclick=\"convertToInteractive('df-ba6b2dba-bf19-4ee3-93af-b15229fce30e')\"\n",
              "              title=\"Convert this dataframe to an interactive table.\"\n",
              "              style=\"display:none;\">\n",
              "\n",
              "  <svg xmlns=\"http://www.w3.org/2000/svg\" height=\"24px\"viewBox=\"0 0 24 24\"\n",
              "       width=\"24px\">\n",
              "    <path d=\"M0 0h24v24H0V0z\" fill=\"none\"/>\n",
              "    <path d=\"M18.56 5.44l.94 2.06.94-2.06 2.06-.94-2.06-.94-.94-2.06-.94 2.06-2.06.94zm-11 1L8.5 8.5l.94-2.06 2.06-.94-2.06-.94L8.5 2.5l-.94 2.06-2.06.94zm10 10l.94 2.06.94-2.06 2.06-.94-2.06-.94-.94-2.06-.94 2.06-2.06.94z\"/><path d=\"M17.41 7.96l-1.37-1.37c-.4-.4-.92-.59-1.43-.59-.52 0-1.04.2-1.43.59L10.3 9.45l-7.72 7.72c-.78.78-.78 2.05 0 2.83L4 21.41c.39.39.9.59 1.41.59.51 0 1.02-.2 1.41-.59l7.78-7.78 2.81-2.81c.8-.78.8-2.07 0-2.86zM5.41 20L4 18.59l7.72-7.72 1.47 1.35L5.41 20z\"/>\n",
              "  </svg>\n",
              "      </button>\n",
              "\n",
              "\n",
              "\n",
              "    <div id=\"df-0f98ec52-2863-477e-a628-897d0c628a04\">\n",
              "      <button class=\"colab-df-quickchart\" onclick=\"quickchart('df-0f98ec52-2863-477e-a628-897d0c628a04')\"\n",
              "              title=\"Suggest charts.\"\n",
              "              style=\"display:none;\">\n",
              "\n",
              "<svg xmlns=\"http://www.w3.org/2000/svg\" height=\"24px\"viewBox=\"0 0 24 24\"\n",
              "     width=\"24px\">\n",
              "    <g>\n",
              "        <path d=\"M19 3H5c-1.1 0-2 .9-2 2v14c0 1.1.9 2 2 2h14c1.1 0 2-.9 2-2V5c0-1.1-.9-2-2-2zM9 17H7v-7h2v7zm4 0h-2V7h2v10zm4 0h-2v-4h2v4z\"/>\n",
              "    </g>\n",
              "</svg>\n",
              "      </button>\n",
              "    </div>\n",
              "\n",
              "<style>\n",
              "  .colab-df-quickchart {\n",
              "    background-color: #E8F0FE;\n",
              "    border: none;\n",
              "    border-radius: 50%;\n",
              "    cursor: pointer;\n",
              "    display: none;\n",
              "    fill: #1967D2;\n",
              "    height: 32px;\n",
              "    padding: 0 0 0 0;\n",
              "    width: 32px;\n",
              "  }\n",
              "\n",
              "  .colab-df-quickchart:hover {\n",
              "    background-color: #E2EBFA;\n",
              "    box-shadow: 0px 1px 2px rgba(60, 64, 67, 0.3), 0px 1px 3px 1px rgba(60, 64, 67, 0.15);\n",
              "    fill: #174EA6;\n",
              "  }\n",
              "\n",
              "  [theme=dark] .colab-df-quickchart {\n",
              "    background-color: #3B4455;\n",
              "    fill: #D2E3FC;\n",
              "  }\n",
              "\n",
              "  [theme=dark] .colab-df-quickchart:hover {\n",
              "    background-color: #434B5C;\n",
              "    box-shadow: 0px 1px 3px 1px rgba(0, 0, 0, 0.15);\n",
              "    filter: drop-shadow(0px 1px 2px rgba(0, 0, 0, 0.3));\n",
              "    fill: #FFFFFF;\n",
              "  }\n",
              "</style>\n",
              "\n",
              "    <script>\n",
              "      async function quickchart(key) {\n",
              "        const containerElement = document.querySelector('#' + key);\n",
              "        const charts = await google.colab.kernel.invokeFunction(\n",
              "            'suggestCharts', [key], {});\n",
              "      }\n",
              "    </script>\n",
              "\n",
              "      <script>\n",
              "\n",
              "function displayQuickchartButton(domScope) {\n",
              "  let quickchartButtonEl =\n",
              "    domScope.querySelector('#df-0f98ec52-2863-477e-a628-897d0c628a04 button.colab-df-quickchart');\n",
              "  quickchartButtonEl.style.display =\n",
              "    google.colab.kernel.accessAllowed ? 'block' : 'none';\n",
              "}\n",
              "\n",
              "        displayQuickchartButton(document);\n",
              "      </script>\n",
              "      <style>\n",
              "    .colab-df-container {\n",
              "      display:flex;\n",
              "      flex-wrap:wrap;\n",
              "      gap: 12px;\n",
              "    }\n",
              "\n",
              "    .colab-df-convert {\n",
              "      background-color: #E8F0FE;\n",
              "      border: none;\n",
              "      border-radius: 50%;\n",
              "      cursor: pointer;\n",
              "      display: none;\n",
              "      fill: #1967D2;\n",
              "      height: 32px;\n",
              "      padding: 0 0 0 0;\n",
              "      width: 32px;\n",
              "    }\n",
              "\n",
              "    .colab-df-convert:hover {\n",
              "      background-color: #E2EBFA;\n",
              "      box-shadow: 0px 1px 2px rgba(60, 64, 67, 0.3), 0px 1px 3px 1px rgba(60, 64, 67, 0.15);\n",
              "      fill: #174EA6;\n",
              "    }\n",
              "\n",
              "    [theme=dark] .colab-df-convert {\n",
              "      background-color: #3B4455;\n",
              "      fill: #D2E3FC;\n",
              "    }\n",
              "\n",
              "    [theme=dark] .colab-df-convert:hover {\n",
              "      background-color: #434B5C;\n",
              "      box-shadow: 0px 1px 3px 1px rgba(0, 0, 0, 0.15);\n",
              "      filter: drop-shadow(0px 1px 2px rgba(0, 0, 0, 0.3));\n",
              "      fill: #FFFFFF;\n",
              "    }\n",
              "  </style>\n",
              "\n",
              "      <script>\n",
              "        const buttonEl =\n",
              "          document.querySelector('#df-ba6b2dba-bf19-4ee3-93af-b15229fce30e button.colab-df-convert');\n",
              "        buttonEl.style.display =\n",
              "          google.colab.kernel.accessAllowed ? 'block' : 'none';\n",
              "\n",
              "        async function convertToInteractive(key) {\n",
              "          const element = document.querySelector('#df-ba6b2dba-bf19-4ee3-93af-b15229fce30e');\n",
              "          const dataTable =\n",
              "            await google.colab.kernel.invokeFunction('convertToInteractive',\n",
              "                                                     [key], {});\n",
              "          if (!dataTable) return;\n",
              "\n",
              "          const docLinkHtml = 'Like what you see? Visit the ' +\n",
              "            '<a target=\"_blank\" href=https://colab.research.google.com/notebooks/data_table.ipynb>data table notebook</a>'\n",
              "            + ' to learn more about interactive tables.';\n",
              "          element.innerHTML = '';\n",
              "          dataTable['output_type'] = 'display_data';\n",
              "          await google.colab.output.renderOutput(dataTable, element);\n",
              "          const docLink = document.createElement('div');\n",
              "          docLink.innerHTML = docLinkHtml;\n",
              "          element.appendChild(docLink);\n",
              "        }\n",
              "      </script>\n",
              "    </div>\n",
              "  </div>\n"
            ]
          },
          "metadata": {},
          "execution_count": 13
        }
      ],
      "source": [
        "data_dict[2006].head(3)"
      ]
    },
    {
      "cell_type": "markdown",
      "source": [
        "# Download video"
      ],
      "metadata": {
        "id": "sznMlFgm67IR"
      },
      "id": "sznMlFgm67IR"
    },
    {
      "cell_type": "code",
      "source": [],
      "metadata": {
        "id": "aN6TpfFF5Fqz"
      },
      "id": "aN6TpfFF5Fqz",
      "execution_count": null,
      "outputs": []
    }
  ],
  "metadata": {
    "environment": {
      "kernel": "python3",
      "name": "tf2-gpu.2-8.m108",
      "type": "gcloud",
      "uri": "gcr.io/deeplearning-platform-release/tf2-gpu.2-8:m108"
    },
    "kernelspec": {
      "display_name": "Python 3 (ipykernel)",
      "language": "python",
      "name": "python3"
    },
    "language_info": {
      "codemirror_mode": {
        "name": "ipython",
        "version": 3
      },
      "file_extension": ".py",
      "mimetype": "text/x-python",
      "name": "python",
      "nbconvert_exporter": "python",
      "pygments_lexer": "ipython3",
      "version": "3.11.2"
    },
    "colab": {
      "provenance": [],
      "toc_visible": true,
      "include_colab_link": true
    }
  },
  "nbformat": 4,
  "nbformat_minor": 5
}