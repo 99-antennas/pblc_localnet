{
  "nbformat": 4,
  "nbformat_minor": 0,
  "metadata": {
    "colab": {
      "provenance": [],
      "authorship_tag": "ABX9TyPfjA2GNegPs4VEjDdKLxiY",
      "include_colab_link": true
    },
    "kernelspec": {
      "name": "python3",
      "display_name": "Python 3"
    },
    "language_info": {
      "name": "python"
    }
  },
  "cells": [
    {
      "cell_type": "markdown",
      "metadata": {
        "id": "view-in-github",
        "colab_type": "text"
      },
      "source": [
        "<a href=\"https://colab.research.google.com/github/99-antennas/pblc_localnet/blob/master/notebooks/llama_index_setup.ipynb\" target=\"_parent\"><img src=\"https://colab.research.google.com/assets/colab-badge.svg\" alt=\"Open In Colab\"/></a>"
      ]
    },
    {
      "cell_type": "markdown",
      "source": [
        "# Installs"
      ],
      "metadata": {
        "id": "s4ga2T9oYRU2"
      }
    },
    {
      "cell_type": "code",
      "source": [
        "%load_ext autoreload\n",
        "%autoreload 2"
      ],
      "metadata": {
        "id": "6iNGxme78-UW",
        "colab": {
          "base_uri": "https://localhost:8080/"
        },
        "outputId": "27c4e91a-f4cc-4a8c-f7ab-d261bd567d04"
      },
      "execution_count": 22,
      "outputs": [
        {
          "output_type": "stream",
          "name": "stdout",
          "text": [
            "The autoreload extension is already loaded. To reload it, use:\n",
            "  %reload_ext autoreload\n"
          ]
        }
      ]
    },
    {
      "cell_type": "code",
      "execution_count": 23,
      "metadata": {
        "id": "BgIrPFyjXMOi",
        "colab": {
          "base_uri": "https://localhost:8080/"
        },
        "outputId": "a9adb55b-a81f-4ebe-e57e-56db7cf47c7d"
      },
      "outputs": [
        {
          "output_type": "stream",
          "name": "stdout",
          "text": [
            "Requirement already satisfied: llama-index in /usr/local/lib/python3.10/dist-packages (0.8.20)\n",
            "Requirement already satisfied: tiktoken in /usr/local/lib/python3.10/dist-packages (from llama-index) (0.4.0)\n",
            "Requirement already satisfied: dataclasses-json in /usr/local/lib/python3.10/dist-packages (from llama-index) (0.5.14)\n",
            "Requirement already satisfied: langchain>=0.0.262 in /usr/local/lib/python3.10/dist-packages (from llama-index) (0.0.281)\n",
            "Requirement already satisfied: sqlalchemy>=2.0.15 in /usr/local/lib/python3.10/dist-packages (from llama-index) (2.0.20)\n",
            "Requirement already satisfied: numpy in /usr/local/lib/python3.10/dist-packages (from llama-index) (1.23.5)\n",
            "Requirement already satisfied: tenacity<9.0.0,>=8.2.0 in /usr/local/lib/python3.10/dist-packages (from llama-index) (8.2.3)\n",
            "Requirement already satisfied: openai>=0.26.4 in /usr/local/lib/python3.10/dist-packages (from llama-index) (0.28.0)\n",
            "Requirement already satisfied: pandas in /usr/local/lib/python3.10/dist-packages (from llama-index) (1.5.3)\n",
            "Requirement already satisfied: urllib3<2 in /usr/local/lib/python3.10/dist-packages (from llama-index) (1.26.16)\n",
            "Requirement already satisfied: fsspec>=2023.5.0 in /usr/local/lib/python3.10/dist-packages (from llama-index) (2023.6.0)\n",
            "Requirement already satisfied: typing-inspect>=0.8.0 in /usr/local/lib/python3.10/dist-packages (from llama-index) (0.9.0)\n",
            "Requirement already satisfied: typing-extensions>=4.5.0 in /usr/local/lib/python3.10/dist-packages (from llama-index) (4.7.1)\n",
            "Requirement already satisfied: beautifulsoup4 in /usr/local/lib/python3.10/dist-packages (from llama-index) (4.11.2)\n",
            "Requirement already satisfied: nest-asyncio in /usr/local/lib/python3.10/dist-packages (from llama-index) (1.5.7)\n",
            "Requirement already satisfied: PyYAML>=5.3 in /usr/local/lib/python3.10/dist-packages (from langchain>=0.0.262->llama-index) (6.0.1)\n",
            "Requirement already satisfied: aiohttp<4.0.0,>=3.8.3 in /usr/local/lib/python3.10/dist-packages (from langchain>=0.0.262->llama-index) (3.8.5)\n",
            "Requirement already satisfied: async-timeout<5.0.0,>=4.0.0 in /usr/local/lib/python3.10/dist-packages (from langchain>=0.0.262->llama-index) (4.0.3)\n",
            "Requirement already satisfied: langsmith<0.1.0,>=0.0.21 in /usr/local/lib/python3.10/dist-packages (from langchain>=0.0.262->llama-index) (0.0.33)\n",
            "Requirement already satisfied: numexpr<3.0.0,>=2.8.4 in /usr/local/lib/python3.10/dist-packages (from langchain>=0.0.262->llama-index) (2.8.5)\n",
            "Requirement already satisfied: pydantic<3,>=1 in /usr/local/lib/python3.10/dist-packages (from langchain>=0.0.262->llama-index) (2.2.1)\n",
            "Requirement already satisfied: requests<3,>=2 in /usr/local/lib/python3.10/dist-packages (from langchain>=0.0.262->llama-index) (2.31.0)\n",
            "Requirement already satisfied: marshmallow<4.0.0,>=3.18.0 in /usr/local/lib/python3.10/dist-packages (from dataclasses-json->llama-index) (3.20.1)\n",
            "Requirement already satisfied: tqdm in /usr/local/lib/python3.10/dist-packages (from openai>=0.26.4->llama-index) (4.66.1)\n",
            "Requirement already satisfied: greenlet!=0.4.17 in /usr/local/lib/python3.10/dist-packages (from sqlalchemy>=2.0.15->llama-index) (2.0.2)\n",
            "Requirement already satisfied: mypy-extensions>=0.3.0 in /usr/local/lib/python3.10/dist-packages (from typing-inspect>=0.8.0->llama-index) (1.0.0)\n",
            "Requirement already satisfied: soupsieve>1.2 in /usr/local/lib/python3.10/dist-packages (from beautifulsoup4->llama-index) (2.4.1)\n",
            "Requirement already satisfied: python-dateutil>=2.8.1 in /usr/local/lib/python3.10/dist-packages (from pandas->llama-index) (2.8.2)\n",
            "Requirement already satisfied: pytz>=2020.1 in /usr/local/lib/python3.10/dist-packages (from pandas->llama-index) (2023.3)\n",
            "Requirement already satisfied: regex>=2022.1.18 in /usr/local/lib/python3.10/dist-packages (from tiktoken->llama-index) (2023.6.3)\n",
            "Requirement already satisfied: attrs>=17.3.0 in /usr/local/lib/python3.10/dist-packages (from aiohttp<4.0.0,>=3.8.3->langchain>=0.0.262->llama-index) (23.1.0)\n",
            "Requirement already satisfied: charset-normalizer<4.0,>=2.0 in /usr/local/lib/python3.10/dist-packages (from aiohttp<4.0.0,>=3.8.3->langchain>=0.0.262->llama-index) (3.2.0)\n",
            "Requirement already satisfied: multidict<7.0,>=4.5 in /usr/local/lib/python3.10/dist-packages (from aiohttp<4.0.0,>=3.8.3->langchain>=0.0.262->llama-index) (6.0.4)\n",
            "Requirement already satisfied: yarl<2.0,>=1.0 in /usr/local/lib/python3.10/dist-packages (from aiohttp<4.0.0,>=3.8.3->langchain>=0.0.262->llama-index) (1.9.2)\n",
            "Requirement already satisfied: frozenlist>=1.1.1 in /usr/local/lib/python3.10/dist-packages (from aiohttp<4.0.0,>=3.8.3->langchain>=0.0.262->llama-index) (1.4.0)\n",
            "Requirement already satisfied: aiosignal>=1.1.2 in /usr/local/lib/python3.10/dist-packages (from aiohttp<4.0.0,>=3.8.3->langchain>=0.0.262->llama-index) (1.3.1)\n",
            "Requirement already satisfied: packaging>=17.0 in /usr/local/lib/python3.10/dist-packages (from marshmallow<4.0.0,>=3.18.0->dataclasses-json->llama-index) (23.1)\n",
            "Requirement already satisfied: annotated-types>=0.4.0 in /usr/local/lib/python3.10/dist-packages (from pydantic<3,>=1->langchain>=0.0.262->llama-index) (0.5.0)\n",
            "Requirement already satisfied: pydantic-core==2.6.1 in /usr/local/lib/python3.10/dist-packages (from pydantic<3,>=1->langchain>=0.0.262->llama-index) (2.6.1)\n",
            "Requirement already satisfied: six>=1.5 in /usr/local/lib/python3.10/dist-packages (from python-dateutil>=2.8.1->pandas->llama-index) (1.16.0)\n",
            "Requirement already satisfied: idna<4,>=2.5 in /usr/local/lib/python3.10/dist-packages (from requests<3,>=2->langchain>=0.0.262->llama-index) (3.4)\n",
            "Requirement already satisfied: certifi>=2017.4.17 in /usr/local/lib/python3.10/dist-packages (from requests<3,>=2->langchain>=0.0.262->llama-index) (2023.7.22)\n",
            "Requirement already satisfied: aiomultiprocess in /usr/local/lib/python3.10/dist-packages (0.9.0)\n"
          ]
        }
      ],
      "source": [
        "!pip install llama-index\n",
        "!pip install aiomultiprocess"
      ]
    },
    {
      "cell_type": "code",
      "source": [
        "!pip install google-i18n-address==1.0.4"
      ],
      "metadata": {
        "colab": {
          "base_uri": "https://localhost:8080/"
        },
        "id": "-3cHHqY1gxhq",
        "outputId": "6382277f-081e-4ceb-d932-b1526d879421"
      },
      "execution_count": 24,
      "outputs": [
        {
          "output_type": "stream",
          "name": "stdout",
          "text": [
            "Requirement already satisfied: google-i18n-address==1.0.4 in /usr/local/lib/python3.10/dist-packages (1.0.4)\n",
            "Requirement already satisfied: requests>=2.7.0 in /usr/local/lib/python3.10/dist-packages (from google-i18n-address==1.0.4) (2.31.0)\n",
            "Requirement already satisfied: charset-normalizer<4,>=2 in /usr/local/lib/python3.10/dist-packages (from requests>=2.7.0->google-i18n-address==1.0.4) (3.2.0)\n",
            "Requirement already satisfied: idna<4,>=2.5 in /usr/local/lib/python3.10/dist-packages (from requests>=2.7.0->google-i18n-address==1.0.4) (3.4)\n",
            "Requirement already satisfied: urllib3<3,>=1.21.1 in /usr/local/lib/python3.10/dist-packages (from requests>=2.7.0->google-i18n-address==1.0.4) (1.26.16)\n",
            "Requirement already satisfied: certifi>=2017.4.17 in /usr/local/lib/python3.10/dist-packages (from requests>=2.7.0->google-i18n-address==1.0.4) (2023.7.22)\n"
          ]
        }
      ]
    },
    {
      "cell_type": "code",
      "source": [
        "from google.colab import drive\n",
        "drive.mount('/content/drive')"
      ],
      "metadata": {
        "id": "zU_RCrM37cKD",
        "colab": {
          "base_uri": "https://localhost:8080/"
        },
        "outputId": "12b7bd16-96db-4581-a2e1-f13e09f9c8d7"
      },
      "execution_count": 25,
      "outputs": [
        {
          "output_type": "stream",
          "name": "stdout",
          "text": [
            "Drive already mounted at /content/drive; to attempt to forcibly remount, call drive.mount(\"/content/drive\", force_remount=True).\n"
          ]
        }
      ]
    },
    {
      "cell_type": "code",
      "source": [
        "!git clone https://github.com/99-antennas/pblc_localnet.git"
      ],
      "metadata": {
        "id": "cl-245V46snH",
        "colab": {
          "base_uri": "https://localhost:8080/"
        },
        "outputId": "186c3993-5826-461d-a048-2f7895333f05"
      },
      "execution_count": 5,
      "outputs": [
        {
          "output_type": "stream",
          "name": "stdout",
          "text": [
            "Cloning into 'pblc_localnet'...\n",
            "remote: Enumerating objects: 3856, done.\u001b[K\n",
            "remote: Counting objects: 100% (58/58), done.\u001b[K\n",
            "remote: Compressing objects: 100% (44/44), done.\u001b[K\n",
            "remote: Total 3856 (delta 31), reused 29 (delta 14), pack-reused 3798\u001b[K\n",
            "Receiving objects: 100% (3856/3856), 52.54 MiB | 17.40 MiB/s, done.\n",
            "Resolving deltas: 100% (970/970), done.\n",
            "Updating files: 100% (3443/3443), done.\n"
          ]
        }
      ]
    },
    {
      "cell_type": "code",
      "source": [
        "!git clone https://github.com/jerryjliu/llama_index.git"
      ],
      "metadata": {
        "id": "mNJgP4_WY4cv",
        "colab": {
          "base_uri": "https://localhost:8080/"
        },
        "outputId": "ffed6f77-fbb1-415d-d347-4031554a487f"
      },
      "execution_count": 6,
      "outputs": [
        {
          "output_type": "stream",
          "name": "stdout",
          "text": [
            "Cloning into 'llama_index'...\n",
            "remote: Enumerating objects: 28252, done.\u001b[K\n",
            "remote: Counting objects: 100% (2239/2239), done.\u001b[K\n",
            "remote: Compressing objects: 100% (276/276), done.\u001b[K\n",
            "remote: Total 28252 (delta 2065), reused 2002 (delta 1963), pack-reused 26013\u001b[K\n",
            "Receiving objects: 100% (28252/28252), 63.95 MiB | 15.19 MiB/s, done.\n",
            "Resolving deltas: 100% (19582/19582), done.\n",
            "Updating files: 100% (1328/1328), done.\n"
          ]
        }
      ]
    },
    {
      "cell_type": "markdown",
      "source": [
        "# Imports"
      ],
      "metadata": {
        "id": "Hm4fK3LUYVRX"
      }
    },
    {
      "cell_type": "code",
      "source": [
        "import os\n",
        "from getpass import getpass\n",
        "import json"
      ],
      "metadata": {
        "id": "TqpRTlZLYAFj"
      },
      "execution_count": 7,
      "outputs": []
    },
    {
      "cell_type": "code",
      "source": [
        "import logging\n",
        "import os\n",
        "logger = logging.getLogger(__name__)\n",
        "logger.setLevel(logging.ERROR)"
      ],
      "metadata": {
        "id": "uGbAKti-9VI6"
      },
      "execution_count": 8,
      "outputs": []
    },
    {
      "cell_type": "code",
      "source": [
        "from google.colab import files\n",
        "from google.colab import auth\n",
        "auth.authenticate_user()"
      ],
      "metadata": {
        "id": "0hoW4HR09nVf"
      },
      "execution_count": 9,
      "outputs": []
    },
    {
      "cell_type": "code",
      "source": [
        "import pandas as pd\n",
        "pd.set_option(\"display.max_rows\", 3500)\n",
        "pd.set_option(\"display.max_columns\", 200)"
      ],
      "metadata": {
        "id": "vOmLJN659c3O"
      },
      "execution_count": 10,
      "outputs": []
    },
    {
      "cell_type": "code",
      "source": [
        "os.environ['OPENAI_API_KEY'] = getpass()"
      ],
      "metadata": {
        "id": "xnDJIWXvXf59",
        "colab": {
          "base_uri": "https://localhost:8080/"
        },
        "outputId": "07f9ed71-eef4-44aa-8e9b-c25b354248a6"
      },
      "execution_count": 11,
      "outputs": [
        {
          "name": "stdout",
          "output_type": "stream",
          "text": [
            "··········\n"
          ]
        }
      ]
    },
    {
      "cell_type": "code",
      "source": [
        "import openai"
      ],
      "metadata": {
        "id": "ik7aG0qmSOh1"
      },
      "execution_count": 12,
      "outputs": []
    },
    {
      "cell_type": "code",
      "source": [
        "assert os.environ['OPENAI_API_KEY']\n",
        "openai.api_key = os.environ['OPENAI_API_KEY']"
      ],
      "metadata": {
        "id": "ASHp_U8mSTEi"
      },
      "execution_count": 13,
      "outputs": []
    },
    {
      "cell_type": "code",
      "source": [
        "from llama_index import VectorStoreIndex, SimpleDirectoryReader, ServiceContext"
      ],
      "metadata": {
        "id": "GU-WZTebX3Mf"
      },
      "execution_count": 14,
      "outputs": []
    },
    {
      "cell_type": "code",
      "source": [
        "from llama_index.response.schema import RESPONSE_TYPE"
      ],
      "metadata": {
        "id": "d1xj89yQa1jV"
      },
      "execution_count": 15,
      "outputs": []
    },
    {
      "cell_type": "code",
      "source": [
        "data_path = \"/content/llama_index/examples/paul_graham_essay/data\""
      ],
      "metadata": {
        "id": "paYR81GiZUNg"
      },
      "execution_count": 16,
      "outputs": []
    },
    {
      "cell_type": "code",
      "source": [
        "documents = SimpleDirectoryReader(data_path).load_data()"
      ],
      "metadata": {
        "id": "zNrdTCHMZb4O"
      },
      "execution_count": 17,
      "outputs": []
    },
    {
      "cell_type": "code",
      "source": [
        "index = VectorStoreIndex.from_documents(documents)"
      ],
      "metadata": {
        "id": "abPQlt2BZfrc",
        "colab": {
          "base_uri": "https://localhost:8080/"
        },
        "outputId": "1ac4dc2d-294d-4ea6-d57f-68d37a29d115"
      },
      "execution_count": 18,
      "outputs": [
        {
          "output_type": "stream",
          "name": "stderr",
          "text": [
            "[nltk_data] Downloading package punkt to /tmp/llama_index...\n",
            "[nltk_data]   Unzipping tokenizers/punkt.zip.\n"
          ]
        }
      ]
    },
    {
      "cell_type": "code",
      "source": [
        "query_engine = index.as_query_engine()\n",
        "response = query_engine.query(\"What did the author do growing up?\")"
      ],
      "metadata": {
        "id": "HjwuKIAKZnLq"
      },
      "execution_count": 19,
      "outputs": []
    },
    {
      "cell_type": "code",
      "source": [
        "response = query_engine.query(\"What did the author do growing up?\")"
      ],
      "metadata": {
        "id": "K-ickqEOZzJa"
      },
      "execution_count": 20,
      "outputs": []
    },
    {
      "cell_type": "code",
      "source": [
        "response.get_formatted_sources()"
      ],
      "metadata": {
        "id": "4_TirpBPZ3QO",
        "colab": {
          "base_uri": "https://localhost:8080/",
          "height": 53
        },
        "outputId": "20d5b7f9-3488-47dc-a1e9-5c31a3ef513b"
      },
      "execution_count": 21,
      "outputs": [
        {
          "output_type": "execute_result",
          "data": {
            "text/plain": [
              "\"> Source (Doc id: 564433a7-1a93-4348-9d22-68922c1e1af5): That seemed unnatural to me, and on this point the rest of the world is coming around to my way o...\\n\\n> Source (Doc id: 84681a40-a81f-4728-82e9-87dc52c01e3e): There, right on the wall, was something you could make that would last.Paintings didn't become ob...\""
            ],
            "application/vnd.google.colaboratory.intrinsic+json": {
              "type": "string"
            }
          },
          "metadata": {},
          "execution_count": 21
        }
      ]
    },
    {
      "cell_type": "code",
      "source": [
        "index.storage_context"
      ],
      "metadata": {
        "id": "4EeT8d8KZ4LT",
        "colab": {
          "base_uri": "https://localhost:8080/"
        },
        "outputId": "72296dff-8993-4479-b0da-e1ba8fc0de72"
      },
      "execution_count": 26,
      "outputs": [
        {
          "output_type": "execute_result",
          "data": {
            "text/plain": [
              "StorageContext(docstore=<llama_index.storage.docstore.simple_docstore.SimpleDocumentStore object at 0x7c01811c27a0>, index_store=<llama_index.storage.index_store.simple_index_store.SimpleIndexStore object at 0x7c01811c28c0>, vector_store=<llama_index.vector_stores.simple.SimpleVectorStore object at 0x7c01811c3ee0>, graph_store=<llama_index.graph_stores.simple.SimpleGraphStore object at 0x7c01811c3a30>)"
            ]
          },
          "metadata": {},
          "execution_count": 26
        }
      ]
    },
    {
      "cell_type": "code",
      "source": [
        "index.ref_doc_info"
      ],
      "metadata": {
        "id": "wyPStIMobPqx",
        "colab": {
          "base_uri": "https://localhost:8080/"
        },
        "outputId": "22438947-613a-4597-cad1-143451efb54c"
      },
      "execution_count": 27,
      "outputs": [
        {
          "output_type": "execute_result",
          "data": {
            "text/plain": [
              "{'68e26f63-dfc2-4605-b0b6-8fb6ac12de3b': RefDocInfo(node_ids=['85674a26-2b33-414d-9d6f-4734f3b00eb1', 'f3769a9a-a662-4735-9197-a868db949b7b', '84681a40-a81f-4728-82e9-87dc52c01e3e', '99b67112-4c1f-4165-8160-2bfa3faf60d3', '564433a7-1a93-4348-9d22-68922c1e1af5', 'f3de1449-2863-4d37-91af-9b414a39ccf6', '6500e404-e67e-4cc0-bfa4-59a7da0d0a1a', 'fde08a71-b25f-4b4d-8ed9-80efbbea8e93', '4c6d568a-e453-4a4c-94f0-ff905d631627', 'c62bb054-1943-4d9b-8696-5596435cc0b5', '68813d82-566c-4fae-9219-b8adb432ffec', '59f04256-3bf7-4570-84d4-f99603458e13', 'b05e73d9-c43a-4463-8ef3-128263f4e751', 'bcaf17ce-cf78-48f7-ae1c-4b211ee91dae', 'c625b7a0-d9e8-4d7e-98d6-3f085bbec1f9', '5e5359a3-dc2e-445a-a85a-1ac2c1dc959b', 'b005aca5-82c9-499d-8fb4-8ad5c58baefc'], metadata={})}"
            ]
          },
          "metadata": {},
          "execution_count": 27
        }
      ]
    },
    {
      "cell_type": "code",
      "source": [
        "index.index_id"
      ],
      "metadata": {
        "id": "KpfSCr8-cJVW",
        "colab": {
          "base_uri": "https://localhost:8080/",
          "height": 35
        },
        "outputId": "d6e03950-2cd6-4740-d007-6ea509a48eca"
      },
      "execution_count": 28,
      "outputs": [
        {
          "output_type": "execute_result",
          "data": {
            "text/plain": [
              "'b925253c-f3f8-4a62-897e-a7862e68af6b'"
            ],
            "application/vnd.google.colaboratory.intrinsic+json": {
              "type": "string"
            }
          },
          "metadata": {},
          "execution_count": 28
        }
      ]
    },
    {
      "cell_type": "code",
      "source": [
        "retriever = index.as_retriever()"
      ],
      "metadata": {
        "id": "bSwDCNWc1Gbk"
      },
      "execution_count": 29,
      "outputs": []
    },
    {
      "cell_type": "code",
      "source": [
        "node = retriever.retrieve(\"71ec74c6-269b-46ac-87c3-d545fa5c7167\")[0]"
      ],
      "metadata": {
        "id": "Fwqs1Pu824yR"
      },
      "execution_count": 30,
      "outputs": []
    },
    {
      "cell_type": "code",
      "source": [
        "node.node.text"
      ],
      "metadata": {
        "id": "2KRjC7OK31jl",
        "colab": {
          "base_uri": "https://localhost:8080/",
          "height": 125
        },
        "outputId": "3e15afb0-9008-408d-c7e5-9a2f1eed73ec"
      },
      "execution_count": 31,
      "outputs": [
        {
          "output_type": "execute_result",
          "data": {
            "text/plain": [
              "'This low price was a big attraction, and a constant thorn in the sides of competitors, but it wasn\\'t because of some clever insight that we set the price low.We had no idea what businesses paid for things.$300 a month seemed like a lot of money to us.We did a lot of things right by accident like that.For example, we did what\\'s now called \"doing things that don\\'t scale,\" although at the time we would have described it as \"being so lame that we\\'re driven to the most desperate measures to get users.\"The most common of which was building stores for them.This seemed particularly humiliating, since the whole raison d\\'etre of our software was that people could use it to make their own stores.But anything to get users.We learned a lot more about retail than we wanted to know.For example, that if you could only have a small image of a man\\'s shirt (and all images were small then by present standards), it was better to have a closeup of the collar than a picture of the whole shirt.The reason I remember learning this was that it meant I had to rescan about 30 images of men\\'s shirts.My first set of scans were so beautiful too.Though this felt wrong, it was exactly the right thing to be doing.Building stores for users taught us about retail, and about how it felt to use our software.I was initially both mystified and repelled by \"business\" and thought we needed a \"business person\" to be in charge of it, but once we started to get users, I was converted, in much the same way I was converted to fatherhood once I had kids.Whatever users wanted, I was all theirs.Maybe one day we\\'d have so many users that I couldn\\'t scan their images for them, but in the meantime there was nothing more important to do.Another thing I didn\\'t get at the time is that growth rate is the ultimate test of a startup.Our growth rate was fine.We had about 70 stores at the end of 1996 and about 500 at the end of 1997.I mistakenly thought the thing that mattered was the absolute number of users.And that is the thing that matters in the sense that that\\'s how much money you\\'re making, and if you\\'re not making enough, you might go out of business.But in the long term the growth rate takes care of the absolute number.If we\\'d been a startup I was advising at Y Combinator, I would have said: Stop being so stressed out, because you\\'re doing fine.You\\'re growing 7x a year.Just don\\'t hire too many more people and you\\'ll soon be profitable, and then you\\'ll control your own destiny.Alas I hired lots more people, partly because our investors wanted me to, and partly because that\\'s what startups did during the Internet Bubble.A company with just a handful of employees would have seemed amateurish.So we didn\\'t reach breakeven until about when Yahoo bought us in the summer of 1998.Which in turn meant we were at the mercy of investors for the entire life of the company.And since both we and our investors were noobs at startups, the result was a mess even by startup standards.It was a huge relief when Yahoo bought us.In principle our Viaweb stock was valuable.It was a share in a business that was profitable and growing rapidly.But it didn\\'t feel very valuable to me; I had no idea how to value a business, but I was all too keenly aware of the near-death experiences we seemed to have every few months.Nor had I changed my grad student lifestyle significantly since we started.So when Yahoo bought us it felt like going from rags to riches.Since we were going to California, I bought a car, a yellow 1998 VW GTI.I remember thinking that its leather seats alone were by far the most luxurious thing I owned.The next year, from the summer of 1998 to the summer of 1999, must have been the least productive of my life.I didn\\'t realize it at the time, but I was worn out from the effort and stress of running Viaweb.For a while after I got to California I tried to continue my usual m.o.of programming till 3 in the morning, but fatigue combined with Yahoo\\'s prematurely aged culture and grim cube farm in Santa Clara gradually dragged me down.After a few months it felt disconcertingly like working at Interleaf.Yahoo had given us a lot of options when they bought us.At the time I thought Yahoo was so overvalued that they\\'d never be worth anything, but to my astonishment the stock went up 5x in the next year.I hung on till the first chunk of options vested, then in the summer of 1999 I left.It had been so long since I\\'d painted anything that I\\'d half forgotten why I was doing this.My brain had been entirely full of software and men\\'s shirts for 4 years.'"
            ],
            "application/vnd.google.colaboratory.intrinsic+json": {
              "type": "string"
            }
          },
          "metadata": {},
          "execution_count": 31
        }
      ]
    },
    {
      "cell_type": "markdown",
      "source": [
        "# Load data"
      ],
      "metadata": {
        "id": "z-oIrm3t0eOf"
      }
    },
    {
      "cell_type": "code",
      "source": [
        "from google.colab import files\n",
        "from google.colab import auth\n",
        "auth.authenticate_user()"
      ],
      "metadata": {
        "id": "Ef4g5_On75ts"
      },
      "execution_count": 32,
      "outputs": []
    },
    {
      "cell_type": "code",
      "source": [
        "!touch \"/content/pblc_localnet/__init__.py\""
      ],
      "metadata": {
        "id": "YA0ob7vw6-P5"
      },
      "execution_count": 33,
      "outputs": []
    },
    {
      "cell_type": "code",
      "source": [
        "# sys.path.remove('/content/pblc_localnet/src')"
      ],
      "metadata": {
        "id": "HKBwdEsy8Qxd"
      },
      "execution_count": 34,
      "outputs": []
    },
    {
      "cell_type": "code",
      "source": [
        "# load our package\n",
        "import sys\n",
        "path_to_module = '/content/pblc_localnet/src'\n",
        "if path_to_module not in sys.path:\n",
        "  print(\"Add module to sys path.\")\n",
        "  sys.path.append(path_to_module)\n",
        "from pblc_localnet.src.load_data import load_all"
      ],
      "metadata": {
        "id": "BCeItZQH23ID",
        "colab": {
          "base_uri": "https://localhost:8080/"
        },
        "outputId": "48234cf6-3599-4173-f850-f0c24609c1eb"
      },
      "execution_count": 35,
      "outputs": [
        {
          "output_type": "stream",
          "name": "stdout",
          "text": [
            "Add module to sys path.\n"
          ]
        }
      ]
    },
    {
      "cell_type": "code",
      "source": [
        "YEAR_RANGE = range(2006, 2023)\n",
        "YEARS = [2022]\n",
        "SELECTED_YEAR = YEARS[0]"
      ],
      "metadata": {
        "id": "r-XFJ5rq_kS4"
      },
      "execution_count": 66,
      "outputs": []
    },
    {
      "cell_type": "code",
      "source": [
        "data_dict=load_all(YEARS)"
      ],
      "metadata": {
        "id": "wF-GRxnr0fSR"
      },
      "execution_count": 37,
      "outputs": []
    },
    {
      "cell_type": "code",
      "source": [
        "data_2022 = data_dict[YEARS[0]]"
      ],
      "metadata": {
        "id": "SegqTsBe-mRc"
      },
      "execution_count": 38,
      "outputs": []
    },
    {
      "cell_type": "code",
      "source": [
        "data_2022.head(3)"
      ],
      "metadata": {
        "colab": {
          "base_uri": "https://localhost:8080/",
          "height": 389
        },
        "id": "01FZ0xtkDtgG",
        "outputId": "8ed86264-3d67-4525-e0ea-a4974264f147"
      },
      "execution_count": 52,
      "outputs": [
        {
          "output_type": "execute_result",
          "data": {
            "text/plain": [
              "   st_fips state_name     place_name                        place_govt  \\\n",
              "0   125240    Alabama  Fairhope city                 MUNICIPAL COUNCIL   \n",
              "1   125240    Alabama  Fairhope city                 MUNICIPAL COUNCIL   \n",
              "2   125240    Alabama  Fairhope city  PLANNING/ZONING BOARD/COMMISSION   \n",
              "\n",
              "   place_Pres_dem2pv  place_Pres_dem2pv_last  place_Gov_dem2pv  \\\n",
              "0                NaN                     NaN               NaN   \n",
              "1                NaN                     NaN               NaN   \n",
              "2                NaN                     NaN               NaN   \n",
              "\n",
              "   place_Gov_dem2pv_last  place_House_dem2pv  place_House_dem2pv_last  \\\n",
              "0                    NaN                 NaN                      NaN   \n",
              "1                    NaN                 NaN                      NaN   \n",
              "2                    NaN                 NaN                      NaN   \n",
              "\n",
              "   place_Sen_dem2pv  place_Sen_dem2pv_last  census_2010_pop  \\\n",
              "0               NaN                    NaN            15326   \n",
              "1               NaN                    NaN            15326   \n",
              "2               NaN                    NaN            15326   \n",
              "\n",
              "   census_2010_pop_est  census_2015_pop_est  acs_2018_white  acs_2018_black  \\\n",
              "0                15432                18730         18609.0           966.0   \n",
              "1                15432                18730         18609.0           966.0   \n",
              "2                15432                18730         18609.0           966.0   \n",
              "\n",
              "   acs_2018_hispanic  acs_2018_pop                channel_id  \\\n",
              "0              791.0       20327.0  UCQsD9rKnDZ7Fik7D22bI0gw   \n",
              "1              791.0       20327.0  UCQsD9rKnDZ7Fik7D22bI0gw   \n",
              "2              791.0       20327.0  UCQsD9rKnDZ7Fik7D22bI0gw   \n",
              "\n",
              "      channel_title       vid_id  \\\n",
              "0  City of Fairhope  5Ra2WIdjBPY   \n",
              "1  City of Fairhope  kWFEZkY44Bg   \n",
              "2  City of Fairhope  6BW1NKx3HAs   \n",
              "\n",
              "                                           vid_title vid_desc  vid_length_min  \\\n",
              "0  City of Fairhope City Council Meeting Septembe...      NaN       96.333333   \n",
              "1  City of Fairhope City Council Work Session Sep...      NaN       88.700000   \n",
              "2  City of Fairhope Board of Adjustments Meeting ...      NaN       77.883333   \n",
              "\n",
              "  vid_upload_date  vid_livestreamed  vid_views  vid_likes  vid_dislikes  \\\n",
              "0      2022-09-27                 0         40        0.0           NaN   \n",
              "1      2022-09-27                 0         16        0.0           NaN   \n",
              "2      2022-09-20                 0         18        0.0           NaN   \n",
              "\n",
              "   vid_comments  vid_favorites meeting_date  \\\n",
              "0           0.0              0   2022-09-26   \n",
              "1           0.0              0   2022-09-26   \n",
              "2           0.0              0   2022-09-19   \n",
              "\n",
              "                                        caption_text  \\\n",
              "0  {00:00:05} everybody we're gonna go ahead and ...   \n",
              "1  {00:00:05} to the city council Works session f...   \n",
              "2  {00:00:06} good evening I'd like to call the c...   \n",
              "\n",
              "                                  caption_text_clean    channelType  \n",
              "0  {00:00:05} everybody we're gonna go ahead and ...  OFFICIAL GOVT  \n",
              "1  {00:00:05} to the city council Works session f...  OFFICIAL GOVT  \n",
              "2  {00:00:06} good evening I'd like to call the c...  OFFICIAL GOVT  "
            ],
            "text/html": [
              "\n",
              "  <div id=\"df-dc8c797f-7097-4470-b01c-ca1bdc3f33c5\" class=\"colab-df-container\">\n",
              "    <div>\n",
              "<style scoped>\n",
              "    .dataframe tbody tr th:only-of-type {\n",
              "        vertical-align: middle;\n",
              "    }\n",
              "\n",
              "    .dataframe tbody tr th {\n",
              "        vertical-align: top;\n",
              "    }\n",
              "\n",
              "    .dataframe thead th {\n",
              "        text-align: right;\n",
              "    }\n",
              "</style>\n",
              "<table border=\"1\" class=\"dataframe\">\n",
              "  <thead>\n",
              "    <tr style=\"text-align: right;\">\n",
              "      <th></th>\n",
              "      <th>st_fips</th>\n",
              "      <th>state_name</th>\n",
              "      <th>place_name</th>\n",
              "      <th>place_govt</th>\n",
              "      <th>place_Pres_dem2pv</th>\n",
              "      <th>place_Pres_dem2pv_last</th>\n",
              "      <th>place_Gov_dem2pv</th>\n",
              "      <th>place_Gov_dem2pv_last</th>\n",
              "      <th>place_House_dem2pv</th>\n",
              "      <th>place_House_dem2pv_last</th>\n",
              "      <th>place_Sen_dem2pv</th>\n",
              "      <th>place_Sen_dem2pv_last</th>\n",
              "      <th>census_2010_pop</th>\n",
              "      <th>census_2010_pop_est</th>\n",
              "      <th>census_2015_pop_est</th>\n",
              "      <th>acs_2018_white</th>\n",
              "      <th>acs_2018_black</th>\n",
              "      <th>acs_2018_hispanic</th>\n",
              "      <th>acs_2018_pop</th>\n",
              "      <th>channel_id</th>\n",
              "      <th>channel_title</th>\n",
              "      <th>vid_id</th>\n",
              "      <th>vid_title</th>\n",
              "      <th>vid_desc</th>\n",
              "      <th>vid_length_min</th>\n",
              "      <th>vid_upload_date</th>\n",
              "      <th>vid_livestreamed</th>\n",
              "      <th>vid_views</th>\n",
              "      <th>vid_likes</th>\n",
              "      <th>vid_dislikes</th>\n",
              "      <th>vid_comments</th>\n",
              "      <th>vid_favorites</th>\n",
              "      <th>meeting_date</th>\n",
              "      <th>caption_text</th>\n",
              "      <th>caption_text_clean</th>\n",
              "      <th>channelType</th>\n",
              "    </tr>\n",
              "  </thead>\n",
              "  <tbody>\n",
              "    <tr>\n",
              "      <th>0</th>\n",
              "      <td>125240</td>\n",
              "      <td>Alabama</td>\n",
              "      <td>Fairhope city</td>\n",
              "      <td>MUNICIPAL COUNCIL</td>\n",
              "      <td>NaN</td>\n",
              "      <td>NaN</td>\n",
              "      <td>NaN</td>\n",
              "      <td>NaN</td>\n",
              "      <td>NaN</td>\n",
              "      <td>NaN</td>\n",
              "      <td>NaN</td>\n",
              "      <td>NaN</td>\n",
              "      <td>15326</td>\n",
              "      <td>15432</td>\n",
              "      <td>18730</td>\n",
              "      <td>18609.0</td>\n",
              "      <td>966.0</td>\n",
              "      <td>791.0</td>\n",
              "      <td>20327.0</td>\n",
              "      <td>UCQsD9rKnDZ7Fik7D22bI0gw</td>\n",
              "      <td>City of Fairhope</td>\n",
              "      <td>5Ra2WIdjBPY</td>\n",
              "      <td>City of Fairhope City Council Meeting Septembe...</td>\n",
              "      <td>NaN</td>\n",
              "      <td>96.333333</td>\n",
              "      <td>2022-09-27</td>\n",
              "      <td>0</td>\n",
              "      <td>40</td>\n",
              "      <td>0.0</td>\n",
              "      <td>NaN</td>\n",
              "      <td>0.0</td>\n",
              "      <td>0</td>\n",
              "      <td>2022-09-26</td>\n",
              "      <td>{00:00:05} everybody we're gonna go ahead and ...</td>\n",
              "      <td>{00:00:05} everybody we're gonna go ahead and ...</td>\n",
              "      <td>OFFICIAL GOVT</td>\n",
              "    </tr>\n",
              "    <tr>\n",
              "      <th>1</th>\n",
              "      <td>125240</td>\n",
              "      <td>Alabama</td>\n",
              "      <td>Fairhope city</td>\n",
              "      <td>MUNICIPAL COUNCIL</td>\n",
              "      <td>NaN</td>\n",
              "      <td>NaN</td>\n",
              "      <td>NaN</td>\n",
              "      <td>NaN</td>\n",
              "      <td>NaN</td>\n",
              "      <td>NaN</td>\n",
              "      <td>NaN</td>\n",
              "      <td>NaN</td>\n",
              "      <td>15326</td>\n",
              "      <td>15432</td>\n",
              "      <td>18730</td>\n",
              "      <td>18609.0</td>\n",
              "      <td>966.0</td>\n",
              "      <td>791.0</td>\n",
              "      <td>20327.0</td>\n",
              "      <td>UCQsD9rKnDZ7Fik7D22bI0gw</td>\n",
              "      <td>City of Fairhope</td>\n",
              "      <td>kWFEZkY44Bg</td>\n",
              "      <td>City of Fairhope City Council Work Session Sep...</td>\n",
              "      <td>NaN</td>\n",
              "      <td>88.700000</td>\n",
              "      <td>2022-09-27</td>\n",
              "      <td>0</td>\n",
              "      <td>16</td>\n",
              "      <td>0.0</td>\n",
              "      <td>NaN</td>\n",
              "      <td>0.0</td>\n",
              "      <td>0</td>\n",
              "      <td>2022-09-26</td>\n",
              "      <td>{00:00:05} to the city council Works session f...</td>\n",
              "      <td>{00:00:05} to the city council Works session f...</td>\n",
              "      <td>OFFICIAL GOVT</td>\n",
              "    </tr>\n",
              "    <tr>\n",
              "      <th>2</th>\n",
              "      <td>125240</td>\n",
              "      <td>Alabama</td>\n",
              "      <td>Fairhope city</td>\n",
              "      <td>PLANNING/ZONING BOARD/COMMISSION</td>\n",
              "      <td>NaN</td>\n",
              "      <td>NaN</td>\n",
              "      <td>NaN</td>\n",
              "      <td>NaN</td>\n",
              "      <td>NaN</td>\n",
              "      <td>NaN</td>\n",
              "      <td>NaN</td>\n",
              "      <td>NaN</td>\n",
              "      <td>15326</td>\n",
              "      <td>15432</td>\n",
              "      <td>18730</td>\n",
              "      <td>18609.0</td>\n",
              "      <td>966.0</td>\n",
              "      <td>791.0</td>\n",
              "      <td>20327.0</td>\n",
              "      <td>UCQsD9rKnDZ7Fik7D22bI0gw</td>\n",
              "      <td>City of Fairhope</td>\n",
              "      <td>6BW1NKx3HAs</td>\n",
              "      <td>City of Fairhope Board of Adjustments Meeting ...</td>\n",
              "      <td>NaN</td>\n",
              "      <td>77.883333</td>\n",
              "      <td>2022-09-20</td>\n",
              "      <td>0</td>\n",
              "      <td>18</td>\n",
              "      <td>0.0</td>\n",
              "      <td>NaN</td>\n",
              "      <td>0.0</td>\n",
              "      <td>0</td>\n",
              "      <td>2022-09-19</td>\n",
              "      <td>{00:00:06} good evening I'd like to call the c...</td>\n",
              "      <td>{00:00:06} good evening I'd like to call the c...</td>\n",
              "      <td>OFFICIAL GOVT</td>\n",
              "    </tr>\n",
              "  </tbody>\n",
              "</table>\n",
              "</div>\n",
              "    <div class=\"colab-df-buttons\">\n",
              "\n",
              "  <div class=\"colab-df-container\">\n",
              "    <button class=\"colab-df-convert\" onclick=\"convertToInteractive('df-dc8c797f-7097-4470-b01c-ca1bdc3f33c5')\"\n",
              "            title=\"Convert this dataframe to an interactive table.\"\n",
              "            style=\"display:none;\">\n",
              "\n",
              "  <svg xmlns=\"http://www.w3.org/2000/svg\" height=\"24px\" viewBox=\"0 -960 960 960\">\n",
              "    <path d=\"M120-120v-720h720v720H120Zm60-500h600v-160H180v160Zm220 220h160v-160H400v160Zm0 220h160v-160H400v160ZM180-400h160v-160H180v160Zm440 0h160v-160H620v160ZM180-180h160v-160H180v160Zm440 0h160v-160H620v160Z\"/>\n",
              "  </svg>\n",
              "    </button>\n",
              "\n",
              "  <style>\n",
              "    .colab-df-container {\n",
              "      display:flex;\n",
              "      gap: 12px;\n",
              "    }\n",
              "\n",
              "    .colab-df-convert {\n",
              "      background-color: #E8F0FE;\n",
              "      border: none;\n",
              "      border-radius: 50%;\n",
              "      cursor: pointer;\n",
              "      display: none;\n",
              "      fill: #1967D2;\n",
              "      height: 32px;\n",
              "      padding: 0 0 0 0;\n",
              "      width: 32px;\n",
              "    }\n",
              "\n",
              "    .colab-df-convert:hover {\n",
              "      background-color: #E2EBFA;\n",
              "      box-shadow: 0px 1px 2px rgba(60, 64, 67, 0.3), 0px 1px 3px 1px rgba(60, 64, 67, 0.15);\n",
              "      fill: #174EA6;\n",
              "    }\n",
              "\n",
              "    .colab-df-buttons div {\n",
              "      margin-bottom: 4px;\n",
              "    }\n",
              "\n",
              "    [theme=dark] .colab-df-convert {\n",
              "      background-color: #3B4455;\n",
              "      fill: #D2E3FC;\n",
              "    }\n",
              "\n",
              "    [theme=dark] .colab-df-convert:hover {\n",
              "      background-color: #434B5C;\n",
              "      box-shadow: 0px 1px 3px 1px rgba(0, 0, 0, 0.15);\n",
              "      filter: drop-shadow(0px 1px 2px rgba(0, 0, 0, 0.3));\n",
              "      fill: #FFFFFF;\n",
              "    }\n",
              "  </style>\n",
              "\n",
              "    <script>\n",
              "      const buttonEl =\n",
              "        document.querySelector('#df-dc8c797f-7097-4470-b01c-ca1bdc3f33c5 button.colab-df-convert');\n",
              "      buttonEl.style.display =\n",
              "        google.colab.kernel.accessAllowed ? 'block' : 'none';\n",
              "\n",
              "      async function convertToInteractive(key) {\n",
              "        const element = document.querySelector('#df-dc8c797f-7097-4470-b01c-ca1bdc3f33c5');\n",
              "        const dataTable =\n",
              "          await google.colab.kernel.invokeFunction('convertToInteractive',\n",
              "                                                    [key], {});\n",
              "        if (!dataTable) return;\n",
              "\n",
              "        const docLinkHtml = 'Like what you see? Visit the ' +\n",
              "          '<a target=\"_blank\" href=https://colab.research.google.com/notebooks/data_table.ipynb>data table notebook</a>'\n",
              "          + ' to learn more about interactive tables.';\n",
              "        element.innerHTML = '';\n",
              "        dataTable['output_type'] = 'display_data';\n",
              "        await google.colab.output.renderOutput(dataTable, element);\n",
              "        const docLink = document.createElement('div');\n",
              "        docLink.innerHTML = docLinkHtml;\n",
              "        element.appendChild(docLink);\n",
              "      }\n",
              "    </script>\n",
              "  </div>\n",
              "\n",
              "\n",
              "<div id=\"df-965a4fb2-1273-4613-8609-95e011874e60\">\n",
              "  <button class=\"colab-df-quickchart\" onclick=\"quickchart('df-965a4fb2-1273-4613-8609-95e011874e60')\"\n",
              "            title=\"Suggest charts.\"\n",
              "            style=\"display:none;\">\n",
              "\n",
              "<svg xmlns=\"http://www.w3.org/2000/svg\" height=\"24px\"viewBox=\"0 0 24 24\"\n",
              "     width=\"24px\">\n",
              "    <g>\n",
              "        <path d=\"M19 3H5c-1.1 0-2 .9-2 2v14c0 1.1.9 2 2 2h14c1.1 0 2-.9 2-2V5c0-1.1-.9-2-2-2zM9 17H7v-7h2v7zm4 0h-2V7h2v10zm4 0h-2v-4h2v4z\"/>\n",
              "    </g>\n",
              "</svg>\n",
              "  </button>\n",
              "\n",
              "<style>\n",
              "  .colab-df-quickchart {\n",
              "      --bg-color: #E8F0FE;\n",
              "      --fill-color: #1967D2;\n",
              "      --hover-bg-color: #E2EBFA;\n",
              "      --hover-fill-color: #174EA6;\n",
              "      --disabled-fill-color: #AAA;\n",
              "      --disabled-bg-color: #DDD;\n",
              "  }\n",
              "\n",
              "  [theme=dark] .colab-df-quickchart {\n",
              "      --bg-color: #3B4455;\n",
              "      --fill-color: #D2E3FC;\n",
              "      --hover-bg-color: #434B5C;\n",
              "      --hover-fill-color: #FFFFFF;\n",
              "      --disabled-bg-color: #3B4455;\n",
              "      --disabled-fill-color: #666;\n",
              "  }\n",
              "\n",
              "  .colab-df-quickchart {\n",
              "    background-color: var(--bg-color);\n",
              "    border: none;\n",
              "    border-radius: 50%;\n",
              "    cursor: pointer;\n",
              "    display: none;\n",
              "    fill: var(--fill-color);\n",
              "    height: 32px;\n",
              "    padding: 0;\n",
              "    width: 32px;\n",
              "  }\n",
              "\n",
              "  .colab-df-quickchart:hover {\n",
              "    background-color: var(--hover-bg-color);\n",
              "    box-shadow: 0 1px 2px rgba(60, 64, 67, 0.3), 0 1px 3px 1px rgba(60, 64, 67, 0.15);\n",
              "    fill: var(--button-hover-fill-color);\n",
              "  }\n",
              "\n",
              "  .colab-df-quickchart-complete:disabled,\n",
              "  .colab-df-quickchart-complete:disabled:hover {\n",
              "    background-color: var(--disabled-bg-color);\n",
              "    fill: var(--disabled-fill-color);\n",
              "    box-shadow: none;\n",
              "  }\n",
              "\n",
              "  .colab-df-spinner {\n",
              "    border: 2px solid var(--fill-color);\n",
              "    border-color: transparent;\n",
              "    border-bottom-color: var(--fill-color);\n",
              "    animation:\n",
              "      spin 1s steps(1) infinite;\n",
              "  }\n",
              "\n",
              "  @keyframes spin {\n",
              "    0% {\n",
              "      border-color: transparent;\n",
              "      border-bottom-color: var(--fill-color);\n",
              "      border-left-color: var(--fill-color);\n",
              "    }\n",
              "    20% {\n",
              "      border-color: transparent;\n",
              "      border-left-color: var(--fill-color);\n",
              "      border-top-color: var(--fill-color);\n",
              "    }\n",
              "    30% {\n",
              "      border-color: transparent;\n",
              "      border-left-color: var(--fill-color);\n",
              "      border-top-color: var(--fill-color);\n",
              "      border-right-color: var(--fill-color);\n",
              "    }\n",
              "    40% {\n",
              "      border-color: transparent;\n",
              "      border-right-color: var(--fill-color);\n",
              "      border-top-color: var(--fill-color);\n",
              "    }\n",
              "    60% {\n",
              "      border-color: transparent;\n",
              "      border-right-color: var(--fill-color);\n",
              "    }\n",
              "    80% {\n",
              "      border-color: transparent;\n",
              "      border-right-color: var(--fill-color);\n",
              "      border-bottom-color: var(--fill-color);\n",
              "    }\n",
              "    90% {\n",
              "      border-color: transparent;\n",
              "      border-bottom-color: var(--fill-color);\n",
              "    }\n",
              "  }\n",
              "</style>\n",
              "\n",
              "  <script>\n",
              "    async function quickchart(key) {\n",
              "      const quickchartButtonEl =\n",
              "        document.querySelector('#' + key + ' button');\n",
              "      quickchartButtonEl.disabled = true;  // To prevent multiple clicks.\n",
              "      quickchartButtonEl.classList.add('colab-df-spinner');\n",
              "      try {\n",
              "        const charts = await google.colab.kernel.invokeFunction(\n",
              "            'suggestCharts', [key], {});\n",
              "      } catch (error) {\n",
              "        console.error('Error during call to suggestCharts:', error);\n",
              "      }\n",
              "      quickchartButtonEl.classList.remove('colab-df-spinner');\n",
              "      quickchartButtonEl.classList.add('colab-df-quickchart-complete');\n",
              "    }\n",
              "    (() => {\n",
              "      let quickchartButtonEl =\n",
              "        document.querySelector('#df-965a4fb2-1273-4613-8609-95e011874e60 button');\n",
              "      quickchartButtonEl.style.display =\n",
              "        google.colab.kernel.accessAllowed ? 'block' : 'none';\n",
              "    })();\n",
              "  </script>\n",
              "</div>\n",
              "    </div>\n",
              "  </div>\n"
            ]
          },
          "metadata": {},
          "execution_count": 52
        }
      ]
    },
    {
      "cell_type": "code",
      "source": [
        "unique_places = data_2022[['state_name', 'place_name']].drop_duplicates()\n",
        "len(unique_places)"
      ],
      "metadata": {
        "id": "xJ4NrYJGAThY",
        "colab": {
          "base_uri": "https://localhost:8080/"
        },
        "outputId": "f1fd0d32-b30c-4363-fcc5-381ae5ef3ad1"
      },
      "execution_count": 39,
      "outputs": [
        {
          "output_type": "execute_result",
          "data": {
            "text/plain": [
              "517"
            ]
          },
          "metadata": {},
          "execution_count": 39
        }
      ]
    },
    {
      "cell_type": "code",
      "source": [
        "place_count = data_2022.groupby(['state_name', 'place_name']).size().rename(\"Count\").reset_index()\n",
        "# place_count"
      ],
      "metadata": {
        "id": "P8Oc7VZ9KncX",
        "colab": {
          "base_uri": "https://localhost:8080/"
        },
        "outputId": "836b891e-6396-41a8-fe37-2feb5996f478"
      },
      "execution_count": 53,
      "outputs": [
        {
          "output_type": "stream",
          "name": "stderr",
          "text": [
            "<ipython-input-53-6f185d45411a>:1: FutureWarning: Indexing with multiple keys (implicitly converted to a tuple of keys) will be deprecated, use a list instead.\n",
            "  place_count = data_2022.groupby(['state_name', 'place_name'])['meeting_date',  'place_govt'].size().rename(\"Count\").reset_index()\n"
          ]
        }
      ]
    },
    {
      "cell_type": "code",
      "source": [
        "# from i18naddress import get_validation_rules, KNOWN_FIELDS\n",
        "# rules = get_validation_rules({'country_code': 'US'})"
      ],
      "metadata": {
        "id": "yDjF8K8zBerI"
      },
      "execution_count": 51,
      "outputs": []
    },
    {
      "cell_type": "code",
      "source": [
        "# import i18naddress\n",
        "# us_address_validation_rules = i18naddress.get_validation_rules(\n",
        "#     {\"country_code\": \"US\"}\n",
        "# )\n",
        "# STATES_ABBR = {\n",
        "#     state_abbr\n",
        "#     for state_abbr, _ in us_address_validation_rules.country_area_choices\n",
        "# }"
      ],
      "metadata": {
        "id": "HjGzJGn4gndo"
      },
      "execution_count": 45,
      "outputs": []
    },
    {
      "cell_type": "code",
      "source": [
        "place_count = place_count.sort_values(by=\"Count\", ascending=False)"
      ],
      "metadata": {
        "id": "9sK9MKJmK4LU"
      },
      "execution_count": 57,
      "outputs": []
    },
    {
      "cell_type": "code",
      "source": [
        "import os\n",
        "import pandas as pd\n",
        "import asyncio\n",
        "\n",
        "async def save_df_rows_to_json(dataframe, output_dir, file_prefix):\n",
        "    \"\"\"\n",
        "    Save each row of a DataFrame as a JSON object in the specified directory asynchronously.\n",
        "\n",
        "    Parameters:\n",
        "        dataframe (pd.DataFrame): The DataFrame to be saved as JSON objects.\n",
        "        output_dir (str): The directory where JSON files will be saved.\n",
        "\n",
        "    Returns:\n",
        "        None\n",
        "    \"\"\"\n",
        "    # Create the output directory if it doesn't exist\n",
        "    if not os.path.exists(output_dir):\n",
        "        os.makedirs(output_dir)\n",
        "\n",
        "    # Create a list to store the tasks\n",
        "    tasks = []\n",
        "\n",
        "    # Asynchronously save each row as a JSON object\n",
        "    for index, row in dataframe.iterrows():\n",
        "        # Generate a unique filename based on the index (you can use other attributes if needed)\n",
        "        filename = os.path.join(output_dir, f\"{file_prefix}_{index}.json\")\n",
        "\n",
        "        # Create a dictionary from the row data\n",
        "        json_data = row.to_dict()\n",
        "\n",
        "        # Append the task to the list\n",
        "        tasks.append(save_json_task(filename, json_data))\n",
        "\n",
        "    # Wait for all tasks to complete\n",
        "    await asyncio.gather(*tasks)\n",
        "\n",
        "async def save_json_task(filename, json_data):\n",
        "    \"\"\"Save JSON data to a file asynchronously.\"\"\"\n",
        "    with open(filename, 'w') as json_file:\n",
        "        json.dump(json_data, json_file)"
      ],
      "metadata": {
        "id": "TJfqBUWrWTYM"
      },
      "execution_count": 68,
      "outputs": []
    },
    {
      "cell_type": "code",
      "source": [
        "city_transcripts_by_year = data_2022.loc[data_2022['place_name'] == place_name]"
      ],
      "metadata": {
        "id": "sG9FfTOXH7m3"
      },
      "execution_count": 215,
      "outputs": []
    },
    {
      "cell_type": "code",
      "source": [
        "place_name = \"Fairhope city\"\n",
        "state = \"AL\"\n",
        "file_prefix = f\"{SELECTED_YEAR}_{state}_{place_name}\"\n",
        "output_dir = f\"json_export_with_meta/\"\n",
        "df = city_transcripts_by_year.copy()\n",
        "await save_df_rows_to_json(dataframe=df, output_dir=output_dir, file_prefix=file_prefix)"
      ],
      "metadata": {
        "id": "dEEtVJZ8A18H"
      },
      "execution_count": 219,
      "outputs": []
    },
    {
      "cell_type": "code",
      "source": [
        "data_2022.columns"
      ],
      "metadata": {
        "colab": {
          "base_uri": "https://localhost:8080/"
        },
        "id": "UCoRQrvcsd5-",
        "outputId": "d0863433-adcb-4f41-ee89-b5f6b48e12a9"
      },
      "execution_count": 220,
      "outputs": [
        {
          "output_type": "execute_result",
          "data": {
            "text/plain": [
              "Index(['st_fips', 'state_name', 'place_name', 'place_govt',\n",
              "       'place_Pres_dem2pv', 'place_Pres_dem2pv_last', 'place_Gov_dem2pv',\n",
              "       'place_Gov_dem2pv_last', 'place_House_dem2pv',\n",
              "       'place_House_dem2pv_last', 'place_Sen_dem2pv', 'place_Sen_dem2pv_last',\n",
              "       'census_2010_pop', 'census_2010_pop_est', 'census_2015_pop_est',\n",
              "       'acs_2018_white', 'acs_2018_black', 'acs_2018_hispanic', 'acs_2018_pop',\n",
              "       'channel_id', 'channel_title', 'vid_id', 'vid_title', 'vid_desc',\n",
              "       'vid_length_min', 'vid_upload_date', 'vid_livestreamed', 'vid_views',\n",
              "       'vid_likes', 'vid_dislikes', 'vid_comments', 'vid_favorites',\n",
              "       'meeting_date', 'caption_text', 'caption_text_clean', 'channelType'],\n",
              "      dtype='object')"
            ]
          },
          "metadata": {},
          "execution_count": 220
        }
      ]
    },
    {
      "cell_type": "markdown",
      "source": [
        "# Standard Index"
      ],
      "metadata": {
        "id": "D1IwxzBKYe0w"
      }
    },
    {
      "cell_type": "code",
      "source": [
        "# Starter Code if needed\n",
        "import logging\n",
        "import sys\n",
        "from typing import List\n",
        "import time\n",
        "import pandas as pd\n",
        "\n",
        "\n",
        "# Helps asyncio run within Jupyter\n",
        "import nest_asyncio\n",
        "nest_asyncio.apply()\n",
        "\n",
        "# Setting up logs, but not really using at the moment\n",
        "logging.basicConfig(stream=sys.stdout, level=logging.INFO)\n",
        "logging.getLogger().addHandler(logging.StreamHandler(stream=sys.stdout))\n",
        "\n",
        "from llama_index import GPTVectorStoreIndex, SimpleDirectoryReader, LLMPredictor, ServiceContext, StorageContext, load_index_from_storage\n",
        "from llama_index.evaluation import ResponseEvaluator\n",
        "from langchain.chat_models import ChatOpenAI\n",
        "from IPython.display import Markdown, display\n",
        "from llama_index.response.schema import Response\n",
        "\n",
        "# set maximum input size\n",
        "max_input_size = 4096\n",
        "# set number of output tokens\n",
        "num_outputs = 256\n",
        "# set maximum chunk overlap\n",
        "max_chunk_overlap = 20\n",
        "# set chunk size limit\n",
        "chunk_size = 600\n",
        "\n",
        "def construct_index(directory_path):\n",
        "    documents = SimpleDirectoryReader(directory_path).load_data()\n",
        "\n",
        "    # LLM Predictor (gpt-3.5-turbo) + service context\n",
        "    llm_predictor = LLMPredictor(llm=ChatOpenAI(temperature=0, model_name=\"gpt-3.5-turbo\", max_tokens=num_outputs, streaming=True))\n",
        "    service_context = ServiceContext.from_defaults(llm_predictor=llm_predictor, chunk_size=600)\n",
        "\n",
        "    index = GPTVectorStoreIndex.from_documents(documents, service_context=service_context, use_async = True)\n",
        "    # save index to disk\n",
        "    index.storage_context.persist(persist_dir=\"/content/\")\n",
        "\n",
        "    return index\n",
        "\n",
        "# previously named display_eval_df\n",
        "def create_eval_df_2(query: str, response: Response, source_eval_result: List[str], response_eval_result: str):\n",
        "\n",
        "    sources = [s.node.get_text() for s in response.source_nodes]\n",
        "    eval_df = pd.DataFrame(\n",
        "        {\n",
        "            \"Source\": sources,\n",
        "            \"Source Eval Result\": source_eval_result,\n",
        "        },\n",
        "    )\n",
        "    eval_df['Query'] = query\n",
        "    eval_df['Response'] = str(response)\n",
        "    eval_df['Response Eval Result'] = response_eval_result\n",
        "    eval_df = eval_df[['Query', 'Response', 'Response Eval Result', 'Source', 'Source Eval Result']]\n",
        "\n",
        "    return eval_df\n",
        "\n",
        "def multi_prompt_ask(prompts: List[str]):\n",
        "  # rebuild storage context\n",
        "  storage_context = StorageContext.from_defaults(persist_dir=\"/content/\")\n",
        "  # load index\n",
        "  index = load_index_from_storage(storage_context, use_async=True)\n",
        "  # LLM Predictor (gpt-3.5-turbo) + service context\n",
        "  llm_predictor = LLMPredictor(llm=ChatOpenAI(temperature=0, model_name=\"gpt-3.5-turbo\", max_tokens=num_outputs, streaming=True))\n",
        "  service_context = ServiceContext.from_defaults(llm_predictor=llm_predictor, chunk_size=600)\n",
        "  evaluator = ResponseEvaluator(service_context=service_context)\n",
        "  experiments_df = pd.DataFrame()\n",
        "\n",
        "  for x in prompts:\n",
        "    user_input = x\n",
        "    query_engine = index.as_query_engine(\n",
        "      service_context=service_context,\n",
        "      similarity_top_k=3,\n",
        "      streaming=True,\n",
        "    )\n",
        "\n",
        "    response = query_engine.query(user_input)\n",
        "    response.print_response_stream()\n",
        "    source_eval_result = evaluator.evaluate_source_nodes(response)\n",
        "    response_eval_result = evaluator.evaluate(response)\n",
        "\n",
        "    eval_df = create_eval_df_2(user_input, response, source_eval_result, response_eval_result)\n",
        "\n",
        "    experiments_df = pd.concat([experiments_df, eval_df])\n",
        "\n",
        "    # Wait 5 seconds before starting the loop over, this can help avoid api overload errors\n",
        "    time.sleep(10)\n",
        "\n",
        "  return experiments_df"
      ],
      "metadata": {
        "id": "Sym1-ljIcCPC"
      },
      "execution_count": 221,
      "outputs": []
    },
    {
      "cell_type": "code",
      "source": [
        "# no async\n",
        "import time\n",
        "start_time = time.perf_counter()\n",
        "index = construct_index(output_dir)\n",
        "duration = time.perf_counter() - start_time\n",
        "print(duration)"
      ],
      "metadata": {
        "colab": {
          "base_uri": "https://localhost:8080/",
          "height": 471
        },
        "id": "KH1sKdZ0Y_R4",
        "outputId": "019e8470-3c73-4d82-dded-17b4cd848806"
      },
      "execution_count": 222,
      "outputs": [
        {
          "output_type": "error",
          "ename": "RetryError",
          "evalue": "ignored",
          "traceback": [
            "\u001b[0;31m---------------------------------------------------------------------------\u001b[0m",
            "\u001b[0;31mRateLimitError\u001b[0m                            Traceback (most recent call last)",
            "\u001b[0;32m/usr/local/lib/python3.10/dist-packages/tenacity/_asyncio.py\u001b[0m in \u001b[0;36m__call__\u001b[0;34m(self, fn, *args, **kwargs)\u001b[0m\n\u001b[1;32m     49\u001b[0m                 \u001b[0;32mtry\u001b[0m\u001b[0;34m:\u001b[0m\u001b[0;34m\u001b[0m\u001b[0;34m\u001b[0m\u001b[0m\n\u001b[0;32m---> 50\u001b[0;31m                     \u001b[0mresult\u001b[0m \u001b[0;34m=\u001b[0m \u001b[0;32mawait\u001b[0m \u001b[0mfn\u001b[0m\u001b[0;34m(\u001b[0m\u001b[0;34m*\u001b[0m\u001b[0margs\u001b[0m\u001b[0;34m,\u001b[0m \u001b[0;34m**\u001b[0m\u001b[0mkwargs\u001b[0m\u001b[0;34m)\u001b[0m\u001b[0;34m\u001b[0m\u001b[0;34m\u001b[0m\u001b[0m\n\u001b[0m\u001b[1;32m     51\u001b[0m                 \u001b[0;32mexcept\u001b[0m \u001b[0mBaseException\u001b[0m\u001b[0;34m:\u001b[0m  \u001b[0;31m# noqa: B902\u001b[0m\u001b[0;34m\u001b[0m\u001b[0;34m\u001b[0m\u001b[0m\n",
            "\u001b[0;32m/usr/local/lib/python3.10/dist-packages/llama_index/embeddings/openai.py\u001b[0m in \u001b[0;36maget_embeddings\u001b[0;34m(list_of_text, engine, **kwargs)\u001b[0m\n\u001b[1;32m    215\u001b[0m     data = (\n\u001b[0;32m--> 216\u001b[0;31m         \u001b[0;32mawait\u001b[0m \u001b[0mopenai\u001b[0m\u001b[0;34m.\u001b[0m\u001b[0mEmbedding\u001b[0m\u001b[0;34m.\u001b[0m\u001b[0macreate\u001b[0m\u001b[0;34m(\u001b[0m\u001b[0minput\u001b[0m\u001b[0;34m=\u001b[0m\u001b[0mlist_of_text\u001b[0m\u001b[0;34m,\u001b[0m \u001b[0mmodel\u001b[0m\u001b[0;34m=\u001b[0m\u001b[0mengine\u001b[0m\u001b[0;34m,\u001b[0m \u001b[0;34m**\u001b[0m\u001b[0mkwargs\u001b[0m\u001b[0;34m)\u001b[0m\u001b[0;34m\u001b[0m\u001b[0;34m\u001b[0m\u001b[0m\n\u001b[0m\u001b[1;32m    217\u001b[0m     ).data\n",
            "\u001b[0;32m/usr/local/lib/python3.10/dist-packages/openai/api_resources/embedding.py\u001b[0m in \u001b[0;36macreate\u001b[0;34m(cls, *args, **kwargs)\u001b[0m\n\u001b[1;32m     72\u001b[0m             \u001b[0;32mtry\u001b[0m\u001b[0;34m:\u001b[0m\u001b[0;34m\u001b[0m\u001b[0;34m\u001b[0m\u001b[0m\n\u001b[0;32m---> 73\u001b[0;31m                 \u001b[0mresponse\u001b[0m \u001b[0;34m=\u001b[0m \u001b[0;32mawait\u001b[0m \u001b[0msuper\u001b[0m\u001b[0;34m(\u001b[0m\u001b[0;34m)\u001b[0m\u001b[0;34m.\u001b[0m\u001b[0macreate\u001b[0m\u001b[0;34m(\u001b[0m\u001b[0;34m*\u001b[0m\u001b[0margs\u001b[0m\u001b[0;34m,\u001b[0m \u001b[0;34m**\u001b[0m\u001b[0mkwargs\u001b[0m\u001b[0;34m)\u001b[0m\u001b[0;34m\u001b[0m\u001b[0;34m\u001b[0m\u001b[0m\n\u001b[0m\u001b[1;32m     74\u001b[0m \u001b[0;34m\u001b[0m\u001b[0m\n",
            "\u001b[0;32m/usr/local/lib/python3.10/dist-packages/openai/api_resources/abstract/engine_api_resource.py\u001b[0m in \u001b[0;36macreate\u001b[0;34m(cls, api_key, api_base, api_type, request_id, api_version, organization, **params)\u001b[0m\n\u001b[1;32m    216\u001b[0m         )\n\u001b[0;32m--> 217\u001b[0;31m         response, _, api_key = await requestor.arequest(\n\u001b[0m\u001b[1;32m    218\u001b[0m             \u001b[0;34m\"post\"\u001b[0m\u001b[0;34m,\u001b[0m\u001b[0;34m\u001b[0m\u001b[0;34m\u001b[0m\u001b[0m\n",
            "\u001b[0;32m/usr/local/lib/python3.10/dist-packages/openai/api_requestor.py\u001b[0m in \u001b[0;36marequest\u001b[0;34m(self, method, url, params, headers, files, stream, request_id, request_timeout)\u001b[0m\n\u001b[1;32m    381\u001b[0m             )\n\u001b[0;32m--> 382\u001b[0;31m             \u001b[0mresp\u001b[0m\u001b[0;34m,\u001b[0m \u001b[0mgot_stream\u001b[0m \u001b[0;34m=\u001b[0m \u001b[0;32mawait\u001b[0m \u001b[0mself\u001b[0m\u001b[0;34m.\u001b[0m\u001b[0m_interpret_async_response\u001b[0m\u001b[0;34m(\u001b[0m\u001b[0mresult\u001b[0m\u001b[0;34m,\u001b[0m \u001b[0mstream\u001b[0m\u001b[0;34m)\u001b[0m\u001b[0;34m\u001b[0m\u001b[0;34m\u001b[0m\u001b[0m\n\u001b[0m\u001b[1;32m    383\u001b[0m         \u001b[0;32mexcept\u001b[0m \u001b[0mException\u001b[0m\u001b[0;34m:\u001b[0m\u001b[0;34m\u001b[0m\u001b[0;34m\u001b[0m\u001b[0m\n",
            "\u001b[0;32m/usr/local/lib/python3.10/dist-packages/openai/api_requestor.py\u001b[0m in \u001b[0;36m_interpret_async_response\u001b[0;34m(self, result, stream)\u001b[0m\n\u001b[1;32m    727\u001b[0m             return (\n\u001b[0;32m--> 728\u001b[0;31m                 self._interpret_response_line(\n\u001b[0m\u001b[1;32m    729\u001b[0m                     \u001b[0;34m(\u001b[0m\u001b[0;32mawait\u001b[0m \u001b[0mresult\u001b[0m\u001b[0;34m.\u001b[0m\u001b[0mread\u001b[0m\u001b[0;34m(\u001b[0m\u001b[0;34m)\u001b[0m\u001b[0;34m)\u001b[0m\u001b[0;34m.\u001b[0m\u001b[0mdecode\u001b[0m\u001b[0;34m(\u001b[0m\u001b[0;34m\"utf-8\"\u001b[0m\u001b[0;34m)\u001b[0m\u001b[0;34m,\u001b[0m\u001b[0;34m\u001b[0m\u001b[0;34m\u001b[0m\u001b[0m\n",
            "\u001b[0;32m/usr/local/lib/python3.10/dist-packages/openai/api_requestor.py\u001b[0m in \u001b[0;36m_interpret_response_line\u001b[0;34m(self, rbody, rcode, rheaders, stream)\u001b[0m\n\u001b[1;32m    764\u001b[0m         \u001b[0;32mif\u001b[0m \u001b[0mstream_error\u001b[0m \u001b[0;32mor\u001b[0m \u001b[0;32mnot\u001b[0m \u001b[0;36m200\u001b[0m \u001b[0;34m<=\u001b[0m \u001b[0mrcode\u001b[0m \u001b[0;34m<\u001b[0m \u001b[0;36m300\u001b[0m\u001b[0;34m:\u001b[0m\u001b[0;34m\u001b[0m\u001b[0;34m\u001b[0m\u001b[0m\n\u001b[0;32m--> 765\u001b[0;31m             raise self.handle_error_response(\n\u001b[0m\u001b[1;32m    766\u001b[0m                 \u001b[0mrbody\u001b[0m\u001b[0;34m,\u001b[0m \u001b[0mrcode\u001b[0m\u001b[0;34m,\u001b[0m \u001b[0mresp\u001b[0m\u001b[0;34m.\u001b[0m\u001b[0mdata\u001b[0m\u001b[0;34m,\u001b[0m \u001b[0mrheaders\u001b[0m\u001b[0;34m,\u001b[0m \u001b[0mstream_error\u001b[0m\u001b[0;34m=\u001b[0m\u001b[0mstream_error\u001b[0m\u001b[0;34m\u001b[0m\u001b[0;34m\u001b[0m\u001b[0m\n",
            "\u001b[0;31mRateLimitError\u001b[0m: Rate limit reached for default-text-embedding-ada-002 in organization org-PffNEC0CoyhNlVKInJJs3DZx on tokens per min. Limit: 1000000 / min. Current: 1 / min. Contact us through our help center at help.openai.com if you continue to have issues.",
            "\nThe above exception was the direct cause of the following exception:\n",
            "\u001b[0;31mRetryError\u001b[0m                                Traceback (most recent call last)",
            "\u001b[0;32m<ipython-input-222-8efcf8e0735b>\u001b[0m in \u001b[0;36m<cell line: 4>\u001b[0;34m()\u001b[0m\n\u001b[1;32m      2\u001b[0m \u001b[0;32mimport\u001b[0m \u001b[0mtime\u001b[0m\u001b[0;34m\u001b[0m\u001b[0;34m\u001b[0m\u001b[0m\n\u001b[1;32m      3\u001b[0m \u001b[0mstart_time\u001b[0m \u001b[0;34m=\u001b[0m \u001b[0mtime\u001b[0m\u001b[0;34m.\u001b[0m\u001b[0mperf_counter\u001b[0m\u001b[0;34m(\u001b[0m\u001b[0;34m)\u001b[0m\u001b[0;34m\u001b[0m\u001b[0;34m\u001b[0m\u001b[0m\n\u001b[0;32m----> 4\u001b[0;31m \u001b[0mindex\u001b[0m \u001b[0;34m=\u001b[0m \u001b[0mconstruct_index\u001b[0m\u001b[0;34m(\u001b[0m\u001b[0moutput_dir\u001b[0m\u001b[0;34m)\u001b[0m\u001b[0;34m\u001b[0m\u001b[0;34m\u001b[0m\u001b[0m\n\u001b[0m\u001b[1;32m      5\u001b[0m \u001b[0mduration\u001b[0m \u001b[0;34m=\u001b[0m \u001b[0mtime\u001b[0m\u001b[0;34m.\u001b[0m\u001b[0mperf_counter\u001b[0m\u001b[0;34m(\u001b[0m\u001b[0;34m)\u001b[0m \u001b[0;34m-\u001b[0m \u001b[0mstart_time\u001b[0m\u001b[0;34m\u001b[0m\u001b[0;34m\u001b[0m\u001b[0m\n\u001b[1;32m      6\u001b[0m \u001b[0mprint\u001b[0m\u001b[0;34m(\u001b[0m\u001b[0mduration\u001b[0m\u001b[0;34m)\u001b[0m\u001b[0;34m\u001b[0m\u001b[0;34m\u001b[0m\u001b[0m\n",
            "\u001b[0;32m<ipython-input-221-ae8f8b912051>\u001b[0m in \u001b[0;36mconstruct_index\u001b[0;34m(directory_path)\u001b[0m\n\u001b[1;32m     37\u001b[0m     \u001b[0mservice_context\u001b[0m \u001b[0;34m=\u001b[0m \u001b[0mServiceContext\u001b[0m\u001b[0;34m.\u001b[0m\u001b[0mfrom_defaults\u001b[0m\u001b[0;34m(\u001b[0m\u001b[0mllm_predictor\u001b[0m\u001b[0;34m=\u001b[0m\u001b[0mllm_predictor\u001b[0m\u001b[0;34m,\u001b[0m \u001b[0mchunk_size\u001b[0m\u001b[0;34m=\u001b[0m\u001b[0;36m600\u001b[0m\u001b[0;34m)\u001b[0m\u001b[0;34m\u001b[0m\u001b[0;34m\u001b[0m\u001b[0m\n\u001b[1;32m     38\u001b[0m \u001b[0;34m\u001b[0m\u001b[0m\n\u001b[0;32m---> 39\u001b[0;31m     \u001b[0mindex\u001b[0m \u001b[0;34m=\u001b[0m \u001b[0mGPTVectorStoreIndex\u001b[0m\u001b[0;34m.\u001b[0m\u001b[0mfrom_documents\u001b[0m\u001b[0;34m(\u001b[0m\u001b[0mdocuments\u001b[0m\u001b[0;34m,\u001b[0m \u001b[0mservice_context\u001b[0m\u001b[0;34m=\u001b[0m\u001b[0mservice_context\u001b[0m\u001b[0;34m,\u001b[0m \u001b[0muse_async\u001b[0m \u001b[0;34m=\u001b[0m \u001b[0;32mTrue\u001b[0m\u001b[0;34m)\u001b[0m\u001b[0;34m\u001b[0m\u001b[0;34m\u001b[0m\u001b[0m\n\u001b[0m\u001b[1;32m     40\u001b[0m     \u001b[0;31m# save index to disk\u001b[0m\u001b[0;34m\u001b[0m\u001b[0;34m\u001b[0m\u001b[0m\n\u001b[1;32m     41\u001b[0m     \u001b[0mindex\u001b[0m\u001b[0;34m.\u001b[0m\u001b[0mstorage_context\u001b[0m\u001b[0;34m.\u001b[0m\u001b[0mpersist\u001b[0m\u001b[0;34m(\u001b[0m\u001b[0mpersist_dir\u001b[0m\u001b[0;34m=\u001b[0m\u001b[0;34m\"/content/\"\u001b[0m\u001b[0;34m)\u001b[0m\u001b[0;34m\u001b[0m\u001b[0;34m\u001b[0m\u001b[0m\n",
            "\u001b[0;32m/usr/local/lib/python3.10/dist-packages/llama_index/indices/base.py\u001b[0m in \u001b[0;36mfrom_documents\u001b[0;34m(cls, documents, storage_context, service_context, show_progress, **kwargs)\u001b[0m\n\u001b[1;32m    100\u001b[0m             )\n\u001b[1;32m    101\u001b[0m \u001b[0;34m\u001b[0m\u001b[0m\n\u001b[0;32m--> 102\u001b[0;31m             return cls(\n\u001b[0m\u001b[1;32m    103\u001b[0m                 \u001b[0mnodes\u001b[0m\u001b[0;34m=\u001b[0m\u001b[0mnodes\u001b[0m\u001b[0;34m,\u001b[0m\u001b[0;34m\u001b[0m\u001b[0;34m\u001b[0m\u001b[0m\n\u001b[1;32m    104\u001b[0m                 \u001b[0mstorage_context\u001b[0m\u001b[0;34m=\u001b[0m\u001b[0mstorage_context\u001b[0m\u001b[0;34m,\u001b[0m\u001b[0;34m\u001b[0m\u001b[0;34m\u001b[0m\u001b[0m\n",
            "\u001b[0;32m/usr/local/lib/python3.10/dist-packages/llama_index/indices/vector_store/base.py\u001b[0m in \u001b[0;36m__init__\u001b[0;34m(self, nodes, index_struct, service_context, storage_context, use_async, store_nodes_override, show_progress, **kwargs)\u001b[0m\n\u001b[1;32m     44\u001b[0m         \u001b[0mself\u001b[0m\u001b[0;34m.\u001b[0m\u001b[0m_use_async\u001b[0m \u001b[0;34m=\u001b[0m \u001b[0muse_async\u001b[0m\u001b[0;34m\u001b[0m\u001b[0;34m\u001b[0m\u001b[0m\n\u001b[1;32m     45\u001b[0m         \u001b[0mself\u001b[0m\u001b[0;34m.\u001b[0m\u001b[0m_store_nodes_override\u001b[0m \u001b[0;34m=\u001b[0m \u001b[0mstore_nodes_override\u001b[0m\u001b[0;34m\u001b[0m\u001b[0;34m\u001b[0m\u001b[0m\n\u001b[0;32m---> 46\u001b[0;31m         super().__init__(\n\u001b[0m\u001b[1;32m     47\u001b[0m             \u001b[0mnodes\u001b[0m\u001b[0;34m=\u001b[0m\u001b[0mnodes\u001b[0m\u001b[0;34m,\u001b[0m\u001b[0;34m\u001b[0m\u001b[0;34m\u001b[0m\u001b[0m\n\u001b[1;32m     48\u001b[0m             \u001b[0mindex_struct\u001b[0m\u001b[0;34m=\u001b[0m\u001b[0mindex_struct\u001b[0m\u001b[0;34m,\u001b[0m\u001b[0;34m\u001b[0m\u001b[0;34m\u001b[0m\u001b[0m\n",
            "\u001b[0;32m/usr/local/lib/python3.10/dist-packages/llama_index/indices/base.py\u001b[0m in \u001b[0;36m__init__\u001b[0;34m(self, nodes, index_struct, storage_context, service_context, show_progress, **kwargs)\u001b[0m\n\u001b[1;32m     69\u001b[0m             \u001b[0;32mif\u001b[0m \u001b[0mindex_struct\u001b[0m \u001b[0;32mis\u001b[0m \u001b[0;32mNone\u001b[0m\u001b[0;34m:\u001b[0m\u001b[0;34m\u001b[0m\u001b[0;34m\u001b[0m\u001b[0m\n\u001b[1;32m     70\u001b[0m                 \u001b[0;32massert\u001b[0m \u001b[0mnodes\u001b[0m \u001b[0;32mis\u001b[0m \u001b[0;32mnot\u001b[0m \u001b[0;32mNone\u001b[0m\u001b[0;34m\u001b[0m\u001b[0;34m\u001b[0m\u001b[0m\n\u001b[0;32m---> 71\u001b[0;31m                 \u001b[0mindex_struct\u001b[0m \u001b[0;34m=\u001b[0m \u001b[0mself\u001b[0m\u001b[0;34m.\u001b[0m\u001b[0mbuild_index_from_nodes\u001b[0m\u001b[0;34m(\u001b[0m\u001b[0mnodes\u001b[0m\u001b[0;34m)\u001b[0m\u001b[0;34m\u001b[0m\u001b[0;34m\u001b[0m\u001b[0m\n\u001b[0m\u001b[1;32m     72\u001b[0m             \u001b[0mself\u001b[0m\u001b[0;34m.\u001b[0m\u001b[0m_index_struct\u001b[0m \u001b[0;34m=\u001b[0m \u001b[0mindex_struct\u001b[0m\u001b[0;34m\u001b[0m\u001b[0;34m\u001b[0m\u001b[0m\n\u001b[1;32m     73\u001b[0m             \u001b[0mself\u001b[0m\u001b[0;34m.\u001b[0m\u001b[0m_storage_context\u001b[0m\u001b[0;34m.\u001b[0m\u001b[0mindex_store\u001b[0m\u001b[0;34m.\u001b[0m\u001b[0madd_index_struct\u001b[0m\u001b[0;34m(\u001b[0m\u001b[0mself\u001b[0m\u001b[0;34m.\u001b[0m\u001b[0m_index_struct\u001b[0m\u001b[0;34m)\u001b[0m\u001b[0;34m\u001b[0m\u001b[0;34m\u001b[0m\u001b[0m\n",
            "\u001b[0;32m/usr/local/lib/python3.10/dist-packages/llama_index/indices/vector_store/base.py\u001b[0m in \u001b[0;36mbuild_index_from_nodes\u001b[0;34m(self, nodes)\u001b[0m\n\u001b[1;32m    239\u001b[0m             \u001b[0;32mif\u001b[0m \u001b[0mvector\u001b[0m \u001b[0mstore\u001b[0m \u001b[0mdoes\u001b[0m \u001b[0;32mnot\u001b[0m \u001b[0mstore\u001b[0m \u001b[0mtext\u001b[0m\u001b[0;34m\u001b[0m\u001b[0;34m\u001b[0m\u001b[0m\n\u001b[1;32m    240\u001b[0m         \"\"\"\n\u001b[0;32m--> 241\u001b[0;31m         \u001b[0;32mreturn\u001b[0m \u001b[0mself\u001b[0m\u001b[0;34m.\u001b[0m\u001b[0m_build_index_from_nodes\u001b[0m\u001b[0;34m(\u001b[0m\u001b[0mnodes\u001b[0m\u001b[0;34m)\u001b[0m\u001b[0;34m\u001b[0m\u001b[0;34m\u001b[0m\u001b[0m\n\u001b[0m\u001b[1;32m    242\u001b[0m \u001b[0;34m\u001b[0m\u001b[0m\n\u001b[1;32m    243\u001b[0m     \u001b[0;32mdef\u001b[0m \u001b[0m_insert\u001b[0m\u001b[0;34m(\u001b[0m\u001b[0mself\u001b[0m\u001b[0;34m,\u001b[0m \u001b[0mnodes\u001b[0m\u001b[0;34m:\u001b[0m \u001b[0mSequence\u001b[0m\u001b[0;34m[\u001b[0m\u001b[0mBaseNode\u001b[0m\u001b[0;34m]\u001b[0m\u001b[0;34m,\u001b[0m \u001b[0;34m**\u001b[0m\u001b[0minsert_kwargs\u001b[0m\u001b[0;34m:\u001b[0m \u001b[0mAny\u001b[0m\u001b[0;34m)\u001b[0m \u001b[0;34m->\u001b[0m \u001b[0;32mNone\u001b[0m\u001b[0;34m:\u001b[0m\u001b[0;34m\u001b[0m\u001b[0;34m\u001b[0m\u001b[0m\n",
            "\u001b[0;32m/usr/local/lib/python3.10/dist-packages/llama_index/indices/vector_store/base.py\u001b[0m in \u001b[0;36m_build_index_from_nodes\u001b[0;34m(self, nodes)\u001b[0m\n\u001b[1;32m    225\u001b[0m                 )\n\u001b[1;32m    226\u001b[0m             ]\n\u001b[0;32m--> 227\u001b[0;31m             \u001b[0mrun_async_tasks\u001b[0m\u001b[0;34m(\u001b[0m\u001b[0mtasks\u001b[0m\u001b[0;34m)\u001b[0m\u001b[0;34m\u001b[0m\u001b[0;34m\u001b[0m\u001b[0m\n\u001b[0m\u001b[1;32m    228\u001b[0m         \u001b[0;32melse\u001b[0m\u001b[0;34m:\u001b[0m\u001b[0;34m\u001b[0m\u001b[0;34m\u001b[0m\u001b[0m\n\u001b[1;32m    229\u001b[0m             self._add_nodes_to_index(\n",
            "\u001b[0;32m/usr/local/lib/python3.10/dist-packages/llama_index/async_utils.py\u001b[0m in \u001b[0;36mrun_async_tasks\u001b[0;34m(tasks, show_progress, progress_bar_desc)\u001b[0m\n\u001b[1;32m     37\u001b[0m         \u001b[0;32mreturn\u001b[0m \u001b[0;32mawait\u001b[0m \u001b[0masyncio\u001b[0m\u001b[0;34m.\u001b[0m\u001b[0mgather\u001b[0m\u001b[0;34m(\u001b[0m\u001b[0;34m*\u001b[0m\u001b[0mtasks_to_execute\u001b[0m\u001b[0;34m)\u001b[0m\u001b[0;34m\u001b[0m\u001b[0;34m\u001b[0m\u001b[0m\n\u001b[1;32m     38\u001b[0m \u001b[0;34m\u001b[0m\u001b[0m\n\u001b[0;32m---> 39\u001b[0;31m     \u001b[0moutputs\u001b[0m\u001b[0;34m:\u001b[0m \u001b[0mList\u001b[0m\u001b[0;34m[\u001b[0m\u001b[0mAny\u001b[0m\u001b[0;34m]\u001b[0m \u001b[0;34m=\u001b[0m \u001b[0masyncio\u001b[0m\u001b[0;34m.\u001b[0m\u001b[0mrun\u001b[0m\u001b[0;34m(\u001b[0m\u001b[0m_gather\u001b[0m\u001b[0;34m(\u001b[0m\u001b[0;34m)\u001b[0m\u001b[0;34m)\u001b[0m\u001b[0;34m\u001b[0m\u001b[0;34m\u001b[0m\u001b[0m\n\u001b[0m\u001b[1;32m     40\u001b[0m     \u001b[0;32mreturn\u001b[0m \u001b[0moutputs\u001b[0m\u001b[0;34m\u001b[0m\u001b[0;34m\u001b[0m\u001b[0m\n\u001b[1;32m     41\u001b[0m \u001b[0;34m\u001b[0m\u001b[0m\n",
            "\u001b[0;32m/usr/local/lib/python3.10/dist-packages/nest_asyncio.py\u001b[0m in \u001b[0;36mrun\u001b[0;34m(main, debug)\u001b[0m\n\u001b[1;32m     29\u001b[0m         \u001b[0mtask\u001b[0m \u001b[0;34m=\u001b[0m \u001b[0masyncio\u001b[0m\u001b[0;34m.\u001b[0m\u001b[0mensure_future\u001b[0m\u001b[0;34m(\u001b[0m\u001b[0mmain\u001b[0m\u001b[0;34m)\u001b[0m\u001b[0;34m\u001b[0m\u001b[0;34m\u001b[0m\u001b[0m\n\u001b[1;32m     30\u001b[0m         \u001b[0;32mtry\u001b[0m\u001b[0;34m:\u001b[0m\u001b[0;34m\u001b[0m\u001b[0;34m\u001b[0m\u001b[0m\n\u001b[0;32m---> 31\u001b[0;31m             \u001b[0;32mreturn\u001b[0m \u001b[0mloop\u001b[0m\u001b[0;34m.\u001b[0m\u001b[0mrun_until_complete\u001b[0m\u001b[0;34m(\u001b[0m\u001b[0mtask\u001b[0m\u001b[0;34m)\u001b[0m\u001b[0;34m\u001b[0m\u001b[0;34m\u001b[0m\u001b[0m\n\u001b[0m\u001b[1;32m     32\u001b[0m         \u001b[0;32mfinally\u001b[0m\u001b[0;34m:\u001b[0m\u001b[0;34m\u001b[0m\u001b[0;34m\u001b[0m\u001b[0m\n\u001b[1;32m     33\u001b[0m             \u001b[0;32mif\u001b[0m \u001b[0;32mnot\u001b[0m \u001b[0mtask\u001b[0m\u001b[0;34m.\u001b[0m\u001b[0mdone\u001b[0m\u001b[0;34m(\u001b[0m\u001b[0;34m)\u001b[0m\u001b[0;34m:\u001b[0m\u001b[0;34m\u001b[0m\u001b[0;34m\u001b[0m\u001b[0m\n",
            "\u001b[0;32m/usr/local/lib/python3.10/dist-packages/nest_asyncio.py\u001b[0m in \u001b[0;36mrun_until_complete\u001b[0;34m(self, future)\u001b[0m\n\u001b[1;32m     97\u001b[0m                 raise RuntimeError(\n\u001b[1;32m     98\u001b[0m                     'Event loop stopped before Future completed.')\n\u001b[0;32m---> 99\u001b[0;31m             \u001b[0;32mreturn\u001b[0m \u001b[0mf\u001b[0m\u001b[0;34m.\u001b[0m\u001b[0mresult\u001b[0m\u001b[0;34m(\u001b[0m\u001b[0;34m)\u001b[0m\u001b[0;34m\u001b[0m\u001b[0;34m\u001b[0m\u001b[0m\n\u001b[0m\u001b[1;32m    100\u001b[0m \u001b[0;34m\u001b[0m\u001b[0m\n\u001b[1;32m    101\u001b[0m     \u001b[0;32mdef\u001b[0m \u001b[0m_run_once\u001b[0m\u001b[0;34m(\u001b[0m\u001b[0mself\u001b[0m\u001b[0;34m)\u001b[0m\u001b[0;34m:\u001b[0m\u001b[0;34m\u001b[0m\u001b[0;34m\u001b[0m\u001b[0m\n",
            "\u001b[0;32m/usr/lib/python3.10/asyncio/futures.py\u001b[0m in \u001b[0;36mresult\u001b[0;34m(self)\u001b[0m\n\u001b[1;32m    199\u001b[0m         \u001b[0mself\u001b[0m\u001b[0;34m.\u001b[0m\u001b[0m__log_traceback\u001b[0m \u001b[0;34m=\u001b[0m \u001b[0;32mFalse\u001b[0m\u001b[0;34m\u001b[0m\u001b[0;34m\u001b[0m\u001b[0m\n\u001b[1;32m    200\u001b[0m         \u001b[0;32mif\u001b[0m \u001b[0mself\u001b[0m\u001b[0;34m.\u001b[0m\u001b[0m_exception\u001b[0m \u001b[0;32mis\u001b[0m \u001b[0;32mnot\u001b[0m \u001b[0;32mNone\u001b[0m\u001b[0;34m:\u001b[0m\u001b[0;34m\u001b[0m\u001b[0;34m\u001b[0m\u001b[0m\n\u001b[0;32m--> 201\u001b[0;31m             \u001b[0;32mraise\u001b[0m \u001b[0mself\u001b[0m\u001b[0;34m.\u001b[0m\u001b[0m_exception\u001b[0m\u001b[0;34m.\u001b[0m\u001b[0mwith_traceback\u001b[0m\u001b[0;34m(\u001b[0m\u001b[0mself\u001b[0m\u001b[0;34m.\u001b[0m\u001b[0m_exception_tb\u001b[0m\u001b[0;34m)\u001b[0m\u001b[0;34m\u001b[0m\u001b[0;34m\u001b[0m\u001b[0m\n\u001b[0m\u001b[1;32m    202\u001b[0m         \u001b[0;32mreturn\u001b[0m \u001b[0mself\u001b[0m\u001b[0;34m.\u001b[0m\u001b[0m_result\u001b[0m\u001b[0;34m\u001b[0m\u001b[0;34m\u001b[0m\u001b[0m\n\u001b[1;32m    203\u001b[0m \u001b[0;34m\u001b[0m\u001b[0m\n",
            "\u001b[0;32m/usr/lib/python3.10/asyncio/tasks.py\u001b[0m in \u001b[0;36m__step\u001b[0;34m(***failed resolving arguments***)\u001b[0m\n\u001b[1;32m    232\u001b[0m                 \u001b[0mresult\u001b[0m \u001b[0;34m=\u001b[0m \u001b[0mcoro\u001b[0m\u001b[0;34m.\u001b[0m\u001b[0msend\u001b[0m\u001b[0;34m(\u001b[0m\u001b[0;32mNone\u001b[0m\u001b[0;34m)\u001b[0m\u001b[0;34m\u001b[0m\u001b[0;34m\u001b[0m\u001b[0m\n\u001b[1;32m    233\u001b[0m             \u001b[0;32melse\u001b[0m\u001b[0;34m:\u001b[0m\u001b[0;34m\u001b[0m\u001b[0;34m\u001b[0m\u001b[0m\n\u001b[0;32m--> 234\u001b[0;31m                 \u001b[0mresult\u001b[0m \u001b[0;34m=\u001b[0m \u001b[0mcoro\u001b[0m\u001b[0;34m.\u001b[0m\u001b[0mthrow\u001b[0m\u001b[0;34m(\u001b[0m\u001b[0mexc\u001b[0m\u001b[0;34m)\u001b[0m\u001b[0;34m\u001b[0m\u001b[0;34m\u001b[0m\u001b[0m\n\u001b[0m\u001b[1;32m    235\u001b[0m         \u001b[0;32mexcept\u001b[0m \u001b[0mStopIteration\u001b[0m \u001b[0;32mas\u001b[0m \u001b[0mexc\u001b[0m\u001b[0;34m:\u001b[0m\u001b[0;34m\u001b[0m\u001b[0;34m\u001b[0m\u001b[0m\n\u001b[1;32m    236\u001b[0m             \u001b[0;32mif\u001b[0m \u001b[0mself\u001b[0m\u001b[0;34m.\u001b[0m\u001b[0m_must_cancel\u001b[0m\u001b[0;34m:\u001b[0m\u001b[0;34m\u001b[0m\u001b[0;34m\u001b[0m\u001b[0m\n",
            "\u001b[0;32m/usr/local/lib/python3.10/dist-packages/llama_index/async_utils.py\u001b[0m in \u001b[0;36m_gather\u001b[0;34m()\u001b[0m\n\u001b[1;32m     35\u001b[0m \u001b[0;34m\u001b[0m\u001b[0m\n\u001b[1;32m     36\u001b[0m     \u001b[0;32masync\u001b[0m \u001b[0;32mdef\u001b[0m \u001b[0m_gather\u001b[0m\u001b[0;34m(\u001b[0m\u001b[0;34m)\u001b[0m \u001b[0;34m->\u001b[0m \u001b[0mList\u001b[0m\u001b[0;34m[\u001b[0m\u001b[0mAny\u001b[0m\u001b[0;34m]\u001b[0m\u001b[0;34m:\u001b[0m\u001b[0;34m\u001b[0m\u001b[0;34m\u001b[0m\u001b[0m\n\u001b[0;32m---> 37\u001b[0;31m         \u001b[0;32mreturn\u001b[0m \u001b[0;32mawait\u001b[0m \u001b[0masyncio\u001b[0m\u001b[0;34m.\u001b[0m\u001b[0mgather\u001b[0m\u001b[0;34m(\u001b[0m\u001b[0;34m*\u001b[0m\u001b[0mtasks_to_execute\u001b[0m\u001b[0;34m)\u001b[0m\u001b[0;34m\u001b[0m\u001b[0;34m\u001b[0m\u001b[0m\n\u001b[0m\u001b[1;32m     38\u001b[0m \u001b[0;34m\u001b[0m\u001b[0m\n\u001b[1;32m     39\u001b[0m     \u001b[0moutputs\u001b[0m\u001b[0;34m:\u001b[0m \u001b[0mList\u001b[0m\u001b[0;34m[\u001b[0m\u001b[0mAny\u001b[0m\u001b[0;34m]\u001b[0m \u001b[0;34m=\u001b[0m \u001b[0masyncio\u001b[0m\u001b[0;34m.\u001b[0m\u001b[0mrun\u001b[0m\u001b[0;34m(\u001b[0m\u001b[0m_gather\u001b[0m\u001b[0;34m(\u001b[0m\u001b[0;34m)\u001b[0m\u001b[0;34m)\u001b[0m\u001b[0;34m\u001b[0m\u001b[0;34m\u001b[0m\u001b[0m\n",
            "\u001b[0;32m/usr/lib/python3.10/asyncio/tasks.py\u001b[0m in \u001b[0;36m__wakeup\u001b[0;34m(self, future)\u001b[0m\n\u001b[1;32m    302\u001b[0m     \u001b[0;32mdef\u001b[0m \u001b[0m__wakeup\u001b[0m\u001b[0;34m(\u001b[0m\u001b[0mself\u001b[0m\u001b[0;34m,\u001b[0m \u001b[0mfuture\u001b[0m\u001b[0;34m)\u001b[0m\u001b[0;34m:\u001b[0m\u001b[0;34m\u001b[0m\u001b[0;34m\u001b[0m\u001b[0m\n\u001b[1;32m    303\u001b[0m         \u001b[0;32mtry\u001b[0m\u001b[0;34m:\u001b[0m\u001b[0;34m\u001b[0m\u001b[0;34m\u001b[0m\u001b[0m\n\u001b[0;32m--> 304\u001b[0;31m             \u001b[0mfuture\u001b[0m\u001b[0;34m.\u001b[0m\u001b[0mresult\u001b[0m\u001b[0;34m(\u001b[0m\u001b[0;34m)\u001b[0m\u001b[0;34m\u001b[0m\u001b[0;34m\u001b[0m\u001b[0m\n\u001b[0m\u001b[1;32m    305\u001b[0m         \u001b[0;32mexcept\u001b[0m \u001b[0mBaseException\u001b[0m \u001b[0;32mas\u001b[0m \u001b[0mexc\u001b[0m\u001b[0;34m:\u001b[0m\u001b[0;34m\u001b[0m\u001b[0;34m\u001b[0m\u001b[0m\n\u001b[1;32m    306\u001b[0m             \u001b[0;31m# This may also be a cancellation.\u001b[0m\u001b[0;34m\u001b[0m\u001b[0;34m\u001b[0m\u001b[0m\n",
            "\u001b[0;32m/usr/lib/python3.10/asyncio/tasks.py\u001b[0m in \u001b[0;36m__step\u001b[0;34m(***failed resolving arguments***)\u001b[0m\n\u001b[1;32m    232\u001b[0m                 \u001b[0mresult\u001b[0m \u001b[0;34m=\u001b[0m \u001b[0mcoro\u001b[0m\u001b[0;34m.\u001b[0m\u001b[0msend\u001b[0m\u001b[0;34m(\u001b[0m\u001b[0;32mNone\u001b[0m\u001b[0;34m)\u001b[0m\u001b[0;34m\u001b[0m\u001b[0;34m\u001b[0m\u001b[0m\n\u001b[1;32m    233\u001b[0m             \u001b[0;32melse\u001b[0m\u001b[0;34m:\u001b[0m\u001b[0;34m\u001b[0m\u001b[0;34m\u001b[0m\u001b[0m\n\u001b[0;32m--> 234\u001b[0;31m                 \u001b[0mresult\u001b[0m \u001b[0;34m=\u001b[0m \u001b[0mcoro\u001b[0m\u001b[0;34m.\u001b[0m\u001b[0mthrow\u001b[0m\u001b[0;34m(\u001b[0m\u001b[0mexc\u001b[0m\u001b[0;34m)\u001b[0m\u001b[0;34m\u001b[0m\u001b[0;34m\u001b[0m\u001b[0m\n\u001b[0m\u001b[1;32m    235\u001b[0m         \u001b[0;32mexcept\u001b[0m \u001b[0mStopIteration\u001b[0m \u001b[0;32mas\u001b[0m \u001b[0mexc\u001b[0m\u001b[0;34m:\u001b[0m\u001b[0;34m\u001b[0m\u001b[0;34m\u001b[0m\u001b[0m\n\u001b[1;32m    236\u001b[0m             \u001b[0;32mif\u001b[0m \u001b[0mself\u001b[0m\u001b[0;34m.\u001b[0m\u001b[0m_must_cancel\u001b[0m\u001b[0;34m:\u001b[0m\u001b[0;34m\u001b[0m\u001b[0;34m\u001b[0m\u001b[0m\n",
            "\u001b[0;32m/usr/local/lib/python3.10/dist-packages/llama_index/indices/vector_store/base.py\u001b[0m in \u001b[0;36m_async_add_nodes_to_index\u001b[0;34m(self, index_struct, nodes, show_progress)\u001b[0m\n\u001b[1;32m    170\u001b[0m             \u001b[0;32mreturn\u001b[0m\u001b[0;34m\u001b[0m\u001b[0;34m\u001b[0m\u001b[0m\n\u001b[1;32m    171\u001b[0m \u001b[0;34m\u001b[0m\u001b[0m\n\u001b[0;32m--> 172\u001b[0;31m         embedding_results = await self._aget_node_embedding_results(\n\u001b[0m\u001b[1;32m    173\u001b[0m             \u001b[0mnodes\u001b[0m\u001b[0;34m,\u001b[0m \u001b[0mshow_progress\u001b[0m\u001b[0;34m\u001b[0m\u001b[0;34m\u001b[0m\u001b[0m\n\u001b[1;32m    174\u001b[0m         )\n",
            "\u001b[0;32m/usr/local/lib/python3.10/dist-packages/llama_index/indices/vector_store/base.py\u001b[0m in \u001b[0;36m_aget_node_embedding_results\u001b[0;34m(self, nodes, show_progress)\u001b[0m\n\u001b[1;32m    146\u001b[0m             \u001b[0mresult_ids\u001b[0m\u001b[0;34m,\u001b[0m\u001b[0;34m\u001b[0m\u001b[0;34m\u001b[0m\u001b[0m\n\u001b[1;32m    147\u001b[0m             \u001b[0mresult_embeddings\u001b[0m\u001b[0;34m,\u001b[0m\u001b[0;34m\u001b[0m\u001b[0;34m\u001b[0m\u001b[0m\n\u001b[0;32m--> 148\u001b[0;31m         \u001b[0;34m)\u001b[0m \u001b[0;34m=\u001b[0m \u001b[0;32mawait\u001b[0m \u001b[0mself\u001b[0m\u001b[0;34m.\u001b[0m\u001b[0m_service_context\u001b[0m\u001b[0;34m.\u001b[0m\u001b[0membed_model\u001b[0m\u001b[0;34m.\u001b[0m\u001b[0maget_queued_text_embeddings\u001b[0m\u001b[0;34m(\u001b[0m\u001b[0;34m\u001b[0m\u001b[0;34m\u001b[0m\u001b[0m\n\u001b[0m\u001b[1;32m    149\u001b[0m             \u001b[0mtext_queue\u001b[0m\u001b[0;34m,\u001b[0m \u001b[0mshow_progress\u001b[0m\u001b[0;34m\u001b[0m\u001b[0;34m\u001b[0m\u001b[0m\n\u001b[1;32m    150\u001b[0m         )\n",
            "\u001b[0;32m/usr/local/lib/python3.10/dist-packages/llama_index/embeddings/base.py\u001b[0m in \u001b[0;36maget_queued_text_embeddings\u001b[0;34m(self, text_queue, show_progress)\u001b[0m\n\u001b[1;32m    284\u001b[0m                 \u001b[0;32mpass\u001b[0m\u001b[0;34m\u001b[0m\u001b[0;34m\u001b[0m\u001b[0m\n\u001b[1;32m    285\u001b[0m         \u001b[0;32melse\u001b[0m\u001b[0;34m:\u001b[0m\u001b[0;34m\u001b[0m\u001b[0;34m\u001b[0m\u001b[0m\n\u001b[0;32m--> 286\u001b[0;31m             \u001b[0mnested_embeddings\u001b[0m \u001b[0;34m=\u001b[0m \u001b[0;32mawait\u001b[0m \u001b[0masyncio\u001b[0m\u001b[0;34m.\u001b[0m\u001b[0mgather\u001b[0m\u001b[0;34m(\u001b[0m\u001b[0;34m*\u001b[0m\u001b[0membeddings_coroutines\u001b[0m\u001b[0;34m)\u001b[0m\u001b[0;34m\u001b[0m\u001b[0;34m\u001b[0m\u001b[0m\n\u001b[0m\u001b[1;32m    287\u001b[0m \u001b[0;34m\u001b[0m\u001b[0m\n\u001b[1;32m    288\u001b[0m         result_embeddings = [\n",
            "\u001b[0;32m/usr/lib/python3.10/asyncio/tasks.py\u001b[0m in \u001b[0;36m__wakeup\u001b[0;34m(self, future)\u001b[0m\n\u001b[1;32m    302\u001b[0m     \u001b[0;32mdef\u001b[0m \u001b[0m__wakeup\u001b[0m\u001b[0;34m(\u001b[0m\u001b[0mself\u001b[0m\u001b[0;34m,\u001b[0m \u001b[0mfuture\u001b[0m\u001b[0;34m)\u001b[0m\u001b[0;34m:\u001b[0m\u001b[0;34m\u001b[0m\u001b[0;34m\u001b[0m\u001b[0m\n\u001b[1;32m    303\u001b[0m         \u001b[0;32mtry\u001b[0m\u001b[0;34m:\u001b[0m\u001b[0;34m\u001b[0m\u001b[0;34m\u001b[0m\u001b[0m\n\u001b[0;32m--> 304\u001b[0;31m             \u001b[0mfuture\u001b[0m\u001b[0;34m.\u001b[0m\u001b[0mresult\u001b[0m\u001b[0;34m(\u001b[0m\u001b[0;34m)\u001b[0m\u001b[0;34m\u001b[0m\u001b[0;34m\u001b[0m\u001b[0m\n\u001b[0m\u001b[1;32m    305\u001b[0m         \u001b[0;32mexcept\u001b[0m \u001b[0mBaseException\u001b[0m \u001b[0;32mas\u001b[0m \u001b[0mexc\u001b[0m\u001b[0;34m:\u001b[0m\u001b[0;34m\u001b[0m\u001b[0;34m\u001b[0m\u001b[0m\n\u001b[1;32m    306\u001b[0m             \u001b[0;31m# This may also be a cancellation.\u001b[0m\u001b[0;34m\u001b[0m\u001b[0;34m\u001b[0m\u001b[0m\n",
            "\u001b[0;32m/usr/lib/python3.10/asyncio/tasks.py\u001b[0m in \u001b[0;36m__step\u001b[0;34m(***failed resolving arguments***)\u001b[0m\n\u001b[1;32m    230\u001b[0m                 \u001b[0;31m# We use the `send` method directly, because coroutines\u001b[0m\u001b[0;34m\u001b[0m\u001b[0;34m\u001b[0m\u001b[0m\n\u001b[1;32m    231\u001b[0m                 \u001b[0;31m# don't have `__iter__` and `__next__` methods.\u001b[0m\u001b[0;34m\u001b[0m\u001b[0;34m\u001b[0m\u001b[0m\n\u001b[0;32m--> 232\u001b[0;31m                 \u001b[0mresult\u001b[0m \u001b[0;34m=\u001b[0m \u001b[0mcoro\u001b[0m\u001b[0;34m.\u001b[0m\u001b[0msend\u001b[0m\u001b[0;34m(\u001b[0m\u001b[0;32mNone\u001b[0m\u001b[0;34m)\u001b[0m\u001b[0;34m\u001b[0m\u001b[0;34m\u001b[0m\u001b[0m\n\u001b[0m\u001b[1;32m    233\u001b[0m             \u001b[0;32melse\u001b[0m\u001b[0;34m:\u001b[0m\u001b[0;34m\u001b[0m\u001b[0;34m\u001b[0m\u001b[0m\n\u001b[1;32m    234\u001b[0m                 \u001b[0mresult\u001b[0m \u001b[0;34m=\u001b[0m \u001b[0mcoro\u001b[0m\u001b[0;34m.\u001b[0m\u001b[0mthrow\u001b[0m\u001b[0;34m(\u001b[0m\u001b[0mexc\u001b[0m\u001b[0;34m)\u001b[0m\u001b[0;34m\u001b[0m\u001b[0;34m\u001b[0m\u001b[0m\n",
            "\u001b[0;32m/usr/local/lib/python3.10/dist-packages/llama_index/embeddings/openai.py\u001b[0m in \u001b[0;36m_aget_text_embeddings\u001b[0;34m(self, texts)\u001b[0m\n\u001b[1;32m    348\u001b[0m     \u001b[0;32masync\u001b[0m \u001b[0;32mdef\u001b[0m \u001b[0m_aget_text_embeddings\u001b[0m\u001b[0;34m(\u001b[0m\u001b[0mself\u001b[0m\u001b[0;34m,\u001b[0m \u001b[0mtexts\u001b[0m\u001b[0;34m:\u001b[0m \u001b[0mList\u001b[0m\u001b[0;34m[\u001b[0m\u001b[0mstr\u001b[0m\u001b[0;34m]\u001b[0m\u001b[0;34m)\u001b[0m \u001b[0;34m->\u001b[0m \u001b[0mList\u001b[0m\u001b[0;34m[\u001b[0m\u001b[0mList\u001b[0m\u001b[0;34m[\u001b[0m\u001b[0mfloat\u001b[0m\u001b[0;34m]\u001b[0m\u001b[0;34m]\u001b[0m\u001b[0;34m:\u001b[0m\u001b[0;34m\u001b[0m\u001b[0;34m\u001b[0m\u001b[0m\n\u001b[1;32m    349\u001b[0m         \u001b[0;34m\"\"\"Asynchronously get text embeddings.\"\"\"\u001b[0m\u001b[0;34m\u001b[0m\u001b[0;34m\u001b[0m\u001b[0m\n\u001b[0;32m--> 350\u001b[0;31m         return await aget_embeddings(\n\u001b[0m\u001b[1;32m    351\u001b[0m             \u001b[0mtexts\u001b[0m\u001b[0;34m,\u001b[0m\u001b[0;34m\u001b[0m\u001b[0;34m\u001b[0m\u001b[0m\n\u001b[1;32m    352\u001b[0m             \u001b[0mengine\u001b[0m\u001b[0;34m=\u001b[0m\u001b[0mself\u001b[0m\u001b[0;34m.\u001b[0m\u001b[0m_text_engine\u001b[0m\u001b[0;34m,\u001b[0m\u001b[0;34m\u001b[0m\u001b[0;34m\u001b[0m\u001b[0m\n",
            "\u001b[0;32m/usr/local/lib/python3.10/dist-packages/tenacity/_asyncio.py\u001b[0m in \u001b[0;36masync_wrapped\u001b[0;34m(*args, **kwargs)\u001b[0m\n\u001b[1;32m     86\u001b[0m         \u001b[0;34m@\u001b[0m\u001b[0mfunctools\u001b[0m\u001b[0;34m.\u001b[0m\u001b[0mwraps\u001b[0m\u001b[0;34m(\u001b[0m\u001b[0mfn\u001b[0m\u001b[0;34m)\u001b[0m\u001b[0;34m\u001b[0m\u001b[0;34m\u001b[0m\u001b[0m\n\u001b[1;32m     87\u001b[0m         \u001b[0;32masync\u001b[0m \u001b[0;32mdef\u001b[0m \u001b[0masync_wrapped\u001b[0m\u001b[0;34m(\u001b[0m\u001b[0;34m*\u001b[0m\u001b[0margs\u001b[0m\u001b[0;34m:\u001b[0m \u001b[0mt\u001b[0m\u001b[0;34m.\u001b[0m\u001b[0mAny\u001b[0m\u001b[0;34m,\u001b[0m \u001b[0;34m**\u001b[0m\u001b[0mkwargs\u001b[0m\u001b[0;34m:\u001b[0m \u001b[0mt\u001b[0m\u001b[0;34m.\u001b[0m\u001b[0mAny\u001b[0m\u001b[0;34m)\u001b[0m \u001b[0;34m->\u001b[0m \u001b[0mt\u001b[0m\u001b[0;34m.\u001b[0m\u001b[0mAny\u001b[0m\u001b[0;34m:\u001b[0m\u001b[0;34m\u001b[0m\u001b[0;34m\u001b[0m\u001b[0m\n\u001b[0;32m---> 88\u001b[0;31m             \u001b[0;32mreturn\u001b[0m \u001b[0;32mawait\u001b[0m \u001b[0mfn\u001b[0m\u001b[0;34m(\u001b[0m\u001b[0;34m*\u001b[0m\u001b[0margs\u001b[0m\u001b[0;34m,\u001b[0m \u001b[0;34m**\u001b[0m\u001b[0mkwargs\u001b[0m\u001b[0;34m)\u001b[0m\u001b[0;34m\u001b[0m\u001b[0;34m\u001b[0m\u001b[0m\n\u001b[0m\u001b[1;32m     89\u001b[0m \u001b[0;34m\u001b[0m\u001b[0m\n\u001b[1;32m     90\u001b[0m         \u001b[0;31m# Preserve attributes\u001b[0m\u001b[0;34m\u001b[0m\u001b[0;34m\u001b[0m\u001b[0m\n",
            "\u001b[0;32m/usr/local/lib/python3.10/dist-packages/tenacity/_asyncio.py\u001b[0m in \u001b[0;36m__call__\u001b[0;34m(self, fn, *args, **kwargs)\u001b[0m\n\u001b[1;32m     45\u001b[0m         \u001b[0mretry_state\u001b[0m \u001b[0;34m=\u001b[0m \u001b[0mRetryCallState\u001b[0m\u001b[0;34m(\u001b[0m\u001b[0mretry_object\u001b[0m\u001b[0;34m=\u001b[0m\u001b[0mself\u001b[0m\u001b[0;34m,\u001b[0m \u001b[0mfn\u001b[0m\u001b[0;34m=\u001b[0m\u001b[0mfn\u001b[0m\u001b[0;34m,\u001b[0m \u001b[0margs\u001b[0m\u001b[0;34m=\u001b[0m\u001b[0margs\u001b[0m\u001b[0;34m,\u001b[0m \u001b[0mkwargs\u001b[0m\u001b[0;34m=\u001b[0m\u001b[0mkwargs\u001b[0m\u001b[0;34m)\u001b[0m\u001b[0;34m\u001b[0m\u001b[0;34m\u001b[0m\u001b[0m\n\u001b[1;32m     46\u001b[0m         \u001b[0;32mwhile\u001b[0m \u001b[0;32mTrue\u001b[0m\u001b[0;34m:\u001b[0m\u001b[0;34m\u001b[0m\u001b[0;34m\u001b[0m\u001b[0m\n\u001b[0;32m---> 47\u001b[0;31m             \u001b[0mdo\u001b[0m \u001b[0;34m=\u001b[0m \u001b[0mself\u001b[0m\u001b[0;34m.\u001b[0m\u001b[0miter\u001b[0m\u001b[0;34m(\u001b[0m\u001b[0mretry_state\u001b[0m\u001b[0;34m=\u001b[0m\u001b[0mretry_state\u001b[0m\u001b[0;34m)\u001b[0m\u001b[0;34m\u001b[0m\u001b[0;34m\u001b[0m\u001b[0m\n\u001b[0m\u001b[1;32m     48\u001b[0m             \u001b[0;32mif\u001b[0m \u001b[0misinstance\u001b[0m\u001b[0;34m(\u001b[0m\u001b[0mdo\u001b[0m\u001b[0;34m,\u001b[0m \u001b[0mDoAttempt\u001b[0m\u001b[0;34m)\u001b[0m\u001b[0;34m:\u001b[0m\u001b[0;34m\u001b[0m\u001b[0;34m\u001b[0m\u001b[0m\n\u001b[1;32m     49\u001b[0m                 \u001b[0;32mtry\u001b[0m\u001b[0;34m:\u001b[0m\u001b[0;34m\u001b[0m\u001b[0;34m\u001b[0m\u001b[0m\n",
            "\u001b[0;32m/usr/local/lib/python3.10/dist-packages/tenacity/__init__.py\u001b[0m in \u001b[0;36miter\u001b[0;34m(self, retry_state)\u001b[0m\n\u001b[1;32m    324\u001b[0m             \u001b[0;32mif\u001b[0m \u001b[0mself\u001b[0m\u001b[0;34m.\u001b[0m\u001b[0mreraise\u001b[0m\u001b[0;34m:\u001b[0m\u001b[0;34m\u001b[0m\u001b[0;34m\u001b[0m\u001b[0m\n\u001b[1;32m    325\u001b[0m                 \u001b[0;32mraise\u001b[0m \u001b[0mretry_exc\u001b[0m\u001b[0;34m.\u001b[0m\u001b[0mreraise\u001b[0m\u001b[0;34m(\u001b[0m\u001b[0;34m)\u001b[0m\u001b[0;34m\u001b[0m\u001b[0;34m\u001b[0m\u001b[0m\n\u001b[0;32m--> 326\u001b[0;31m             \u001b[0;32mraise\u001b[0m \u001b[0mretry_exc\u001b[0m \u001b[0;32mfrom\u001b[0m \u001b[0mfut\u001b[0m\u001b[0;34m.\u001b[0m\u001b[0mexception\u001b[0m\u001b[0;34m(\u001b[0m\u001b[0;34m)\u001b[0m\u001b[0;34m\u001b[0m\u001b[0;34m\u001b[0m\u001b[0m\n\u001b[0m\u001b[1;32m    327\u001b[0m \u001b[0;34m\u001b[0m\u001b[0m\n\u001b[1;32m    328\u001b[0m         \u001b[0;32mif\u001b[0m \u001b[0mself\u001b[0m\u001b[0;34m.\u001b[0m\u001b[0mwait\u001b[0m\u001b[0;34m:\u001b[0m\u001b[0;34m\u001b[0m\u001b[0;34m\u001b[0m\u001b[0m\n",
            "\u001b[0;31mRetryError\u001b[0m: RetryError[<Future at 0x7c01651a41c0 state=finished raised RateLimitError>]"
          ]
        }
      ]
    },
    {
      "cell_type": "code",
      "source": [
        "import time\n",
        "start_time = time.perf_counter()\n",
        "index = construct_index(output_dir)\n",
        "duration = time.perf_counter() - start_time\n",
        "print(duration)"
      ],
      "metadata": {
        "id": "vgi--CiCbdju"
      },
      "execution_count": null,
      "outputs": []
    },
    {
      "cell_type": "code",
      "source": [
        "prompts = ['This is a public meeting. What were the issues discussed in the meeting.', 'Who participated in the meeting?', \"How long did the meeting last?\", \"What was the agenda?\"]\n",
        "multi_prompt_ask(prompts=prompts)"
      ],
      "metadata": {
        "colab": {
          "base_uri": "https://localhost:8080/",
          "height": 464
        },
        "id": "8miTLZjra0VP",
        "outputId": "16ff955e-e80b-46e0-a043-8f0f17b75ac9"
      },
      "execution_count": 83,
      "outputs": [
        {
          "output_type": "stream",
          "name": "stdout",
          "text": [
            "The issues discussed in the meeting included the comprehensive land use plan meetings, upcoming cases for the planning/zoning board/commission, the reminder about Arbor Day, the introduction of the new board and award winners for the fire department, and the addition of items to the agenda such as the remodel of Pecan Street and a resolution regarding the support of the I-10 Mobile River Bridge.The participants in the meeting included the mayor, the city council members, Pastor Jason Garcia, members of Troop 47, Chief Ellis, and various award winners.The meeting lasted for 40 minutes.The agenda included items such as the approval of minutes, a prayer led by a pastor, the pledge of allegiance, adding items to the agenda, a report from the mayor, and discussions about a truck for the building department and roof repair for the writer's cottage."
          ]
        },
        {
          "output_type": "execute_result",
          "data": {
            "text/plain": [
              "                                               Query  \\\n",
              "0  This is a public meeting. What were the issues...   \n",
              "1  This is a public meeting. What were the issues...   \n",
              "2  This is a public meeting. What were the issues...   \n",
              "0                   Who participated in the meeting?   \n",
              "1                   Who participated in the meeting?   \n",
              "2                   Who participated in the meeting?   \n",
              "0                     How long did the meeting last?   \n",
              "1                     How long did the meeting last?   \n",
              "2                     How long did the meeting last?   \n",
              "0                               What was the agenda?   \n",
              "1                               What was the agenda?   \n",
              "2                               What was the agenda?   \n",
              "\n",
              "                                            Response Response Eval Result  \\\n",
              "0  The issues discussed in the meeting included t...                   NO   \n",
              "1  The issues discussed in the meeting included t...                   NO   \n",
              "2  The issues discussed in the meeting included t...                   NO   \n",
              "0  The participants in the meeting included the m...                   NO   \n",
              "1  The participants in the meeting included the m...                   NO   \n",
              "2  The participants in the meeting included the m...                   NO   \n",
              "0                 The meeting lasted for 40 minutes.                  YES   \n",
              "1                 The meeting lasted for 40 minutes.                  YES   \n",
              "2                 The meeting lasted for 40 minutes.                  YES   \n",
              "0  The agenda included items such as the approval...                   NO   \n",
              "1  The agenda included items such as the approval...                   NO   \n",
              "2  The agenda included items such as the approval...                   NO   \n",
              "\n",
              "                                              Source Source Eval Result  \n",
              "0  this is not a new project  everything you saw ...                 NO  \n",
              "1  say aye  aye any opposed say nay  all right  m...                YES  \n",
              "2  {\"caption_text_clean\": \"{00:00:03} city counci...                 NO  \n",
              "0  say aye  aye any opposed say nay  all right  m...                YES  \n",
              "1  {\"caption_text_clean\": \"{00:00:03} city counci...                YES  \n",
              "2  is public  participation this is for  agenda i...                 NO  \n",
              "0  in 45  minutes  and the second and the always ...                 NO  \n",
              "1  a second all in favor please  say aye all righ...                 NO  \n",
              "2  m and then a little  bit later  in the month t...                YES  \n",
              "0  {\"caption_text_clean\": \"{00:00:03} all right t...                YES  \n",
              "1  {\"caption_text_clean\": \"{00:00:03} city counci...                YES  \n",
              "2  couple weeks  off and and do our daily jobs uh...                YES  "
            ],
            "text/html": [
              "\n",
              "  <div id=\"df-34efe20a-82ca-4d07-b926-088f86f24bb1\" class=\"colab-df-container\">\n",
              "    <div>\n",
              "<style scoped>\n",
              "    .dataframe tbody tr th:only-of-type {\n",
              "        vertical-align: middle;\n",
              "    }\n",
              "\n",
              "    .dataframe tbody tr th {\n",
              "        vertical-align: top;\n",
              "    }\n",
              "\n",
              "    .dataframe thead th {\n",
              "        text-align: right;\n",
              "    }\n",
              "</style>\n",
              "<table border=\"1\" class=\"dataframe\">\n",
              "  <thead>\n",
              "    <tr style=\"text-align: right;\">\n",
              "      <th></th>\n",
              "      <th>Query</th>\n",
              "      <th>Response</th>\n",
              "      <th>Response Eval Result</th>\n",
              "      <th>Source</th>\n",
              "      <th>Source Eval Result</th>\n",
              "    </tr>\n",
              "  </thead>\n",
              "  <tbody>\n",
              "    <tr>\n",
              "      <th>0</th>\n",
              "      <td>This is a public meeting. What were the issues...</td>\n",
              "      <td>The issues discussed in the meeting included t...</td>\n",
              "      <td>NO</td>\n",
              "      <td>this is not a new project  everything you saw ...</td>\n",
              "      <td>NO</td>\n",
              "    </tr>\n",
              "    <tr>\n",
              "      <th>1</th>\n",
              "      <td>This is a public meeting. What were the issues...</td>\n",
              "      <td>The issues discussed in the meeting included t...</td>\n",
              "      <td>NO</td>\n",
              "      <td>say aye  aye any opposed say nay  all right  m...</td>\n",
              "      <td>YES</td>\n",
              "    </tr>\n",
              "    <tr>\n",
              "      <th>2</th>\n",
              "      <td>This is a public meeting. What were the issues...</td>\n",
              "      <td>The issues discussed in the meeting included t...</td>\n",
              "      <td>NO</td>\n",
              "      <td>{\"caption_text_clean\": \"{00:00:03} city counci...</td>\n",
              "      <td>NO</td>\n",
              "    </tr>\n",
              "    <tr>\n",
              "      <th>0</th>\n",
              "      <td>Who participated in the meeting?</td>\n",
              "      <td>The participants in the meeting included the m...</td>\n",
              "      <td>NO</td>\n",
              "      <td>say aye  aye any opposed say nay  all right  m...</td>\n",
              "      <td>YES</td>\n",
              "    </tr>\n",
              "    <tr>\n",
              "      <th>1</th>\n",
              "      <td>Who participated in the meeting?</td>\n",
              "      <td>The participants in the meeting included the m...</td>\n",
              "      <td>NO</td>\n",
              "      <td>{\"caption_text_clean\": \"{00:00:03} city counci...</td>\n",
              "      <td>YES</td>\n",
              "    </tr>\n",
              "    <tr>\n",
              "      <th>2</th>\n",
              "      <td>Who participated in the meeting?</td>\n",
              "      <td>The participants in the meeting included the m...</td>\n",
              "      <td>NO</td>\n",
              "      <td>is public  participation this is for  agenda i...</td>\n",
              "      <td>NO</td>\n",
              "    </tr>\n",
              "    <tr>\n",
              "      <th>0</th>\n",
              "      <td>How long did the meeting last?</td>\n",
              "      <td>The meeting lasted for 40 minutes.</td>\n",
              "      <td>YES</td>\n",
              "      <td>in 45  minutes  and the second and the always ...</td>\n",
              "      <td>NO</td>\n",
              "    </tr>\n",
              "    <tr>\n",
              "      <th>1</th>\n",
              "      <td>How long did the meeting last?</td>\n",
              "      <td>The meeting lasted for 40 minutes.</td>\n",
              "      <td>YES</td>\n",
              "      <td>a second all in favor please  say aye all righ...</td>\n",
              "      <td>NO</td>\n",
              "    </tr>\n",
              "    <tr>\n",
              "      <th>2</th>\n",
              "      <td>How long did the meeting last?</td>\n",
              "      <td>The meeting lasted for 40 minutes.</td>\n",
              "      <td>YES</td>\n",
              "      <td>m and then a little  bit later  in the month t...</td>\n",
              "      <td>YES</td>\n",
              "    </tr>\n",
              "    <tr>\n",
              "      <th>0</th>\n",
              "      <td>What was the agenda?</td>\n",
              "      <td>The agenda included items such as the approval...</td>\n",
              "      <td>NO</td>\n",
              "      <td>{\"caption_text_clean\": \"{00:00:03} all right t...</td>\n",
              "      <td>YES</td>\n",
              "    </tr>\n",
              "    <tr>\n",
              "      <th>1</th>\n",
              "      <td>What was the agenda?</td>\n",
              "      <td>The agenda included items such as the approval...</td>\n",
              "      <td>NO</td>\n",
              "      <td>{\"caption_text_clean\": \"{00:00:03} city counci...</td>\n",
              "      <td>YES</td>\n",
              "    </tr>\n",
              "    <tr>\n",
              "      <th>2</th>\n",
              "      <td>What was the agenda?</td>\n",
              "      <td>The agenda included items such as the approval...</td>\n",
              "      <td>NO</td>\n",
              "      <td>couple weeks  off and and do our daily jobs uh...</td>\n",
              "      <td>YES</td>\n",
              "    </tr>\n",
              "  </tbody>\n",
              "</table>\n",
              "</div>\n",
              "    <div class=\"colab-df-buttons\">\n",
              "\n",
              "  <div class=\"colab-df-container\">\n",
              "    <button class=\"colab-df-convert\" onclick=\"convertToInteractive('df-34efe20a-82ca-4d07-b926-088f86f24bb1')\"\n",
              "            title=\"Convert this dataframe to an interactive table.\"\n",
              "            style=\"display:none;\">\n",
              "\n",
              "  <svg xmlns=\"http://www.w3.org/2000/svg\" height=\"24px\" viewBox=\"0 -960 960 960\">\n",
              "    <path d=\"M120-120v-720h720v720H120Zm60-500h600v-160H180v160Zm220 220h160v-160H400v160Zm0 220h160v-160H400v160ZM180-400h160v-160H180v160Zm440 0h160v-160H620v160ZM180-180h160v-160H180v160Zm440 0h160v-160H620v160Z\"/>\n",
              "  </svg>\n",
              "    </button>\n",
              "\n",
              "  <style>\n",
              "    .colab-df-container {\n",
              "      display:flex;\n",
              "      gap: 12px;\n",
              "    }\n",
              "\n",
              "    .colab-df-convert {\n",
              "      background-color: #E8F0FE;\n",
              "      border: none;\n",
              "      border-radius: 50%;\n",
              "      cursor: pointer;\n",
              "      display: none;\n",
              "      fill: #1967D2;\n",
              "      height: 32px;\n",
              "      padding: 0 0 0 0;\n",
              "      width: 32px;\n",
              "    }\n",
              "\n",
              "    .colab-df-convert:hover {\n",
              "      background-color: #E2EBFA;\n",
              "      box-shadow: 0px 1px 2px rgba(60, 64, 67, 0.3), 0px 1px 3px 1px rgba(60, 64, 67, 0.15);\n",
              "      fill: #174EA6;\n",
              "    }\n",
              "\n",
              "    .colab-df-buttons div {\n",
              "      margin-bottom: 4px;\n",
              "    }\n",
              "\n",
              "    [theme=dark] .colab-df-convert {\n",
              "      background-color: #3B4455;\n",
              "      fill: #D2E3FC;\n",
              "    }\n",
              "\n",
              "    [theme=dark] .colab-df-convert:hover {\n",
              "      background-color: #434B5C;\n",
              "      box-shadow: 0px 1px 3px 1px rgba(0, 0, 0, 0.15);\n",
              "      filter: drop-shadow(0px 1px 2px rgba(0, 0, 0, 0.3));\n",
              "      fill: #FFFFFF;\n",
              "    }\n",
              "  </style>\n",
              "\n",
              "    <script>\n",
              "      const buttonEl =\n",
              "        document.querySelector('#df-34efe20a-82ca-4d07-b926-088f86f24bb1 button.colab-df-convert');\n",
              "      buttonEl.style.display =\n",
              "        google.colab.kernel.accessAllowed ? 'block' : 'none';\n",
              "\n",
              "      async function convertToInteractive(key) {\n",
              "        const element = document.querySelector('#df-34efe20a-82ca-4d07-b926-088f86f24bb1');\n",
              "        const dataTable =\n",
              "          await google.colab.kernel.invokeFunction('convertToInteractive',\n",
              "                                                    [key], {});\n",
              "        if (!dataTable) return;\n",
              "\n",
              "        const docLinkHtml = 'Like what you see? Visit the ' +\n",
              "          '<a target=\"_blank\" href=https://colab.research.google.com/notebooks/data_table.ipynb>data table notebook</a>'\n",
              "          + ' to learn more about interactive tables.';\n",
              "        element.innerHTML = '';\n",
              "        dataTable['output_type'] = 'display_data';\n",
              "        await google.colab.output.renderOutput(dataTable, element);\n",
              "        const docLink = document.createElement('div');\n",
              "        docLink.innerHTML = docLinkHtml;\n",
              "        element.appendChild(docLink);\n",
              "      }\n",
              "    </script>\n",
              "  </div>\n",
              "\n",
              "\n",
              "<div id=\"df-fc2eb633-f3e9-470d-9040-454f3452dff1\">\n",
              "  <button class=\"colab-df-quickchart\" onclick=\"quickchart('df-fc2eb633-f3e9-470d-9040-454f3452dff1')\"\n",
              "            title=\"Suggest charts.\"\n",
              "            style=\"display:none;\">\n",
              "\n",
              "<svg xmlns=\"http://www.w3.org/2000/svg\" height=\"24px\"viewBox=\"0 0 24 24\"\n",
              "     width=\"24px\">\n",
              "    <g>\n",
              "        <path d=\"M19 3H5c-1.1 0-2 .9-2 2v14c0 1.1.9 2 2 2h14c1.1 0 2-.9 2-2V5c0-1.1-.9-2-2-2zM9 17H7v-7h2v7zm4 0h-2V7h2v10zm4 0h-2v-4h2v4z\"/>\n",
              "    </g>\n",
              "</svg>\n",
              "  </button>\n",
              "\n",
              "<style>\n",
              "  .colab-df-quickchart {\n",
              "      --bg-color: #E8F0FE;\n",
              "      --fill-color: #1967D2;\n",
              "      --hover-bg-color: #E2EBFA;\n",
              "      --hover-fill-color: #174EA6;\n",
              "      --disabled-fill-color: #AAA;\n",
              "      --disabled-bg-color: #DDD;\n",
              "  }\n",
              "\n",
              "  [theme=dark] .colab-df-quickchart {\n",
              "      --bg-color: #3B4455;\n",
              "      --fill-color: #D2E3FC;\n",
              "      --hover-bg-color: #434B5C;\n",
              "      --hover-fill-color: #FFFFFF;\n",
              "      --disabled-bg-color: #3B4455;\n",
              "      --disabled-fill-color: #666;\n",
              "  }\n",
              "\n",
              "  .colab-df-quickchart {\n",
              "    background-color: var(--bg-color);\n",
              "    border: none;\n",
              "    border-radius: 50%;\n",
              "    cursor: pointer;\n",
              "    display: none;\n",
              "    fill: var(--fill-color);\n",
              "    height: 32px;\n",
              "    padding: 0;\n",
              "    width: 32px;\n",
              "  }\n",
              "\n",
              "  .colab-df-quickchart:hover {\n",
              "    background-color: var(--hover-bg-color);\n",
              "    box-shadow: 0 1px 2px rgba(60, 64, 67, 0.3), 0 1px 3px 1px rgba(60, 64, 67, 0.15);\n",
              "    fill: var(--button-hover-fill-color);\n",
              "  }\n",
              "\n",
              "  .colab-df-quickchart-complete:disabled,\n",
              "  .colab-df-quickchart-complete:disabled:hover {\n",
              "    background-color: var(--disabled-bg-color);\n",
              "    fill: var(--disabled-fill-color);\n",
              "    box-shadow: none;\n",
              "  }\n",
              "\n",
              "  .colab-df-spinner {\n",
              "    border: 2px solid var(--fill-color);\n",
              "    border-color: transparent;\n",
              "    border-bottom-color: var(--fill-color);\n",
              "    animation:\n",
              "      spin 1s steps(1) infinite;\n",
              "  }\n",
              "\n",
              "  @keyframes spin {\n",
              "    0% {\n",
              "      border-color: transparent;\n",
              "      border-bottom-color: var(--fill-color);\n",
              "      border-left-color: var(--fill-color);\n",
              "    }\n",
              "    20% {\n",
              "      border-color: transparent;\n",
              "      border-left-color: var(--fill-color);\n",
              "      border-top-color: var(--fill-color);\n",
              "    }\n",
              "    30% {\n",
              "      border-color: transparent;\n",
              "      border-left-color: var(--fill-color);\n",
              "      border-top-color: var(--fill-color);\n",
              "      border-right-color: var(--fill-color);\n",
              "    }\n",
              "    40% {\n",
              "      border-color: transparent;\n",
              "      border-right-color: var(--fill-color);\n",
              "      border-top-color: var(--fill-color);\n",
              "    }\n",
              "    60% {\n",
              "      border-color: transparent;\n",
              "      border-right-color: var(--fill-color);\n",
              "    }\n",
              "    80% {\n",
              "      border-color: transparent;\n",
              "      border-right-color: var(--fill-color);\n",
              "      border-bottom-color: var(--fill-color);\n",
              "    }\n",
              "    90% {\n",
              "      border-color: transparent;\n",
              "      border-bottom-color: var(--fill-color);\n",
              "    }\n",
              "  }\n",
              "</style>\n",
              "\n",
              "  <script>\n",
              "    async function quickchart(key) {\n",
              "      const quickchartButtonEl =\n",
              "        document.querySelector('#' + key + ' button');\n",
              "      quickchartButtonEl.disabled = true;  // To prevent multiple clicks.\n",
              "      quickchartButtonEl.classList.add('colab-df-spinner');\n",
              "      try {\n",
              "        const charts = await google.colab.kernel.invokeFunction(\n",
              "            'suggestCharts', [key], {});\n",
              "      } catch (error) {\n",
              "        console.error('Error during call to suggestCharts:', error);\n",
              "      }\n",
              "      quickchartButtonEl.classList.remove('colab-df-spinner');\n",
              "      quickchartButtonEl.classList.add('colab-df-quickchart-complete');\n",
              "    }\n",
              "    (() => {\n",
              "      let quickchartButtonEl =\n",
              "        document.querySelector('#df-fc2eb633-f3e9-470d-9040-454f3452dff1 button');\n",
              "      quickchartButtonEl.style.display =\n",
              "        google.colab.kernel.accessAllowed ? 'block' : 'none';\n",
              "    })();\n",
              "  </script>\n",
              "</div>\n",
              "    </div>\n",
              "  </div>\n"
            ]
          },
          "metadata": {},
          "execution_count": 83
        }
      ]
    },
    {
      "cell_type": "markdown",
      "source": [
        "# Composible Graph"
      ],
      "metadata": {
        "id": "qQUFaOyBT8M5"
      }
    },
    {
      "cell_type": "code",
      "source": [
        "from llama_index import TreeIndex\n",
        "\n",
        "storage_context = StorageContext.from_defaults(persist_dir=\"/content/\")\n",
        "\n",
        "index1 = TreeIndex.from_documents(doc1, storage_context=storage_context)\n",
        "index2 = TreeIndex.from_documents(doc2, storage_context=storage_context)\n",
        "index3 = TreeIndex.from_documents(doc3, storage_context=storage_context)"
      ],
      "metadata": {
        "id": "xcjjUmyOgXga"
      },
      "execution_count": null,
      "outputs": []
    },
    {
      "cell_type": "code",
      "source": [
        "def construct_tree_index(directory_path):\n",
        "    documents = SimpleDirectoryReader(directory_path).load_data()\n",
        "    return documents\n",
        "    # for doc in documents:\n",
        "    # # # LLM Predictor (gpt-3.5-turbo) + service context\n",
        "    # # llm_predictor = LLMPredictor(llm=ChatOpenAI(temperature=0, model_name=\"gpt-3.5-turbo\", max_tokens=num_outputs, streaming=True))\n",
        "    # # service_context = ServiceContext.from_defaults(llm_predictor=llm_predictor, chunk_size=600)\n",
        "\n",
        "    # # index = GPTVectorStoreIndex.from_documents(documents, service_context=service_context, use_async = True)\n",
        "    # # # save index to disk\n",
        "    # # index.storage_context.persist(persist_dir=\"/content/\")\n",
        "\n",
        "    # # return index"
      ],
      "metadata": {
        "id": "BL_ETHZGhTEV"
      },
      "execution_count": 125,
      "outputs": []
    },
    {
      "cell_type": "code",
      "source": [
        "index = construct_tree_index(output_dir)"
      ],
      "metadata": {
        "id": "8s_lRu9uha0p"
      },
      "execution_count": null,
      "outputs": []
    },
    {
      "cell_type": "code",
      "source": [
        "from llama_index.schema import Document"
      ],
      "metadata": {
        "id": "JJBTOO0Nh9Da"
      },
      "execution_count": null,
      "outputs": []
    },
    {
      "cell_type": "code",
      "source": [
        "import copy\n",
        "def extract_metadata(doc: Document, text_key: str):\n",
        "  data = copy.deepcopy(eval(doc.text))\n",
        "  text = data.pop(text_key, None)\n",
        "  if not text:\n",
        "    raise RuntimeError(\"Invalid or missing text key.\")\n",
        "  doc.text = str(text)\n",
        "  # get year\n",
        "  date = data.get('meeting_date')\n",
        "  year = pd.to_datetime(date).year\n",
        "  data['year'] = year\n",
        "  doc.metadata = data\n",
        "  return data, text, doc"
      ],
      "metadata": {
        "id": "FqBo_9gGiJ4p"
      },
      "execution_count": null,
      "outputs": []
    },
    {
      "cell_type": "code",
      "source": [
        "doc = index[0].copy()\n",
        "text_key = \"caption_text_clean\"\n",
        "data, text, new_doc = extract_metadata(doc=doc, text_key=text_key)"
      ],
      "metadata": {
        "id": "ocXhtNzBkNnk"
      },
      "execution_count": null,
      "outputs": []
    },
    {
      "cell_type": "code",
      "source": [
        "type(new_doc)"
      ],
      "metadata": {
        "id": "XoXIohTopCNp"
      },
      "execution_count": null,
      "outputs": []
    },
    {
      "cell_type": "code",
      "source": [
        "new_doc.text"
      ],
      "metadata": {
        "colab": {
          "base_uri": "https://localhost:8080/",
          "height": 125
        },
        "id": "AZUrH7hQpv4b",
        "outputId": "2afb4edc-18a7-4f93-aa05-de7805fa3bbd"
      },
      "execution_count": 211,
      "outputs": [
        {
          "output_type": "execute_result",
          "data": {
            "text/plain": [
              "\"{00:00:05} everybody we're gonna go ahead and get  started  all right  uh welcome to the September 26 Fairhope  city council meeting appreciate everyone  coming out in attendance we're going to  have Pastor Rick mulligoni  um from Fairhope Christian church with  the opening prayer followed by the  pledge  thank you Pastor  let us pray  most gracious and living God we call in  your spirit to fill this place this  evening we pray for patients as  different views are expressed we pray  for guidance to make the the best  decision possible and praise for the  pray for the will to work together for  the common good we're asking a blessing  upon all the leadership here as with all  who are present who have an interest in  the future of this great City in  Christ's name we pray amen  indivisible with liberty and justice for  all  thank you Pastor  all right Council uh before we get  started today I've got um one item is  being pulled from the council agenda  anyone in the audience item number seven  is being pulled I've got two items to  request to add to the agenda uh one we  discussed in the work session and that  was the tires for the uh caterpillar 918  at the transfer station the other item I  just missed when we were going over the  work session and that is uh Thief has  requested  um the use of  the thief is hosting  a piano  I'm trying to find where that is pianos  in the Park event and they are  requesting uh use of sidewalk streets  Etc and we can get into more detail on  that when we get there but that request  is for October 22nd event so they didn't  want to delay any longer than adding  that  I mean the event itself I believe is  being held  at the Halstead Amphitheater  and they're just wanting to block off  some of that area on School Street  between morphe and Fairhope Avenue  for Access so  if y'all would Council I'm looking for a  motion to  all right motion to add  and a second  any discussion  all right hearing none those in favor of  the motion please die  aye any opposition  all right motion passes an item that'll  make item number 27 uh will be the  tires and item number 28 will be the  FIFA event  okay uh first item up then on the  council agenda is the approval of the  minutes from the September 12th council  meeting and the September 12th work  session  make a motion to approve got a motion  check approve in a second any discussion  all right hearing none all those in  favor please say aye aye aye any opposed  all right motion passes mayor your  report  good evening I just have a couple things  tonight first and foremost we're going  to be reviewing the budget on the  council agenda tonight I really want to  thank the staff Kim and Iceland in  particular from treasury for their hard  work on the budget and also thank the  council for the hours that we've spent  going through the budget so um hopefully  we can get that passed tonight and again  just want to thank everybody for their  input on that the second thing I want to  do is honor somebody pretty special here  to Fairhope and to me Mr Faust  I'm going to make you stand up here with  me for just a minute  you can't you can stand right you  can so as most of us know Mr Faust has  been a state Alabama state  representative for many years and he is  going to be retiring to go home to enjoy  his retirement and so I wanted to do  something to recognize him and just tell  him how much we appreciate his service  to not only fair hope but to Baldwin  County and to the state of Alabama so I  have a certificate appreciation it says  this certificate is awarded to Joe Faust  in recognitions of his many years of  Public Service to the Baldwin County  Commission where he served as chairman  of the Baldwin County Commission Vice  chair of the Baldwin County Commission  and chairman of the county economic  development committee chairman of the  parks and Land Management and vice chair  of the committee on environmental  resources and his service to the state  of Alabama as an Alabama house  representative from 2002 to 2022. as an  Alabama house representative his  committee assignments including Service  as a member of the Baldwin County  legislative delegation Agricultural and  Forestry Transportation utilities and  infrastructure these years of dedication  and commitment are to be commended Joe  is also a former board member of the  Baldwin County Economic Development  Alliance former board member of the  Eastern Shore Chamber of Commerce and  has served as a board member for the  Marietta Johnson School of organic  education serving our state county and  Community Joe has contributed to the  quality of life that people have come to  enjoy and has left a lasting impact on  Fairhope in Baldwin County  um you know Mr Faust has been a family  friend for a number of years him and my  dad actually have gone to school  together and just he's always been part  of my life here growing up and has just  you know done great things again for  Baldwin County Fair Hope in our state  and we're going to miss you and  appreciate your service  well thank you  [Applause]  [Applause]  I just like to say that I think I've  lived here most  more than any of the rest of it don't  look again if we came to Fairhope in  1942 and  and I tell you it's been a good ride and  I thank the city of pharaoh both past  Council and Mayors and discounts of  America you're doing a good job  and I thank you for it and thank you for  this  recognition  thank you thank you for your service sir  God bless you  I also just want to recognize his family  that's here he's got his daughter here  with him Andrew  and he's also got his wife Sharon thank  you for being here we all know that when  you do these kind of jobs that family is  foremost family is always the one to  sacrifice so and also Teddy Joe where's  he there he is right there in the back I  didn't look past Sharon I'm sorry  yeah we do we need to thank you for the  revenue we we talked about you earlier  yeah  we talked about what a good job you do  provided us with that Revenue so thank  you so thank you Mr Faust for being here  includes the mayor's report  um the next item on the council agenda  is public participation and this is for  agenda items uh five through now 28 so  if you wish to address the council just  on agenda items you've got three minutes  please come forward to the podium and  give your name and address  uh to City Clark  Floors open  all right we'll go ahead and close the  floor and this time we'll turn it over  for Council comments councilman Burrell  I just uh I want to thank the mayor and  Kim and her staff  and uh everybody that worked on a budget  the department heads of you know uh and  your staff everybody that worked for you  to put so many many hours into putting  together a budget and all the council  members have spent a lot of time pouring  over this budget I want to reiterate  something that was said in the in the  work session that is it is a working  document it's a fluid document and uh  you know while it's based on Teddy's  numbers that he gave us at least for ad  valorem techs and we did discuss that  work session and I gave you credit you  know I think that we've got it it's on  record  we are in some uncertain times right now  and uh but it's it's a good budget and  uh it's a balanced budget and I  I appreciate everybody's work on that  and  hopefully we can get it over the finish  line  councilman Martin  uh you know I I hate to be redundant but  I have to also my mama taught me better  I have to say thank you to all that that  put the work in  um I I know you guys spent a lot of time  on this and um  you know we had people in the hall  cheering us on walking in here about  this budget so  so obviously  um this may be  you know good Lord willing I'm president  for a period of time  um but so I'm I'm glad that you all put  the work in and got it balanced so thank  you for all the work  all right councilman Robinson no comment  councilman Boone thanks to all thank you  very much all right I've just got a  couple comments and and to add to that  I'll say thanks again of course the  mayor Kim to Aslan to all the department  heads uh thank you council members I  know  um several of y'all were up here for  four or five hours on the Sunday  afternoon away from your families and  and I appreciate mayor going over that  with you Kim going over that and and  that just shows you know there's a lot  goes on behind the scenes we've had a  lot of two at a time meetings so this  isn't and we've been talking about it  for I feel like weeks or months and and  Council so uh you know it's not that we  just got this three ring binder and and  we're signing off on it there's been a  lot of work before and uh behind the  scenes up up until now to get to this  point and also just want to thank  representative Faust for all your years  of service just a true servant 20 years  and uh  and the state legislature plus the  Baldwin County Commission you mean a lot  to Fair Hope in Baldwin County and we  just appreciate you and glad you're out  here tonight with your family too  commemorate the the service so thank you  um  all right go ahead and get started on  the uh  on the meeting tonight first item up is  an ordinance to establish water and  wastewater rates for all customers of  the city of Fairhope Water and  Wastewater systems and to repeal and  replace ordinance number 1684.  I'd like to introduce you yes sir thank  you thank you all right councilman  Burrell's introduced the ordinance  um anyone like to  anyone like to discuss I thought  y'all want to hear from Jason on this at  all or  deserves to hear all right Jason if you  wouldn't mind sir  needs you to come up to the microphone  please  if you wouldn't mind just giving an  overview just for  for the record  and so before we were currently I guess  we were almost getting a a discount for  additional usage instead or or be the  same this is to say if you're going to  use above that 7000 average it's going  to cost more  yeah  all right uh council members any any  questions or comments for Jason or  I want to make a comment council  president yes sir that is that you know  it's uh I did ask the question of you  know what's our average users in in our  our average usage is less than seven  thousand gallons so we're not this is  not aimed at an average user this is  average this is aimed at a high user and  what it does is it impacts our capacity  and we we have to we have to have  capacities like uh I I I use the analogy  of an electrical system you know you may  only you may only need 100 megawatts uh  once a year but when you want it you  know when you need it it's there and you  may average you know 80 megawatts but  the same thing with water we may  um we may average  8 million gallons a day but when we need  9.2 it needs to be there and it's the  big users that cost the capacity  Chargers to go up okay yep fair enough  to say Jason yeah I think that's a  pretty good summary  yeah yes sir  it is  the issue is irrigation  yeah  but this has if I made council president  I I I I I you you you're speaking of  capacity but this this also has to do  with us progressing as a city as well  okay  um we have to pay  for the lines we have to pay for the  maintenance and in order to keep up with  that this has to happen otherwise we  fall into a deficit in the Water Area  um so that has I just want to put out  that to the public  you know there's not a um we're not just  doing this because we want to do this  we're doing this because it's a  necessity for us to keep up as a  community  as far as our maintenance and our our  our capital gains as far as getting  water to you and things of that nature  so this is not something that we're just  doing and I want to if since I'm  speaking to the social media as well  right now okay  um  seven days a week  and then it's just happened our face to  see where I could be some leaves and  chain some leaves and find out he's  yeah  that's on us  all right thank you sir let's switch  those lines  um you know makes me wonder this should  have been graduated you know there's a  break at seven thousand and there's a  breaker ten thousand  right  I I would say maybe we start with this  and and that might be something we need  to address  if it doesn't well if it doesn't make an  impact  once again  I'm very logical we're using  and I'm just we're using good water  as if water is not precious I've been to  other places and water is very very  precious we need to use a Gray Line we  need to use Wastewater  and not the good water for our  irrigation  now that's on us that's something that  we need to work on I don't think we  should put that on the community  they can help us in this process but I  think that's on us I'll take  responsibility for that  all right all right um Council we've  heard a little from Jason would y'all  like to go ahead and let this item lay  over  customary  all right  I don't want that layover  um next item up is item number six it's  a resolution that mayor Sherry Sullivan  is hereby authorized to execute an  intergovernmental service agreement  between Baldwin County Commission and  the City of Fairhope regarding the  Fairhope Arts alley Transit project  located in the city of Fairhope  and Richard has this item and we've been  talking about Arts alley quite a long  time now and and Richard addressed this  a little bit during the work session  does anyone have any additional  questions or comments for Richard on  this item  would anyone like to make a motion I'll  make a motion all right we've got him  second and a second  any further discussion Council  all right uh hearing none all those in  favor of the resolution please say aye  aye any opposition  all right motion passes item number  seven was pulled from the agenda  so we are moving forward to item number  eight and that's a resolution that mayor  Sherry Sullivan is hereby authorized to  execute a contract between the city of  Arab and Thomas Hospital for the use of  City facilities rental and cleaning fees  including streets and parks depending on  availability and permission from the  rental facilities manager but they would  be responsible for incidentals damages  or security if necessary this would  cover things like the spring fever chase  at Thomas Hospital puts on other similar  items so  anyone like to make a motion motion all  right we've got a motion  second and a second any further uh  questions for the mayor comments  all right hearing none all those in  favor please say aye  aye  any opposed all right motion passes  um item number nine is a resolution that  the city council hereby authorizes mayor  Sherry Sullivan to expend impact fees  for the projects specified in this  resolution has designated from the  impact fee account for services  for the police 224  892.50  Transportation four hundred thousand  dollars and Parks and Recreation one  million three hundred ninety two  thousand eighty seven dollars uh  benefit areas  any questions for Kim on this before we  move forward and I think this is this  all kind of ties in with the budget and  proposed  projects we have going on of course this  is the money that we do collect from  developers I know we have uh I do see  comments from time to time on social  media you know you need to charge impact  fees and why don't you do this what we  do and it's established we have a  accounting firm consultant come in every  few years and and kind of dictate how  that money needs to be allocated it goes  into various buckets based on the  percentages they recommend and and the  council adopts and then those monies  need to be spent in our area on those  particular items so in this case we've  got police transportation and Parks and  Rec all all benefiting from the impact  fees charged to developers so council  president yes sir under the  transportation category is they're  asking for 400 000 of the parks and rec  and the police have itemized lists that  equate to what they're requesting but  the transportation but I only see one  item we're nearly half of what they're  requesting where are you  in the resolution oh okay  um there's uh shows drainage 200 000 and  a total of four hundred thousand and  I'm trying to find where the other 200  000 is coming from  so 200 for drainage 200 for resurfacing  okay  um the good catch councilmember Elle  there are any additional questions or  comments  is that is that yet to be determined  where that will be done or is that we go  if we go with our priority list I think  that Richard keeps the track up  gotcha and it'll be the list  okay  all right  any further questions for Kim  would someone like to make a motion I  don't think we actually moved got a  motion and second a second all right  any further discussion  all right hearing none all those a favor  please sack all right any opposed  all right motion passes item number 10  is a resolution that the city council  hereby authorizes mayor Sherry Sullivan  to execute a retainer agreement with  Napoli uh skonic pllc attorneys at law  for professional legal services  for representation of the city of  Fairhope to prosecute any legal claim  for negligence or other viable causes of  action against any and all parties  individuals and corporations that are  found to be liable under the law for  injuries or water supplies  Viper and  poly Flora alcohol  ladies  thank you yeah we'll go with that bfas  uh dioxane and other emerging hazardous  can contaminants  all right  um I've got mayor yeah we've got the  deer special speak to that  and probably do a little better job than  me on the fire hole try I'll try not to  butcher it but I'll ask um Marcus to  jump in if he needs to so basically this  would um protect the city from any class  action lawsuit that would be filed for  some new EPA guidelines that have been  placed on on water systems for pfas  which is something you can sometimes  find in your water it was originally  um found in water from from different  sources and this is just protecting the  taxpayers to make sure there's not any  large lawsuits against the city for pfas  amounts that could be detected and to  make sure that that cost is passed on to  industry or anybody else who created  that and not passed on to the taxpayers  for any kind of remediation that would  have to be done  DuPont's already set aside I think about  four billion dollars related to this  yeah so it's a it's a massive deal it  looks like in the city of our size  approximately just on the raw numbers  right now somewhere in three four  million dollars in recovery you just got  to go back into you know the system and  we don't even know right now if that's  going to touch that amount there's a lot  of testing requirements that are coming  out that are now in the parts per  billion that are going to be part  trillion that they can't even measure  right now so there's a lot of unknowns  but uh  yeah there was not even a lab in the  state of Alabama that would test to  those parameters so  um Jason I know has been looking for  different Labs just to be able to test  but again there's remediation carbon  filters things you can put on Wells if  you have an issue I know it's happening  all over the state but this is being  endorsed by the Alabama Water  Association and they're the ones who you  know brought this to most of the Water  Systems around here I've reached out to  everyone in Baldwin County and they've  all signed on with it so  saw a question that the community may  ask have we tested  um we have tested but not to um I don't  think to the current standards because  they're interim standards at this point  they are not final recommendations from  EPA but with our test we were negative  we we did not have a detect based on the  test that we test for right now correct  thank you  everything else is fine these are New  York Lawyers  down here but at least we're down here  and we're within our lawn and within our  jurisdiction and the setups are the same  kind of as we have with the opioid  situation  percentages percentage-wise  all right  Council any further questions  make a motion to approve all right we've  got a motion in a second  all those in favor of the motion I'd  like to comment yes sir I'm sorry I get  a chance to say anything I was moving  too fast my bad  um so I did uh  I had a local attorney  reach out to me several months ago  and I know that you may not remember  this but in an executive session I  brought this up that there was an  attorney that had contacted me a local  attorney that had said that you know  this this is going to come about and  cities are going to need to or anybody  cities any water systems are going to  need to protect themselves  and uh  so I did I called him today and told him  that this was on the agenda and asked  him what he thought about it and he said  well that's who I work with and so uh he  said although there are New York firm  you know there's somebody local that I  know and and and trust and they said  they spoke Holly and he said that he  would not be working on uh city of  Fairhope at all uh but he's uh he's in  agreement with them to work on many  other locations so I thought that was a  positive feedback not having known  anything about this Law Firm it was  somebody local that did have knowledge  of them so and he he spoke and I highly  of them  objective that that's uh that's a good  one always comforting to have a local I  mean I know that we're probably going to  vote anyway but I think we would be  maybe taking a shot in the dark and  going on a fake but now we have a little  something going okay I was hoping  somewhere  thank you thank you for having that  all right Council any further discussion  or comments  all right hearing none all those in  favor please say all right any  opposition  all right motion passes item number 11  is a resolution of the city of Fairhope  Awards the contract for Fairhope sewer  upgrade phase one and this is the lift  station Rehabilitation project to balcon  Inc in the amount of 5 million 841 155  dollars and the contract will be paid  for with Grant funds from ADC and R  restore act uh money so I know Jason  covered this a little bit earlier but um  Council if you don't mind Jason I know  you got three in a row up here so you  might need to  come close to the mic and be available  on Andy I think can address as well  yeah thank you for calling me up here  yes sir the  restore act project has been going on  for roughly 18 months now  uh this first project is going to be  rehabbing six different lift stations  within the system three of them are  going to be completely replaced  um  ball con Inc is a contractor that I've  worked worked with in the past they do  fantastic work  excited to have them on this particular  project they're actually on the other  project as well that's one of the other  items nah be happy to try and answer any  questions y'all have associated with  projects well and I think we have  discussed this before but just just for  the benefit of everyone watching we're  starting this lift station  Rehabilitation with the six most  problematic stations I assume or or is  it more about the location or  size okay  so those be the ones that have the the  greatest impact and  if they were to go out  I cancel any any questions for Andy or  Jason yes sir yes sir Andy you may  recall several years ago there were some  some studies done about our Wastewater  system and uh  it was not your company GMC's GMC but  you guys looked at it yes of course yes  and so I've always been concerned that  you know there's another set of eyes on  this  how much of this Rehabilitation  maybe  um  is something that you saw as needing to  be done back how many years ago was it  Kevin  five six seven years ago was that 2017 I  think somewhere in that neighborhood  it's been somewhere in that neighborhood  but do these things just kind of go  right along with what  and I'm only asking this question  because he's such a large amount of  money as all of these I  I'm more confident with more sets of  eyes  absolutely uh the these are addressing  some of the more problematic stations  in the system now there are others  that aren't in this project that still  need to be addressed  but that's going to have to be at some  later date with some other funding  all right council members any other  questions for Andy or Jason  all right would anyone like to make a  motion make a motion we approve second  got a motion and a second any further  discussion yeah I have one question how  how  much time futuristically spending this  type of money would this give us until  we have to do this again  more than likely it won't be with these  particular stations it's going to be  with other stations that are problematic  within the system so how much time will  we spend money like this how much time  do we get out of these stations  it's all going to be dependent on the  the pumps and how how hard they're  worked in the system pumps can last  seven to ten years there's going to be  there's going to be besides amazing so  I'm telling my creation we're spending  this type of money but we have to do  that again as long as you continue to  grow there's going to be upgrades that  are going to be made okay but this is  just the part other areas correct not  with these correct yes I got you okay  okay thank you  now any other questions  all right hearing none all is in favor  of the motion please act uh any  opposition  all right motion passes and y'all hang  tight we got a couple more uh item  number 12 is a resolution that the city  of Fairhope Awards contract for Fairhope  sewer upgrade phase one side stream  storage project to Balkan in the amount  of four million six hundred twenty eight  thousand eight hundred thirty dollars  and that the contract will be paid for  with grand funds from the ad CNR restore  Act  Andy if you want to cover that one sure  uh this is going to be addressed in  Woodlands lift station  creating a new twin Beach lift station  South of town here and also Quail Creek  one those are three  kind of collector stations that pick up  large amounts of sewer within the system  and they're going to become Master  stations and have some excess capacity  that we're creating to help convey sewer  from the distant parts of the system  into the treatment plant  and a couple of those are going to be  using the force Mains that that we're  improving  and there's some other Force main work  that's going to be needed to address  some of those as well a little I'm sure  we'll come up in the budget season  all right Council any uh any questions  or comments related to the side stream  storage project that's three site  locations that are going to be covered  this for store act money are these all  the same capacity  are they similar they're similar  um they're they're all going to be 16  foot diameter wet Wells they they vary  in depth just depending on the site  conditions  I'm sorry what's that volume  how many gallons  um  so say twin twin Beach  for instance is 25 feet deep it's going  to have 16 feet of depth and a 16 foot  diameter that's going to be used for  storage and conveyance  right so it's a tremendous amount of  capacity  and a station  that will be pumping straight to the  plant I'm going to try a while I'm  trying to answer one of the councilman  Martin's question as well I mean isn't  it that when you have this sidestream  storage hopefully your pumps are running  24 7. yeah  correct you reduce maintenance costs  correct all right by having a size of  your storage that's correct yeah  please ask a question  I'm good okay  I understood  any further questions or comments  I have that third great understanding  that Corey was talking about earlier  yeah and it's limited to third grade  all right would someone like to make a  motion on this item make a motion to  award the contract  foreign  got a motion and a second any further  discussion  hearing none all those in favor of the  motion police act all right any  opposition  all right motion passes  um item number 13 is a resolution that  the city of Fairhope Awards contract for  Fairhope sewer upgrade phase one sewer  collection system rehabilitation  uh CI PP gas iron pipe and uh manhole  lining project to Gulf Coast underground  LLC in the amount of 463 534 dollars and  six cents and that the contract will be  paid for with Grant funds from the ADC  and R restore Act  Andy this particular project is going to  be addressing some existing sewer  infrastructure gravity sewer and  manholes that are having an infiltration  problem within the city we tried to pick  the areas that we know of having  some some of the more problematic issues  in the system granted this is only  addressing  a very small portion of the system  this is something that  probably for the next  10 to 15 years this this type of project  could go on within the system  as things continue to be inspected but  this is something that's going to help  address  ini or infiltration  and that seems to be our biggest  challenge when we have major uh rain  event is that infiltration into the  system that just causes overload down  that's correct you know the nice thing  about this though since we've done in  the past it seems to have worked very  well each time we do it  does that mean less gallons going in we  don't necessarily have to have in the  treatment  plant and it stops it from so each time  we do it it's always a plus  I would think so logically thinking  because it does seem to work very well  since we've already done this  procedure in the past  all right Council any questions or  comments for Jason or Andy yeah on this  item yes sir Kim or anybody was there  only one bid for this I'm only seeing  one bid is that correct there was only  one it was only one bit  okay  foreign  this is going to be an ongoing this is  just what we're able to find out of this  uh  restore Act  money but um this is going to be  something we're going to have to either  do on our own or find other  Grant sources for and will be  continually uh working on on this over  the next 10 to 15 years just trying to  upgrade the system  yeah we have to  well again make sure everybody  understands the reason for that is  there's so much many lineage foot  throughout the city you can't pay for  all of it at one time so you're just  doing this incrementally  right and you don't want to tear up the  whole city  well with cipp I don't think you have to  tear it up no it's that's the good thing  with cipp that's right you're basically  lining the existing existing pipe that's  exactly right you don't have to tear it  up so that that one we don't have to  worry about  if we do it with this method yeah  all right well anyone uh like to  make a motion or ask additional  questions take a motion in a second  any further comment  all right all those in favor of the  motion please say aye aye any opposition  all right motion passes thank you sir  appreciate it thank you Jason  um item number 14 is a resolution that  the city of Fairhope authorizes mayor  Sherry Sullivan to submit a letter to  amea requesting three grants totaling  twenty thousand dollars to be used for  operating  and entrepreneurial Development Center  in partnership with the Baldwin County  or with the Baldwin  community and economic Foundation uh  the 501c3 arm of the Baldwin County  Economic Development Alliance okay so I  was looking for the University of  Alabama and the coastal Alabama  Community College in the space provided  by and in conjunction with PNC Bank and  this is uh the hatch program  upstairs at PNC Bank and we've done this  for at least the last year and maybe for  a couple years where I've been maybe  even five years okay where Lee Lawson  had come to us and asked that we we  request that and those are grants that  amea are electric provider  provides and we we can steer that  towards uh that project and of course we  have a larger  much larger project with hatch coming in  in the near future so a cause we want to  support Council any any questions or  comments for the mayor  about the program  a move that we authorize the mayor to  submit the letter requesting the three  grants for the purpose second all right  you got a motion in a second any further  discussion  all right hearing none all those a favor  please say all right  any opposition  all right motion passes  item number 15 is a resolution that the  city of Fairhope authorizes mayor Sherry  Sullivan to sign and execute any  necessary and appropriate documents so  the city of pharaoh and Fairhope Airport  Authority can receive grant funding  acting for and in behalf of the Sunny  Calhan airport in Fairhope  so that the Grant application for AIP  Grant number  uh an AIG Grant may be finalized  approved and accepted in accordance with  applicable laws and procedures  councilman Burrell is the city's  representative and liaison to the  airport Authority would you like to  elaborate on yeah sure uh so  the uh the amount that that we're being  offered is about 4.8 million dollars  that's a that's a considerable amount we  don't have opportunities to get grants  that large that often and that money  will be used to rehabilitate uh the  runway you're going to add several  inches of asphalt to the runway and they  were also going to replace the runway  and taxi lighting system and guidance  signs which are which are run down and  you know we're constantly replacing  bulbs and so while we're rehabbing the  runway we thought it best to replace  those those lights as well now as the as  the city is the official sponsor of the  Fairhope Airport Authority it requires  the mayor's signature to even submit  this application so this this it  supports the application but it does not  commit this city to any funds now it'd  be a good time now to point out that the  matching part art from the airport  Authority is five percent the  al-dot through the aviation  branch of the of aldot they kick in five  percent so it's a 90 percent uh FAA  money and it's five percent from aldot  and there's five percent from the  Fairhope Airport Authority and on this  sum of money that is an awful lot of  money for the Fair Oak airport and  um so you may say well where would they  get that and I I do want to talk in the  future we may do it in a work session  about how they're going to fund that  match they can borrow that money which  they can't afford but the interest rate  may not be that great and so I do want  the council to be thinking Kim I hope  you're listening as well in Iceland that  that if we did decide to loan the  airport Authority money at a at a rate  no less than what we're receiving on our  deposits it could it would be net  zero to the city but it might save the  airport Authority a lot of money we  don't have those numbers as to what that  would be structure would be some very  short-term uh loan uh but I do want to  bring that up I've told the airport  Authority I'd bring that up and but I  told them that I was very cautious not  to cost the city uh any money  that's um  I guess that's it maybe not in a  nutshell but that's that's the ins and  outs of this application right now  well I'm adding uh the inches of asphalt  does that increase the size plane that  the airport can accomplish it does it  does increase the size of the the  aircraft but uh yeah it's like six  inches depth all right so but I don't  want people to think that that means  that they're going to start Landing 737s  out there you always hear that rumor  float around anytime they're trying to  rehabilitate the runway and that that's  simply not that's not the case we have  you know we have good sized corporate  jets that land out there and we we have  some more corporate jets that want to  land there they just simply can't but  the runway needed a new layer of asphalt  anyway so you might as well might as  well do it while you're doing it just  like we're going from a 12 inch you know  so it would like to you know 16 or 8 to  16. you may not need to know what you're  going to need in the future so we're  looking to the future but it could be  that  cargo planes  for entities here could land to  distribute yeah no I can't tell you  exactly what that weight is but it  really wouldn't be a cargo plane it's  not  okay so we're not getting it to the  depth with a bigger supply plans could  come in yeah  thickness I should say  council members any questions for  councilman Burrell  would someone like to make a motion on  this item  exact Motion in a second  any further discussion  all right hearing none all those in  favor please say uh  anyone opposed all right motion passes  thank you councilman for the for the  background on that one  um  item number 16 is a resolution that the  city of Fairhope will participate in and  support the safe routes to school  initiatives at all schools in the  Fairhope theater pattern in order to  gain the benefits mentioned in the  resolution and strengthen the quality of  life for fair students families and  neighborhoods and I know Paige and  Charlene we're gonna I didn't see you so  it's looking for you  how are you doing today I don't really  need this but I'll I'll use it I'm happy  to be here and it's interesting how  events can sometimes mobilize so many  other things to happen and the  international walk to school events or  what really got me started in the whole  walk to school movement and anyone in  this room that knew Tico Wiseman knows  that you did not say no to her very  easily and the Trailblazers have  partnered with the city for many many  years and it started a lot of it besides  the Eastern Shore Trail was related to  International walk to school I remember  actually Sherry being a staff person for  the city in Tico and Tico twisted my arm  I had a whole group of kids doing a bike  train as a just as a parent and she's  like you've got to participate in this I  want those kids here I'm like okay Tico  so she really got me started in this  whole movement it all came from the  international walk to school so the  partnership between the Trailblazers and  the City is a long-standing vibrant  partnership with the city cares about  walkability and bikeability in the  Trailblazers that has been their mission  and it's meant to be across Baldwin  County but it's it's really been pretty  centrally more located in Fairhope so I  would like to say that that  International walk to school day led to  six years of doing monthly walks to  school with three Fairhope schools once  a month for six years that led to  decision if we really wanted to affect  student health then we were going to  need to walk on a daily basis walking  once a once a year didn't do it walking  once a month didn't do it but if we  walked kids daily we had an opportunity  to affect daily patterns and affect  their health so we started in 2013 with  a full partnership with the city it's a  city Fairhope East Fairhope West which  was in just Fairhope Elementary School  and the Trailblazers partnered and we  started the daily walk at school bus so  quick update we start it from when we  scrounged to get 12 kids to participate  and beg the parents that it was all  going to be safe we walked 60 plus kids  a day  we walked 40 plus parents a day families  walk into our families and the family  dog so there are is a whole community of  people that walk down the street on a  daily basis it's just the way they get  to school in the morning all of that  came from a partnership  stemming from International walk to  school day and the city and the  Trailblazers so I'm just so proud of  this city for being a partner and no  other nobody else is doing a program  like this in our state so without the  city's Firm support this would have  never happened so I'm just very very  grateful to the city of Fairhope for  being a partner all these years and  doing this so what this has now led to  is looking at how can this grow across  Baldwin County how can this grow to more  schools and fair hopes so it's not only  fair Oak West but the other school  feeder patterns are involved and we  realized we looked across the U.S what  do they do across the U.S they work on  getting policies passed and so we have  formed a steering committee at the  county level we have all three school  districts in Baldwin County that are  working together on safe routes to  school now so it's the first time this  has happened and we want to encourage  more schools across the county to do  these programs and as a part of that  we're getting policies in place the  Eastern Shore Metropolitan planning  organization is a full partner with the  Trailblazers on this  and they have gotten their resolution  passed on safe routes to school we're  having the Baldwin Realtors have already  passed their resolution resolution on  supporting safe routes to school the  Baldwin County Commission we'll consider  it next week and so um we feel really  proud that this is starting to put  policies in place behind this concept of  we do want to make it safe for children  to be able to walk to school and for  parents to feel safe for kids to walk to  school so we are we have a resolution in  front of us and we are full partnering  with the city's pedestrian bicycle  committee and they are a jam up  Committee of God if you don't know it  they're a great committee working for  the city and Bill Hall is going to speak  to this now as a co-presenter of this  resolution  thank you  um yeah I'm Bill Hall I'm the co-chair  person for the committee  I want to thank the council and the  mayor for entertaining this and and  looking at this resolution the bicycle  and pedestrian committee strongly  endorses this resolution it'll make  walking to school safe help the students  develop healthy habits and improve in  the community's walkability and that's  sort of at the core of what The  Pedestrian bicycle committee does we  look at things like this we're  participating with the city validating  their database for sidewalks  where  I've also been asked to write a number  of endorsements for grants for the tap  tap I guess it is yeah grants so we've  done those but we're very involved in it  and really appreciate Charlene's coming  forward to us and addressing this to us  and bringing this forward to you thank  you very much thank you uh Council any  questions for Charlene while she's here  are you at Newton yet miss Charlene  oh we wear Newton no I would love to be  at Fairhope East in Newton but that has  not occurred yet hopefully sometime in  the future have you mapped out a walking  route for Newton for just thinking ahead  uh of course okay when you're obsessed  with things you go do things like walk  around and go where could there possibly  be a safe route so actually I do have  several um actually two options so  there's there's it's there there's a  potential route okay should um all  involved wish to participate yeah got it  okay just making sure all could do it  okay and we will make sure that all the  council knows when we're walking we  think it's going to be on October 5th if  more than one Fairhope School walks  we'll pick different days so if council  members of the mayor and the police  chief have always been there that if  people wish to walk they'll have two  different days so y'all won't miss your  walking opportunities with whatever  schools we know Fairhope west of course  we walk every day so they will be  participating we do not know if the  others shoes are going to choose to  participate or not  but we appreciate our partnership with  the city we appreciate the city thank  you  council members any further comments or  would someone like to make a motion  so moved second emotion in a second  any further discussion  all right hearing none all those in  favor of the motion please say aye aye  any opposed all right motion passes  thank you Miss Charlene  thank you appreciate you  yes  uh item number 17 is a resolution that  the Fairhope city council hereby  approves and authorizes mayor Sherry  Sullivan to execute a memorandum of  understanding between the Baldwin County  Commission Baldwin County Sheriff's  Office Baldwin County Board of Education  and the City of Fairhope which outlines  the purpose goals objectives and  procedures for the administration of the  school resource officer program at  Baldwin County Public Schools the mou  shall be in effect uh as of August 12th  2022 and remain in effect for a period  of one year from effective date  and I put on here questions for either  the mayor or chief I think she even  stepped out when  we were coming down through the agenda  but any questions for the  chief on this I I just say that I think  it's a great program and and I certainly  know anytime I go to a football game or  any event downtown and just see the  number of kids that  approach the different sros we have and  how how beloved they are in their  schools and I just know it's a great  program and seems to really be working  so appreciate everyone who pushed us  forward  yes sir Mr Gover you sent a letter sent  an email to council  questions about this and I just I just  want to make a point to say that you  know although there's some funding that  comes from the county that that the the  peace officer still you know an employee  of the city of fair open substitute  to management I.E the chief and others  and and they have to adhere to you know  all the rules and regulations within the  Fairhope Police Department so they're  not you know they're while this is these  these things are funded by the county uh  and and they do you know they there is  some time set aside for them to speak to  the schools about things that they may  want to see I think that they steal it  high adhere to  whatever it is that that our police  department has to adhere to and whatever  the chief asks them to adhere to so I I  thank you for that question I know the  uh some some concerns with that but I  still feel like it's I didn't get that  you know they're they're no different  than any other police officer to abide  by all the rules and regulations and  policies and tactics that our police  force uses I don't know what the  question was I'm sorry Jack what was the  question well there was a there was a  there was a question from  a citizen  because this is being funded by the  sheriff's department he's in the  audience and if you want to ask him  exactly what he was asking I think I've  got this right but you know there were  some questions as to you know what  policy and procedure do this police  officer may need to follow does the  there were some questions about are  there the principles or administrators  or somebody in school system that's you  know telling this officer you know how  to do the job oh yeah  I don't think they may give feedback  they have knowledge of what you know  maybe what needs to be looked at but  it's all in conjunction with our Police  Department you mean the actual Sor SRO  yeah some of our sros were actually  actually Tactical  Gods they've they've been I'm just to  put this out here I'm not going to name  any names but they've been swapped  some of our guys  um just to put a comfort level out there  I've talked speaking spoken to some of  them so um the experience is there  um any further questions or comments for  chief or just comments  would anyone like to make a motion  a second I got three motions in a second  all right  yes  all right all those in favor of the  motion please say aye aye aye any  opposition all right motion passes  um item number 18 is a resolution that  the city council approves the selection  of Ephraim and Associates environmental  Consulting LLC as consultant for  Professional Services for Environmental  and Cultural resources assessment and  permitting at the K1 center and  authorizes mayor Sherry Sullivan to  negotiate a fee schedule and establish a  not to exceed limit with this firm  and no um Richard spoke to this during  the work session councilman Martin  um had some good comments and does  anyone have any questions for Richard on  this or any comments you'd like to make  I moved to approve the selection all  right we've got a motion and a second  um all those in favor of uh item police  act  aye any opposition  all right motion passes  item number 19.  is a resolution that the city council  hereby approves procurement of carpet  replacement at the next Center to  Jubilee flooring and decorating with a  not too seed amount of 17  697.87 and this is uh being funded  through an insurance claim which is a  rollover into the 2023 budget so move  second Motion in a second any discussion  or comments  all right hearing none all those in  favor please sack aye  any opposition  all right motion passes  resolution item number 20 is a  resolution toward a bid to Taurus  electrical LLC for Fairhope docs Marina  electrical system with a total bid  proposal not to exceed 150 000 this is  for uh 40 pedestals in the marina and we  had some discussion about the  the current pricing and then the 96 seed  amount there's a little bit of a cushion  there uh based on the fluctuation of  materials but those materials are on a  seven percent markup and they've got to  be presented to you so that you see the  invoices know exactly what's being paid  so  um hopefully that item will be be lower  than that but um that's just so you  don't have to come back to council if an  invoice goes above  um cancel any questions for Ben on that  item  I moved to awarded bid with a not to  exceed amount of 150. second all right  we've got a motion and a second any  further discussion  all right hearing none all those a favor  please say aye  any opposed motion passes item number 21  is a resolution toward uh bid to 80 long  boring Inc for Pump Station and Force  main maintenance phase two  with a total bid proposal not to exceed  four million six hundred eighty eight  thousand six hundred and eighty dollars  and Jason covered this I think if I've  got this right this is a 16 inch line  we're going down Fairhope Avenue from  Bishop to 13.  uh then a little bit past that to  Thompson hall and then also North on 13  to 104. and then at 104 to 181 to the  public site so  quite a lot being covered there  um  for Jason to get that accurate okay  any questions for Jason or any  any discussion on this item it's a large  dollar item but as we know we've got a  lot of  utility upgrades we've been making or  planning to make in the next year or so  definitely necessary geez  um in my opinion anyways so move second  Motion in a second any further  discussion or comments  all right  hearing none all those in favor of the  motion please say aye aye any opposition  all right motion passes item number 22  is a resolution to award bid to WR  Mitchell contractor Inc for the USA map  water line upgrade and relocation with a  total bid proposal not to exceed 79 700  and this is a relocate due to a turn  lane that's not being done just for that  USA campus but that's the location of it  so  just how it was identified  any questions for Jason on this item  was this a pass-through cost  it wasn't  any further  comments or questions I make a motion to  approve second got a motion in a second  all right any further discussion  because there there's no Aid to  construction on this  this was a relocation because we had to  we had a cap aldot required us because  our line was underneath our turn lane we  had to move the line so we had to cap it  and now we're having to move it  that's a good enough answering this all  right we've got a motion and a second  all those in favor of the resolution  please say aye  any opposition  all right motion passes  um item number 23 is a resolution toward  bid to Larry Puckett Chevrolet for a new  Chevrolet 4500 hd Silverado regular cab  four-wheel drive or equivalent with a  total bid proposal not to exceed 56 584  dollars I believe Jason mentioned they  had it budgeted at 68 and the the  vehicle is on the yard and they're  replacing a 2006 got the bed and crane  and everything can attach to that  so all all in all we're saving a fairly  substantial amount so  any questions for Jason on that vehicle  you don't the Crane's not  okay  thank you for clarifying that I make a  motion to approve second got a motion in  a second any further discussion on this  or comment  all right  hearing none all those in favor of the  motion police say I I  any opposition  all right generation passes  um item number 24 is a resolution that  the city council approves and adopts the  recommendations to fund new positions  and approve pay grades reclassify  positions and delete positions as  presented in the fiscal year 2023 budget  and then said resolution  mayor would you mind coming back up and  just covering this again I know we've  discussed it in the work session but  there's probably a lot of people  watching that that weren't watching  earlier no I'll be happy to so what's  included in the Personnel portion of  this budget is 37 new positions that  includes seven new positions in the  police department  adding three positions to patrol a beach  patrol officer Communications some  promotions and then nine new Public  Works positions which includes a street  crew a right-of-way inspector and Mark  Mo people to mow the grass or gardeners  and then two new employees in sanitation  which will be sanitation Hoppers and 10  new positions in water and wastewater  including an administrative position it  also includes five seasonal or intern  positions in Recreation Public Works  utilities police and includes several  reclassifications from part-time to  full-time or promotions in various  departments  and I did speak earlier just talking  about the salary budget that we do  continue to see an increase in the  salary budget we typically are trending  about 2 million a year this year it's a  little over 3 million and that is in  part because of the the five percent pay  increases that we gave that was about a  million dollars in um June or July I  think it was July  um Council  I'm sure you've got some questions or  comments on on this item so please  consider the floor open and just ask the  mayor  what's a community outreach and  communication specialist doing for the  police department  um that person will be responsible for  social media for working with any  Community organizations that need that  are putting on events to map those  routes out to make sure they have the  officers that they need if they have to  close roads those kind of things  there is not anybody handling it now  it was being done before they were there  was a shared position  um yeah yeah chief  yeah but she but she is doing it now  because of the volume is that um if I  may uh council president Jack just to  piggyback is that when people are  getting permitted and they they pay us  or the office I do for that okay for off  duty security or if I mean for instance  FIFA I think is up here to do an event  and that requires review by the police  department to make sure if they're  street closures that kind of stuff  anything I miss chief  no okay  I know this represents a substantial uh  increase to Personnel but I know that's  sometimes a challenge to even  you approve 37 positions and it's going  to be a challenge to get them all filled  especially if it's uh  environment and I think you mentioned  earlier that we do budget at 100 I mean  some of these positions we obviously may  not be able to fill right away we still  have openings in some of our utilities  and in other departments but you know we  will do our best to make sure they get  filled and make sure they have the  resources that they need and so we're  looking at a balanced budget factoring  in all of these people starting correct  on day one correct first day of the  fiscal year correct okay  council members any any additional  questions did we already vote I mean we  haven't had a motion yet so moved all  right  motion and a second I can't remember any  further discussion  hearing none all those in favor of the  motion and the resolution please say aye  all right any opposition  all right motion passes  um item number 25 is a resolution that  the fiscal year the proposed fiscal year  22 and 2023  budget presented and reviewed this 26th  day of September 2022 be hereby approved  and adopted for the fiscal year  2022-2023. mayor again I don't ask you  to do all that I'll hit the highlights  for people watching I'll be happy to and  thank you for your vote on the previous  agenda item I appreciate that um so the  2023 budget highlights include of course  our Focus has been infrastructure and  growth and they continue to be a primary  focus not only of the staff but of the  budget there's 43 million dollars in  utility Investments one million dollars  in resurfacing and drainage a million  dollars in traffic Improvement projects  for Public Safety there's of course new  police officers and new vehicles Public  Works includes new trash trucks a new  Street crew right-of-way inspector and  sanitation employees of course  protecting our natural environment and  enhancing our Parks is always a priority  for the city and so we have almost four  million dollars in part investments in  this budget a million dollars in  investments in quality of life projects  which include the K1 center renovation  the courtyard in downtown Fairhope near  the clock and continuing to you know  build sidewalks throughout Town also  this does include the Personnel cost  which is the 37 new positions between  the utilities and general government  that you just voted on also Merit  increases of two percent for employees  which will be Performance Based that  will be up to department heads to be  able to use those as a Performance Tool  and also continuing to evaluate the  simple health clinic for the employees  and hopefully look some cost savings  that we'll see with that once it's open  in a year in March  so um  again we have almost 130 million dollar  budget and that includes 37 million in  the general fund and then 28 million in  the electric fund 37 million in the  water and sewer fund 10 million in the  gas fund and 8 million in capital  projects  this budget is compared over last budget  year to this budget Year we're showing  at 12 percent increase in the budget  and again we continue to see our sources  of revenues from ad valorem tax at 22  percent local taxes at 39 percent and  license and permits at 13 percent and  that's our revenues again we're very  conservative on budgeting our revenues  which we talked about earlier Kim and  her staff do a great job with that as  well as the council by looking at that  and making sure we're not you know going  crazy with the revenues so we can make  sure we have some little extra in the in  the end to hopefully transfer to the  Capital Improvements fund we also have  our budgeted expenses General government  you'll see it 25 percent for expenses  Public Safety at 26 percent public works  at 18 percent and Recreation at 21  percent  so pretty much our whole you know the  majority of our budget is made up of  those items  we'll continue to invest in  infrastructure and and Recreation  um we have you know a competition track  we have restroom facilities new upgrades  to lighting um and of course the the tri  the north triangle Nature Park which is  one a little over a million dollars for  my Mesa Grant also adding six pickleball  courts at Quail Creek  and streets department or Public Works  we have a continued investment in Street  resurfacing drainage projects the Bratz  Transit Hub the roundabout the  engineering for the roundabout at 104 in  section and ADA compliance projects  we have a force in our utilities we  continue to invest in that  infrastructure we have the gas  department just with system upgrades and  the engineering for the cast iron or  leak probe pipe replacement and facility  upgrades that's a two million dollars  electric Department infrastructure  upgrades is at 6 million and that's the  upgrades on the substations and also the  the loop looping our system to make for  a more redundant system also downtown  underground services and Ami are  automated metering infrastructure the  water and wastewater Department  combined those two departments well 14  million in the water department and 20  million in Wastewater and will continue  with what our main enforcement upgrades  to scada upgrades lift station upgrades  water tank maintenance and facility  upgrades  that does include the 10 million in  restore grants that y'all approve  tonight as well  and then there is a laundry list of  things like vehicles and generators and  new servers in general government and  then also in Recreation fitness  equipment upgrades and then the street  department you're going to have street  sweepers and concrete mixer trucks and  barricades and vehicles so there's a lot  of Capital Equipment here that includes  a 250 000 contribution towards the  library and their expansion on the  second floor  and then one other thing that I just  went over in the budget previously in  the work session was to talk about our  community Appropriations that does  include 875 000 to the library  150 000 to The Haven 57 000 to the  rotary youth club and then various  Community Partners for 200 000 said  that's totally more than 1.2 million  dollars in community Appropriations  thank you mayor a little intend for you  to have to go over all no that's good  that's good it was quick it was quick  um council members I know we've we've  covered this in the work session and um  and we've covered it through through  many work sessions leading up until now  but I I just want to say again how much  I appreciate uh the mayor her staff Kim  Haslam the the department heads and then  all of you for for all the hours you put  in  uh up here at Council meetings in in  separate meetings uh two at a time  during the work day when you're taken  away from your your  your day job and even on as I mentioned  earlier even on Sunday afternoons  whether you were reviewing it on your  own or whether you're up here at City  Hall reviewing it with them  with the mayor and Kim so I just want to  say  appreciate all the effort put in and  please if you got any additional  questions for the mayor Kim go ahead and  ask him now  council president I got I want to point  out certain things I do have one  question as it pertains to the  resolution itself and you know the first  thing I want to point out is that  um we are taking the the portion of the  sales to the use tax that was restricted  to the general fund debt-free payment  account and we are putting that towards  general fund operations that's 2.8  million dollars this year uh and one  reason we're able to do that is because  we got the city uh the general fund  pretty much out of debt so we knew that  if we got ourselves out of debt several  years ago we would be able to use more  money for other uses so that's a that's  a real positive thing that we have that  2.8 billion additional I want to point  that out because it's still in the  audience that a quarter percent or a  quarter of the sales tax quarter the  Edge  one quarter of a percent of the two  percent that we have right  or is it a half it's a half of it  it's a quarter of it yeah a half a  percent yeah so then the second part of  that is  the money that was restricted it was  another half a percent which is a  quarter of the total sales tax is what I  was trying to say was restricted to the  capital projects fund that's now being  diverted to the general fund operations  and the amount of in these are estimated  2.8 billion  that does concern me because we have  less money for capital projects and  that's having to go to operations that's  that's why we ask a lot of tough  questions about  salaries personnel and adding positions  and things that we have to fund due to  growth but it is just so you know it's  diverting 2.8 million dollars it was  designated for Capital Improvements  but be that as it may we've had to do  that in these times but lastly I I just  want to ask a question  uh it says that  administrative budget transfer including  transfers from one line item to another  within a Department's operating budget  or within a capital project  and we're authorizing the city treasury  to do that  so in the past if let's say they did  spend money on something that gives you  the authority to take that money and put  it on some other line item  uh is that am I reading that correct  without having to be brought back before  the council  so if we don't spend money on a line  item  that the treasurer would if I read that  right has the authority to take that and  put it on some other one item  it was it was put in there as an  administrative tool for when we had I  don't know buy some tires that we didn't  we didn't use another supply line and  they need they needed to go and buy some  tires or they have a truck that just  broke their transmission it was trying  to move some small amounts from one line  from like supplies to general  maintenance or yeah yes it's almost the  fifty thousand dollars anything anything  less if it's a large amount that I  wanted to come back to you but it was  trying to save something more  specifically budget transfers less than  50 000 requires approval by the American  city treasurer but it doesn't have any  limit on how much you could move  um  what I was wanting it to be is is less  anything less than 50. but if it has to  do with Personnel Personnel comes to  y'all y'all are the ones that does  Personnel but it was just to be able to  do some small dollar amounts that could  be moved for those examples of that  we've run into that we have a truck that  had a transmission come out of a garbage  truck and it's a large dollar amount and  they wouldn't expect in it and now we  needed to move move ten thousand dollars  from a supply and I don't disagree with  any of that I think that that that  paragraph not tight enough to Define  that though  um what would you recommend I mean that  was that was something I just threw in  there that we run into  you know  fifty thousand dollars without  permission is a lot in my opinion it  kind of takes it's already budgeted  dollars I just want to make sure we  clarify that it's already budgeted  dollars it's just moving it from again  like general maintenance  to another that's if you pass it where  it's written it's any line item you want  to move it to any line item you want to  move  you tighten it up however you want to or  yeah yeah that's fine with us yes we  know what the intent is  and so not 50 000 total but any item  under 50. correct okay yeah you can  tighten it up if you want that number to  be  um ten thousand five thousand but it was  just trying to look in some of the  instances that we have a a supplies that  a truck and this is what I'm going by  it's general maintenance a maintenance  item that comes in and that we have some  money in supplies  that we can get that maintenance done  but we don't have any money left in  maintenance so we'd be able to transfer  between the two but it's already  budgeted money  well I think maybe for example if you're  thinking of a  a 48 000 truck in the budget and you  decide not to buy the truck  then you just move it to a different  different line items and we could and we  could limit that where it's just  operations and not capital and not  personnel and I'm I'm good with that  well  I'm trying to come up with some language  in my mind it just says it's got to be a  like expense  that makes sense I'm not sure how to I'm  looking at our attorneys and put them to  our person guidance maybe is how you  keep it to something like for like well  do you want to  um  delete a truck and buy a swimming pools  let me ask you if I may let me ask this  if I may how are we doing it now are  they coming to council with that coming  to the council so you're trying to say  that's something that doesn't need to  let I'm just yeah I'm being Dev you're  saying that's something that does not  need to come to council but because it's  already budgeted money like so we may  have to take five thousand dollars out  of supplies to move into Richard's  maintenance budget because he doesn't  have the five thousand there to fix a  garbage truck  that's the kind of stuff that we're  trying to just be able to handle  administratively without the purchase  still has to come back to us though  right but not if it's five thousand no  no I'm saying I mean but but if it's the  50 000 that we're talking about I mean  if it's it'd have to come back yes yeah  I can do that yeah not to this it's  saying that it's not a diverse yeah but  what I'm saying is even budgeted items  come back before the council no that  what we're saying is this is saying not  just as the world exists today oh today  yes sir when there is a budgeted item it  still comes back before us to approve  budgeted or not budgeted if it is  budgeted and depends on if it's a if  it's a ward of a bid what of a bid  you're the awarding authority but if  it's purchased off of the state bid  um it doesn't if it's budgeted  well you just changed that last year too  yeah  but you I mean this was an intent that  it's that it's a forty thousand dollars  this was the five ten thousand dollars  and maybe everyone would be comfortable  we just lower that direction  we afford them a lot of of uh trust and  do 20.  and if y'all remember y'all approved  some of those budget amendments probably  I guess probably two or three meetings  ago when we came in with the whole  laundry list I think councilman Burrell  commented and he's like y'all like to  see it Consolidated like this those are  the kind of things that we're talking  about that are really it's almost nickel  and diamond in a budget this large but  we know what the intent was we might not  have put it on paper correctly but and  we have to track those from the audit  because here's the original budget and  then when the Auditors come in I have to  give them the original budget and I have  to give them any amendments to the  budget so these are being tracked so  this is something that at any point I'll  be able to give y'all a report of here's  the any amendments here's any changes we  made we can't just willy-nilly go in  there and decide we want to move here  and here we got to look at it we got a  document we got to put it on a  spreadsheet to track it ourselves  because that's something we have to hand  to the auditor so and you know  understand that this is not picking on  the two of you but when these things get  written in these things tend to  perpetuate year after year  you know who knows that language might  still be in that budget adoption  resolution in five years to where  somebody just says hey I can move this  from here to here whenever I want and I  can right now spend money on my pet  projects what are some other thresholds  like mayor what's your uh threshold for  being able to just sign off on five  thousand five  I was going to thank you for bringing it  up to that level but I know that was  only five I was thinking that was higher  than that 15 20. I mean if I don't know  if five works with what they're trying  to get accomplished I think 15 or 20s I  mean a little bit more room 15. 15 or 20  as well yeah we'll get a benefit of down  until 20.  so do we need we don't I don't think we  have to amend it we haven't made a  motion yet we can just you have to edit  that if we uh is there are there any  other uh you you can I think ask her to  edit that to 20 if you want are there  any other items before we  let's do that which I wanted to we don't  have to amend that  yeah  but you can say make a motion I'm not  with you yeah that's right with the  changes yeah yeah would you mind  changing that to 20. thank you  any other discussion  anyone like to make a motion with with  that at twenty thousand is making mostly  approve the budget with that amendment  in place all right we've got a motion  second  got a motion and a second  any further discussion  all right hearing none all those in  favor of the budget please say aye aye  any opposition  all right motion passes thank y'all good  job thank you so much  um you can sleep get some sleep tonight  well the one thing I do want to say when  I went back and looked at budgets in the  past this is the first one in many years  to be passed Denver yes so this is a  victory for our team that that's that  was our goal is to be by September 30th  a lot of hard work and preparation went  into that so  thank you  item number 26 is a resolution that the  city council hereby approves the  homecoming parade in downtown Fairhope  for the fair of high school on Thursday  October 13th at 5 30 p.m the route  begins at the Fairhope Civic Center to  Fairhope Avenue left on fariba Avenue to  Bancroft Bancroft to Magnolia and then  back to the Fairhope Civic Center the  city will provide for Public Safety  and any questions or comments on this  one second resolution we got a motion in  a second  any further discussion  all right hearing none all those in  favor of the resolution please say  aye  anyone opposed all right motion carries  item number 27  . if y'all bear with me this is um  was added to the agenda this is a  resolution that the city of Fairhope did  request receive an open biz secure  services for tires for a 2018  caterpillar 918 M transfer station  loader at 555 South Section Street and  let's see at the point in time after  evaluating the bids  um the bid was awarded to McGriff Tire  Company and the total bid proposal is  not to exceed seventeen thousand six  hundred and nine dollars  and we covered this uh  we want this on Richard covered this  during the work session  as an add-on and this is for the  transfer station down there at uh  emotionally approve the resolution so  the second Motion in a second any  further discussion  any questions for Richard  all right hearing none all those a favor  please aye aye aye any opposed  all right motion passes  um item number 28.  see if I've got I don't know if I've got  a specific  resolution for this item but item number  28 is um  the special event request for uh for  thief  and this is going to be for the pianos  in the Park event and they're asking to  shut down the street basically School  Street between  School Street between Fairhope Avenue  and Murphy Avenue and the event is going  to be at the Halstead Amphitheater  on October the 22nd from 4 P.M to 10 p.m  where the hours they've requested  closure Chief do you want to speak to  that at all is there everything good  with the requests  okay  all right  counsel any questions I know we've got  some yeah council president I'd like to  uh I'd like to point out um  I guess we are strictly voting on to  allow the use of the streets yes sir  maybe even if they need them I don't  know a barricade but there was a letter  in the package that was asking to waive  those fees and you know I love y'all  about being big supporter fee but we  have an order since you can't pass away  fees and so I want a clarification that  we're only given permission to use the  use the street but the fees are  I think you'd agree extremely small I  think it comes out to twelve hundred  dollars yeah  yeah  well there may be security costs in that  yeah you can't wait security costs  security costs 800 plus  and I'm only saying that we have to  treat everybody everybody  any additional questions for chief or  for chief Representatives or comments  information  got a motion in a second  in another second all those in favor of  uh resolution please say aye  aye aye any opposition  all right motion passes  um  last item up on here is uh public  participation if you wish to address the  council for any items whether on the  agenda or not now is your time you got  three minutes  please give your name and address  clerk hi I'm Jennifer Fiddler and I live  at 20103 Bohemian Hall Road I just would  like to introduce myself I'm running for  district 94 the State House of  Representatives and I hope to follow our  representative Faust who we had the  honor of honoring tonight or you had the  honor of honoring tonight  I'd like to ask for your vote on  November the 8th this District  represents Fair most of Fair Hope not  all of north of Fairhope councilman Jack  Burrell is not in the district actually  but Fairhope Barnwell Point Clear Marlow  Fish River and Magnolia Springs are and  the areas west of 65 and 55. which is  where I live District 94 the office will  be at the Fairhope Courthouse  our Baldwin County Commission actually  regulated themselves in 2010 to offer up  their buildings to house Our House of  Representative our representative  delegation so we do have seven of us  that will be  um  representing Baldwin County at the state  level the State House level and on the  Senate side we have three  so that consists and comprises our  Baldwin County delegation legislative  delegation  so I would uh I just want to introduce  myself and tell you that I'm serve the  city of Fairhope as the Public Works  director between 2001 and 2017  and my mother and great great  grandparents are actually were born in  the district so I'm Seventh Generation  on Mom's side and 1930s in Silver Hill  on my father's side so I'm proud to be  able to  represent the district possibly with the  Republican nomination and the vote of  the people and I'll be proud to  represent the city of Fairhope at the  state level  any questions  well thank you thank you for being here  appreciate it Jennifer job well done  all right  I'm going to get back up and clarify so  I should let the experts talk about  things and I did not let Jason talk  about this but I'm going to clarify it  so councilman Martin asked after the  pfas conversation if we had to detect I  thought we had not to our current  standards because EPA is still interim  rolling we have tested to the new EPA  standards which is quadrennium  quadrillion and we do have a detect and  well number four it's something that  we're having to report to Adam quarterly  and there could be a possibility that we  will have to remediate but I wanted to I  wanted to clarify that because I was  incorrect that's to this new parts per  trillion correct it's actually not parts  per trillion it's quadrillion yeah we  work testing to trillion correct we work  testing and the way it was explained to  me is it's pretty much like a BB in a  box car that's when I was talking to  some representatives from Adam they were  like you know it's a BB in a box car is  really what you're testing to so um we  have had a detect  okay  all right thank you for the  clarification  all right the floor is still open if you  wish to address the council  all right let's see no one we're going  to go ahead and close the floor and  um Council we do have a letter here from  City attorney asking us to go into  executive session I'll read that real  quick as City attorney  Marcus McDowell I hereby requests of  farib city council going to Executive  session based on Section 36-25 A7 to  discuss pending and potential litigation  as City attorney I hereby request that  the city council of the city of Fairhope  rise from regular city council meeting  on Monday September 26th to go into  executive session the city council shall  be an executive session for  approximately 45 minutes  at the end  of executive sessions the council shall  return to the city council chambers to  resume regular council meeting do we  anticipate taking any actions no action  to be taken you're welcome to stick  around but if not we'll be back in 45  minutes  and the second and the always a favor  please say hi all right the time is 7  45. you know it's football  all those in favor  aye aye all right dismissed oh I got a  hustle to get to the game on Thursday  I'm playing in a golf tournament at the  uh are you playing foreign {00:00:06}\""
            ],
            "application/vnd.google.colaboratory.intrinsic+json": {
              "type": "string"
            }
          },
          "metadata": {},
          "execution_count": 211
        }
      ]
    },
    {
      "cell_type": "markdown",
      "source": [],
      "metadata": {
        "id": "mKAr8mVFsJVS"
      }
    },
    {
      "cell_type": "code",
      "source": [
        "new_doc.metadata"
      ],
      "metadata": {
        "colab": {
          "base_uri": "https://localhost:8080/"
        },
        "id": "haSw5Bc6sFQy",
        "outputId": "419b42e6-fcd8-4415-fc43-8dd7e1a98ed1"
      },
      "execution_count": 213,
      "outputs": [
        {
          "output_type": "execute_result",
          "data": {
            "text/plain": [
              "{'meeting_date': '2022-09-26', 'place_govt': 'MUNICIPAL COUNCIL', 'year': 2022}"
            ]
          },
          "metadata": {},
          "execution_count": 213
        }
      ]
    },
    {
      "cell_type": "code",
      "source": [
        "with open('fairhope.txt', 'w') as filehandle:\n",
        "    filehandle.write(doc)"
      ],
      "metadata": {
        "id": "O8XzfwraT9E1"
      },
      "execution_count": null,
      "outputs": []
    },
    {
      "cell_type": "code",
      "source": [
        "documents = SimpleDirectoryReader('.').load_data()"
      ],
      "metadata": {
        "id": "TPphmKZLUun-"
      },
      "execution_count": null,
      "outputs": []
    },
    {
      "cell_type": "code",
      "source": [
        "documents"
      ],
      "metadata": {
        "id": "95oIi26bU7iw"
      },
      "execution_count": null,
      "outputs": []
    },
    {
      "cell_type": "code",
      "source": [
        "index = VectorStoreIndex.from_documents(documents)"
      ],
      "metadata": {
        "id": "0ocXpdnpTrfe"
      },
      "execution_count": null,
      "outputs": []
    },
    {
      "cell_type": "code",
      "source": [
        "index.ref_doc_info"
      ],
      "metadata": {
        "colab": {
          "base_uri": "https://localhost:8080/"
        },
        "id": "1NJgicfsUAST",
        "outputId": "c086abde-021f-48e9-d930-a935a8d7db09"
      },
      "execution_count": null,
      "outputs": [
        {
          "output_type": "execute_result",
          "data": {
            "text/plain": [
              "{'0e9ac05d-a92f-49c3-9d67-3086af4f59ed': RefDocInfo(node_ids=['f61e5f55-a511-4265-b571-0d3de8b744a0', '9a35662a-150f-4ab7-b465-b072c72f751f', 'cc7373c5-d1f1-4b91-9016-08afbc9455bd', '8920e0f4-c578-4182-9cc4-39e352a0a9e4', '5e640ef1-7a03-4540-90fd-6473605f782d', 'bcb5dab6-eb39-4652-b567-c13d132f8ba3', '04304a07-3571-4ace-9fef-3ad67e432215', 'd3f75899-84ea-4835-9fa3-ad108d55248f', '8f65569a-48bb-4d84-8139-4ce5ecf977ef', '27f14e0d-98b0-43a5-89eb-9241fc25e8d3', 'd2eeff9e-b06f-4a33-9779-76f2c636e1b6', 'f23648f4-a3c7-4aa7-9983-76b0f8637620', 'f42492a1-0632-4595-a30a-0f1e6bed81c8', '16e312b6-a0bc-42ef-9967-aea2735f37f2', '411f7a2f-366d-40f3-a796-55224faf1e77', '4cb10750-1dbc-4cb6-942b-555e283e619b', '9ec1a51d-e9e8-4790-bea2-ce3f413d2717', '721a5279-69c9-4c44-b5b2-ee07c71568b0', 'e6b82462-fb4c-41df-ae39-e257a303152c', '23cc2faf-53f6-4703-a4e0-039af3b132e3'], metadata={})}"
            ]
          },
          "metadata": {},
          "execution_count": 99
        }
      ]
    },
    {
      "cell_type": "code",
      "source": [
        "prompt = \"Below is text from a public meeting. Identify a) when an individual is introduces themselves in a meeting. b) When an individual is introduced by someone else. In either case provide the individual that is the subject of the introduction's name and title as well as the preceding timecode. Given a time code formatted as follows: {00:00:05}\""
      ],
      "metadata": {
        "id": "mySGQNwSVPN-"
      },
      "execution_count": null,
      "outputs": []
    },
    {
      "cell_type": "code",
      "source": [
        "query_engine = index.as_query_engine()\n",
        "response = query_engine.query(prompt)"
      ],
      "metadata": {
        "id": "S57EarjDWGB9"
      },
      "execution_count": null,
      "outputs": []
    },
    {
      "cell_type": "code",
      "source": [
        "response"
      ],
      "metadata": {
        "colab": {
          "base_uri": "https://localhost:8080/"
        },
        "id": "2kfQBtDeWUg0",
        "outputId": "7dd53291-9bd4-41fe-b84b-b44898b192d8"
      },
      "execution_count": null,
      "outputs": [
        {
          "output_type": "execute_result",
          "data": {
            "text/plain": [
              "Response(response='a) An individual introduces themselves in the meeting at {00:00:05}. The individual is the Public Works director of the city of Fairhope.\\nb) An individual is introduced by someone else at {00:00:45}. The individual being introduced is Mr. Faust, who has been a state Alabama representative for many years.', source_nodes=[NodeWithScore(node=TextNode(id_='23cc2faf-53f6-4703-a4e0-039af3b132e3', embedding=None, metadata={}, excluded_embed_metadata_keys=[], excluded_llm_metadata_keys=[], relationships={<NodeRelationship.SOURCE: '1'>: RelatedNodeInfo(node_id='0e9ac05d-a92f-49c3-9d67-3086af4f59ed', node_type=None, metadata={}, hash='e65012cd15ffc5bb70699ea49dc7b929a8448b5b304b30672dda4a59b9dd3a39'), <NodeRelationship.PREVIOUS: '2'>: RelatedNodeInfo(node_id='e6b82462-fb4c-41df-ae39-e257a303152c', node_type=None, metadata={}, hash='228a9371c1ca750d5932ae72f56c876cda515949a563b352e8fb959cd8293dc4')}, hash='e783703dc1f2c0f6df2ace24abf43ac914199f4719b804c2b136453e8d1ad6fc', text=\"which is  where I live District 94 the office will  be at the Fairhope Courthouse  our Baldwin County Commission actually  regulated themselves in 2010 to offer up  their buildings to house Our House of  Representative our representative  delegation so we do have seven of us  that will be  um  representing Baldwin County at the state  level the State House level and on the  Senate side we have three  so that consists and comprises our  Baldwin County delegation legislative  delegation  so I would uh I just want to introduce  myself and tell you that I'm serve the  city of Fairhope as the Public Works  director between 2001 and 2017  and my mother and great great  grandparents are actually were born in  the district so I'm Seventh Generation  on Mom's side and 1930s in Silver Hill  on my father's side so I'm proud to be  able to  represent the district possibly with the  Republican nomination and the vote of  the people and I'll be proud to  represent the city of Fairhope at the  state level  any questions  well thank you thank you for being here  appreciate it Jennifer job well done  all right  I'm going to get back up and clarify so  I should let the experts talk about  things and I did not let Jason talk  about this but I'm going to clarify it  so councilman Martin asked after the  pfas conversation if we had to detect I  thought we had not to our current  standards because EPA is still interim  rolling we have tested to the new EPA  standards which is quadrennium  quadrillion and we do have a detect and  well number four it's something that  we're having to report to Adam quarterly  and there could be a possibility that we  will have to remediate but I wanted to I  wanted to clarify that because I was  incorrect that's to this new parts per  trillion correct it's actually not parts  per trillion it's quadrillion yeah we  work testing to trillion correct we work  testing and the way it was explained to  me is it's pretty much like a BB in a  box car that's when I was talking to  some representatives from Adam they were  like you know it's a BB in a box car is  really what you're testing to so um we  have had a detect  okay  all right thank you for the  clarification  all right the floor is still open if you  wish to address the council  all right let's see no one we're going  to go ahead and close the floor and  um Council we do have a letter here from  City attorney asking us to go into  executive session I'll read that real  quick as City attorney  Marcus McDowell I hereby requests of  farib city council going to Executive  session based on Section 36-25 A7 to  discuss pending and potential litigation  as City attorney I hereby request that  the city council of the city of Fairhope  rise from regular city council meeting  on Monday September 26th to go into  executive session the city council shall  be an executive session for  approximately 45 minutes  at the end  of executive sessions the council shall  return to the city council chambers to  resume regular council meeting do we  anticipate taking any actions no action  to be taken you're welcome to stick  around but if not we'll be back in 45  minutes  and the second and the always a favor  please say hi all right the time is 7  45. you know it's football  all those in favor  aye aye all right dismissed oh I got a  hustle to get to the game on Thursday  I'm playing in a golf tournament at the  uh are you playing foreign {00:00:06}\", start_char_idx=None, end_char_idx=None, text_template='{metadata_str}\\n\\n{content}', metadata_template='{key}: {value}', metadata_seperator='\\n'), score=0.7613430834647243), NodeWithScore(node=TextNode(id_='f61e5f55-a511-4265-b571-0d3de8b744a0', embedding=None, metadata={}, excluded_embed_metadata_keys=[], excluded_llm_metadata_keys=[], relationships={<NodeRelationship.SOURCE: '1'>: RelatedNodeInfo(node_id='0e9ac05d-a92f-49c3-9d67-3086af4f59ed', node_type=None, metadata={}, hash='e65012cd15ffc5bb70699ea49dc7b929a8448b5b304b30672dda4a59b9dd3a39'), <NodeRelationship.NEXT: '3'>: RelatedNodeInfo(node_id='9a35662a-150f-4ab7-b465-b072c72f751f', node_type=None, metadata={}, hash='1677bfb776d9e3d63199ca91064f090305f2bc2119c928fcfa00ba77fbd8365c')}, hash='13a81ee3a8b787432ac64b38a8a9697926081c03c48bbab2454379cb57725275', text=\"{00:00:05} everybody we're gonna go ahead and get  started  all right  uh welcome to the September 26 Fairhope  city council meeting appreciate everyone  coming out in attendance we're going to  have Pastor Rick mulligoni  um from Fairhope Christian church with  the opening prayer followed by the  pledge  thank you Pastor  let us pray  most gracious and living God we call in  your spirit to fill this place this  evening we pray for patients as  different views are expressed we pray  for guidance to make the the best  decision possible and praise for the  pray for the will to work together for  the common good we're asking a blessing  upon all the leadership here as with all  who are present who have an interest in  the future of this great City in  Christ's name we pray amen  indivisible with liberty and justice for  all  thank you Pastor  all right Council uh before we get  started today I've got um one item is  being pulled from the council agenda  anyone in the audience item number seven  is being pulled I've got two items to  request to add to the agenda uh one we  discussed in the work session and that  was the tires for the uh caterpillar 918  at the transfer station the other item I  just missed when we were going over the  work session and that is uh Thief has  requested  um the use of  the thief is hosting  a piano  I'm trying to find where that is pianos  in the Park event and they are  requesting uh use of sidewalk streets  Etc and we can get into more detail on  that when we get there but that request  is for October 22nd event so they didn't  want to delay any longer than adding  that  I mean the event itself I believe is  being held  at the Halstead Amphitheater  and they're just wanting to block off  some of that area on School Street  between morphe and Fairhope Avenue  for Access so  if y'all would Council I'm looking for a  motion to  all right motion to add  and a second  any discussion  all right hearing none those in favor of  the motion please die  aye any opposition  all right motion passes an item that'll  make item number 27 uh will be the  tires and item number 28 will be the  FIFA event  okay uh first item up then on the  council agenda is the approval of the  minutes from the September 12th council  meeting and the September 12th work  session  make a motion to approve got a motion  check approve in a second any discussion  all right hearing none all those in  favor please say aye aye aye any opposed  all right motion passes mayor your  report  good evening I just have a couple things  tonight first and foremost we're going  to be reviewing the budget on the  council agenda tonight I really want to  thank the staff Kim and Iceland in  particular from treasury for their hard  work on the budget and also thank the  council for the hours that we've spent  going through the budget so um hopefully  we can get that passed tonight and again  just want to thank everybody for their  input on that the second thing I want to  do is honor somebody pretty special here  to Fairhope and to me Mr Faust  I'm going to make you stand up here with  me for just a minute  you can't you can stand right you  can so as most of us know Mr Faust has  been a state Alabama state  representative for many years and he is  going to be retiring to go home to enjoy  his retirement and so I wanted to do  something to recognize him and just tell  him how much we appreciate his service  to not only fair hope but to Baldwin  County and to the state of Alabama so I  have a certificate appreciation it says  this certificate is awarded to Joe Faust  in recognitions of his many years of  Public Service to the Baldwin County  Commission where he served as chairman  of the Baldwin County Commission Vice  chair of the Baldwin County Commission  and chairman of the county economic  development committee chairman of the  parks and Land Management and vice chair  of the committee on environmental  resources and his service to the state  of Alabama as an Alabama house  representative from 2002 to 2022. as an  Alabama house representative his  committee assignments including Service  as a member of the Baldwin County  legislative delegation Agricultural and  Forestry Transportation utilities and  infrastructure these years of dedication  and commitment are to be commended Joe  is also a former board member of the  Baldwin County Economic Development  Alliance former board member of the  Eastern Shore Chamber of Commerce and  has served as a board member for the  Marietta Johnson School of organic  education serving our state county and  Community\", start_char_idx=None, end_char_idx=None, text_template='{metadata_str}\\n\\n{content}', metadata_template='{key}: {value}', metadata_seperator='\\n'), score=0.7487273427482058)], metadata={'23cc2faf-53f6-4703-a4e0-039af3b132e3': {}, 'f61e5f55-a511-4265-b571-0d3de8b744a0': {}})"
            ]
          },
          "metadata": {},
          "execution_count": 103
        }
      ]
    },
    {
      "cell_type": "code",
      "source": [],
      "metadata": {
        "id": "iOpxnJBnWX4F"
      },
      "execution_count": null,
      "outputs": []
    }
  ]
}